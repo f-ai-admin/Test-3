{
 "cells": [
  {
   "cell_type": "code",
   "execution_count": 28,
   "id": "7fb7237a-96ad-4206-8132-f634f2f11ed4",
   "metadata": {},
   "outputs": [],
   "source": [
    "config = {\n",
    "    'accounts': {\n",
    "        'Ledger':[],\n",
    "        'Sub ledger':[],\n",
    "        'Account':[],\n",
    "        'Sub account':[],\n",
    "        'Ledger Name':[],\n",
    "        'Category 1':[],\n",
    "        'Category 2':[],\n",
    "        \n",
    "}}"
   ]
  },
  {
   "cell_type": "markdown",
   "id": "36e7390e-f66c-4c95-b6d3-9da690cbebff",
   "metadata": {},
   "source": [
    "#Add data into the config file using user_input"
   ]
  },
  {
   "cell_type": "code",
   "execution_count": 13,
   "id": "57dd738b-704a-407b-85d2-6d8ecceeda40",
   "metadata": {},
   "outputs": [],
   "source": [
    "\n",
    "def user_input():\n",
    "    ledger  = input(\"Enter ledger \")\n",
    "    config['accounts']['Ledger'].append(ledger)\n",
    "    \n",
    "    sub_ledger = input(\"Enter sub_ledger \")\n",
    "    config['accounts']['Sub ledger'].append(sub_ledger)\n",
    "    \n",
    "    account = input(\"Enter account\")\n",
    "    config['accounts']['Account'].append(account)\n",
    "    \n",
    "    sub_account_type = input(\"Enter sub-account type: \")\n",
    "    config['accounts']['Sub account'].append(sub_account_type)\n",
    "\n",
    "    Ledger_Name = input(\"Enter Ledger_Name type: \")\n",
    "    config['accounts']['Ledger Name'].append(Ledger_Name)\n",
    "    \n",
    "    category1 =  input(\"Enter category1 name\")\n",
    "    config['accounts']['Category 1'].append(category1)\n",
    "    \n",
    "    category2 = input(\"Enter category1 name\")\n",
    "    config['accounts']['Category 2'].append(category2)\n",
    "\n"
   ]
  },
  {
   "cell_type": "code",
   "execution_count": 14,
   "id": "7c215247-311f-4379-a79a-ecbd884e268a",
   "metadata": {},
   "outputs": [
    {
     "name": "stdin",
     "output_type": "stream",
     "text": [
      "Enter ledger  Asset\n",
      "Enter sub_ledger  Current Asset\n",
      "Enter account Bank\n",
      "Enter sub-account type:  HSBC\n",
      "Enter Ledger_Name type:  HSBC1001\n",
      "Enter category1 name a\n",
      "Enter category1 name b\n"
     ]
    }
   ],
   "source": [
    "user_input()"
   ]
  },
  {
   "cell_type": "code",
   "execution_count": 15,
   "id": "3de785c9-ccfe-41f2-afa3-f89767674701",
   "metadata": {},
   "outputs": [
    {
     "data": {
      "text/plain": [
       "{'accounts': {'Ledger': ['Asset'],\n",
       "  'Sub ledger': ['Current Asset'],\n",
       "  'Account': ['Bank'],\n",
       "  'Sub account': ['HSBC'],\n",
       "  'Ledger Name': ['HSBC1001'],\n",
       "  'Category 1': ['a'],\n",
       "  'Category 2': ['b']}}"
      ]
     },
     "execution_count": 15,
     "metadata": {},
     "output_type": "execute_result"
    }
   ],
   "source": [
    "config"
   ]
  },
  {
   "cell_type": "code",
   "execution_count": 16,
   "id": "0635e4c5-5123-4606-ac00-8b721fbf2bd4",
   "metadata": {},
   "outputs": [
    {
     "data": {
      "text/html": [
       "<div>\n",
       "<style scoped>\n",
       "    .dataframe tbody tr th:only-of-type {\n",
       "        vertical-align: middle;\n",
       "    }\n",
       "\n",
       "    .dataframe tbody tr th {\n",
       "        vertical-align: top;\n",
       "    }\n",
       "\n",
       "    .dataframe thead th {\n",
       "        text-align: right;\n",
       "    }\n",
       "</style>\n",
       "<table border=\"1\" class=\"dataframe\">\n",
       "  <thead>\n",
       "    <tr style=\"text-align: right;\">\n",
       "      <th></th>\n",
       "      <th>Ledger</th>\n",
       "      <th>Sub ledger</th>\n",
       "      <th>Account</th>\n",
       "      <th>Sub account</th>\n",
       "      <th>Ledger Name</th>\n",
       "      <th>Category 1</th>\n",
       "      <th>Category 2</th>\n",
       "    </tr>\n",
       "  </thead>\n",
       "  <tbody>\n",
       "    <tr>\n",
       "      <th>0</th>\n",
       "      <td>Asset</td>\n",
       "      <td>Current Asset</td>\n",
       "      <td>Bank</td>\n",
       "      <td>HSBC</td>\n",
       "      <td>HSBC1001</td>\n",
       "      <td>a</td>\n",
       "      <td>b</td>\n",
       "    </tr>\n",
       "  </tbody>\n",
       "</table>\n",
       "</div>"
      ],
      "text/plain": [
       "  Ledger     Sub ledger Account Sub account Ledger Name Category 1 Category 2\n",
       "0  Asset  Current Asset    Bank        HSBC    HSBC1001          a          b"
      ]
     },
     "execution_count": 16,
     "metadata": {},
     "output_type": "execute_result"
    }
   ],
   "source": [
    "import pandas as pd\n",
    "pd.DataFrame(config['accounts'])"
   ]
  },
  {
   "cell_type": "markdown",
   "id": "a2b224d7-2a01-4377-8848-3295f8d78e0b",
   "metadata": {},
   "source": [
    "# taking information from the excel file and save into the config file"
   ]
  },
  {
   "cell_type": "code",
   "execution_count": 17,
   "id": "12c153be-ccb8-4149-81b4-a1457ef22877",
   "metadata": {},
   "outputs": [],
   "source": [
    "import pandas as pd"
   ]
  },
  {
   "cell_type": "code",
   "execution_count": 29,
   "id": "13e6a814-442d-4329-98db-e464813598ae",
   "metadata": {},
   "outputs": [],
   "source": [
    "df = pd.read_excel('demo.xlsx',  engine='openpyxl')"
   ]
  },
  {
   "cell_type": "code",
   "execution_count": 30,
   "id": "587d0442-16ec-4a86-8edc-4738f9b06a4b",
   "metadata": {},
   "outputs": [],
   "source": [
    "ledger = df['Ledger']\n",
    "sub_ledger = df['Sub ledger']\n",
    "account = df['Account']\n",
    "sub_account_type = df['Sub account']\n",
    "Ledger_Name = df['Ledger Name']\n",
    "category_1 = df['Category 1']\n",
    "category_2 = df['Category 2']\n"
   ]
  },
  {
   "cell_type": "code",
   "execution_count": 31,
   "id": "ec2ab0b9-b245-4b54-a926-9a76a6ec037d",
   "metadata": {},
   "outputs": [],
   "source": [
    "for i in range(len(ledger)):\n",
    "    config['accounts']['Ledger'].append(ledger[i])\n",
    "    config['accounts']['Sub ledger'].append(sub_ledger[i])\n",
    "    config['accounts']['Account'].append(account[i])\n",
    "    config['accounts']['Sub account'].append(sub_account_type[i])\n",
    "    config['accounts']['Ledger Name'].append(Ledger_Name[i])\n",
    "    config['accounts']['Category 1'].append(category_1[i])\n",
    "    config['accounts']['Category 2'].append(category_2[i])"
   ]
  },
  {
   "cell_type": "code",
   "execution_count": 32,
   "id": "c646057f-550d-4a52-9da2-f593e6c0fa5f",
   "metadata": {},
   "outputs": [
    {
     "data": {
      "text/html": [
       "<div>\n",
       "<style scoped>\n",
       "    .dataframe tbody tr th:only-of-type {\n",
       "        vertical-align: middle;\n",
       "    }\n",
       "\n",
       "    .dataframe tbody tr th {\n",
       "        vertical-align: top;\n",
       "    }\n",
       "\n",
       "    .dataframe thead th {\n",
       "        text-align: right;\n",
       "    }\n",
       "</style>\n",
       "<table border=\"1\" class=\"dataframe\">\n",
       "  <thead>\n",
       "    <tr style=\"text-align: right;\">\n",
       "      <th></th>\n",
       "      <th>Ledger</th>\n",
       "      <th>Sub ledger</th>\n",
       "      <th>Account</th>\n",
       "      <th>Sub account</th>\n",
       "      <th>Ledger Name</th>\n",
       "      <th>Category 1</th>\n",
       "      <th>Category 2</th>\n",
       "    </tr>\n",
       "  </thead>\n",
       "  <tbody>\n",
       "    <tr>\n",
       "      <th>0</th>\n",
       "      <td>Asset</td>\n",
       "      <td>Current Asset</td>\n",
       "      <td>Bank</td>\n",
       "      <td>HSBC</td>\n",
       "      <td>HSBC1001</td>\n",
       "      <td>a</td>\n",
       "      <td>b</td>\n",
       "    </tr>\n",
       "    <tr>\n",
       "      <th>1</th>\n",
       "      <td>Asset</td>\n",
       "      <td>Current Asset</td>\n",
       "      <td>Bank</td>\n",
       "      <td>HSBC</td>\n",
       "      <td>HSBC 1002</td>\n",
       "      <td>c</td>\n",
       "      <td>d</td>\n",
       "    </tr>\n",
       "  </tbody>\n",
       "</table>\n",
       "</div>"
      ],
      "text/plain": [
       "  Ledger     Sub ledger Account Sub account Ledger Name Category 1 Category 2\n",
       "0  Asset  Current Asset    Bank        HSBC    HSBC1001          a          b\n",
       "1  Asset  Current Asset    Bank        HSBC   HSBC 1002          c          d"
      ]
     },
     "execution_count": 32,
     "metadata": {},
     "output_type": "execute_result"
    }
   ],
   "source": [
    "import pandas as pd\n",
    "pd.DataFrame(config['accounts'])"
   ]
  },
  {
   "cell_type": "code",
   "execution_count": null,
   "id": "ad13388a-5b1b-42fb-ad1f-ee596f8bb74f",
   "metadata": {},
   "outputs": [],
   "source": []
  },
  {
   "cell_type": "code",
   "execution_count": 53,
   "id": "3676d9cb-62b5-4cfa-8b6b-526261002369",
   "metadata": {},
   "outputs": [],
   "source": [
    "config2 = {\n",
    "    'accounts': {\n",
    "        \n",
    "        'Account':['Cash','CashEquivalents','ShortTermDeposits','AccountsReceivables'],\n",
    "        'account_sub_type':['CurrentAsset','CurrentAsset','CurrentAsset','CurrentAsset'],\n",
    "        'account_type':['Asset','Asset','Asset','Asset'],\n",
    "        \n",
    "    }\n",
    "}\n"
   ]
  },
  {
   "cell_type": "code",
   "execution_count": 54,
   "id": "7c31157f-54dc-4911-9827-99f66a030e68",
   "metadata": {},
   "outputs": [],
   "source": [
    "account_index = {}\n",
    "for i , key in enumerate(config2['accounts']['Account']):\n",
    "    account_index[key] = i"
   ]
  },
  {
   "cell_type": "markdown",
   "id": "b1575bdc-133a-4a13-a860-e85aaef707b6",
   "metadata": {},
   "source": [
    "# Add data into the config file using user_input"
   ]
  },
  {
   "cell_type": "code",
   "execution_count": 55,
   "id": "524f18fb-d623-4ef9-98f5-e18da76626ee",
   "metadata": {},
   "outputs": [],
   "source": [
    "def user_input():\n",
    "    \n",
    "    account = input(\"Enter account\")\n",
    "    config2['accounts']['Account'].append(account)\n",
    "\n",
    "    \n",
    "    sub_account_type = input(\"Enter sub-account type: \")\n",
    "    config2['accounts']['account_sub_type'].append(sub_account_type)\n",
    "\n",
    "    account_type = input(\"Enter Ledger_Name type: \")\n",
    "    config2['accounts']['account_type'].append(account_type)\n"
   ]
  },
  {
   "cell_type": "code",
   "execution_count": 56,
   "id": "2046a4a6-5433-4b21-9b3c-64a65e900c5c",
   "metadata": {},
   "outputs": [
    {
     "name": "stdin",
     "output_type": "stream",
     "text": [
      "Enter account Inventory\n",
      "Enter sub-account type:  CurrentAsset\n",
      "Enter Ledger_Name type:  Asset\n"
     ]
    }
   ],
   "source": [
    "user_input()"
   ]
  },
  {
   "cell_type": "code",
   "execution_count": 57,
   "id": "7af0381d-4d5e-4bfe-b4e7-9c2fefcec765",
   "metadata": {},
   "outputs": [
    {
     "data": {
      "text/plain": [
       "{'Account': ['Cash',\n",
       "  'CashEquivalents',\n",
       "  'ShortTermDeposits',\n",
       "  'AccountsReceivables',\n",
       "  'Inventory'],\n",
       " 'account_sub_type': ['CurrentAsset',\n",
       "  'CurrentAsset',\n",
       "  'CurrentAsset',\n",
       "  'CurrentAsset',\n",
       "  'CurrentAsset'],\n",
       " 'account_type': ['Asset', 'Asset', 'Asset', 'Asset', 'Asset']}"
      ]
     },
     "execution_count": 57,
     "metadata": {},
     "output_type": "execute_result"
    }
   ],
   "source": [
    "config2['accounts']"
   ]
  },
  {
   "cell_type": "code",
   "execution_count": 58,
   "id": "bc99cb77-e74c-4d89-9211-048b4d65efcc",
   "metadata": {},
   "outputs": [
    {
     "data": {
      "text/html": [
       "<div>\n",
       "<style scoped>\n",
       "    .dataframe tbody tr th:only-of-type {\n",
       "        vertical-align: middle;\n",
       "    }\n",
       "\n",
       "    .dataframe tbody tr th {\n",
       "        vertical-align: top;\n",
       "    }\n",
       "\n",
       "    .dataframe thead th {\n",
       "        text-align: right;\n",
       "    }\n",
       "</style>\n",
       "<table border=\"1\" class=\"dataframe\">\n",
       "  <thead>\n",
       "    <tr style=\"text-align: right;\">\n",
       "      <th></th>\n",
       "      <th>Account</th>\n",
       "      <th>account_sub_type</th>\n",
       "      <th>account_type</th>\n",
       "    </tr>\n",
       "  </thead>\n",
       "  <tbody>\n",
       "    <tr>\n",
       "      <th>0</th>\n",
       "      <td>Cash</td>\n",
       "      <td>CurrentAsset</td>\n",
       "      <td>Asset</td>\n",
       "    </tr>\n",
       "    <tr>\n",
       "      <th>1</th>\n",
       "      <td>CashEquivalents</td>\n",
       "      <td>CurrentAsset</td>\n",
       "      <td>Asset</td>\n",
       "    </tr>\n",
       "    <tr>\n",
       "      <th>2</th>\n",
       "      <td>ShortTermDeposits</td>\n",
       "      <td>CurrentAsset</td>\n",
       "      <td>Asset</td>\n",
       "    </tr>\n",
       "    <tr>\n",
       "      <th>3</th>\n",
       "      <td>AccountsReceivables</td>\n",
       "      <td>CurrentAsset</td>\n",
       "      <td>Asset</td>\n",
       "    </tr>\n",
       "    <tr>\n",
       "      <th>4</th>\n",
       "      <td>Inventory</td>\n",
       "      <td>CurrentAsset</td>\n",
       "      <td>Asset</td>\n",
       "    </tr>\n",
       "  </tbody>\n",
       "</table>\n",
       "</div>"
      ],
      "text/plain": [
       "               Account account_sub_type account_type\n",
       "0                 Cash     CurrentAsset        Asset\n",
       "1      CashEquivalents     CurrentAsset        Asset\n",
       "2    ShortTermDeposits     CurrentAsset        Asset\n",
       "3  AccountsReceivables     CurrentAsset        Asset\n",
       "4            Inventory     CurrentAsset        Asset"
      ]
     },
     "execution_count": 58,
     "metadata": {},
     "output_type": "execute_result"
    }
   ],
   "source": [
    "pd.DataFrame(config2['accounts'])"
   ]
  },
  {
   "cell_type": "code",
   "execution_count": null,
   "id": "137c115d-cbba-4fb0-aaf2-21cd0b8e7c93",
   "metadata": {},
   "outputs": [],
   "source": []
  }
 ],
 "metadata": {
  "kernelspec": {
   "display_name": "Python 3 (ipykernel)",
   "language": "python",
   "name": "python3"
  },
  "language_info": {
   "codemirror_mode": {
    "name": "ipython",
    "version": 3
   },
   "file_extension": ".py",
   "mimetype": "text/x-python",
   "name": "python",
   "nbconvert_exporter": "python",
   "pygments_lexer": "ipython3",
   "version": "3.9.0"
  }
 },
 "nbformat": 4,
 "nbformat_minor": 5
}
