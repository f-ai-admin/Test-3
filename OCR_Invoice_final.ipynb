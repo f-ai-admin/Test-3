{
 "cells": [
  {
   "cell_type": "markdown",
   "metadata": {
    "id": "j1Oo_ceFNOsF"
   },
   "source": [
    "# Reading text from pdf file \n",
    "\n",
    "\n",
    "11-01-2024"
   ]
  },
  {
   "cell_type": "markdown",
   "metadata": {},
   "source": [
    "<span style=\"color:blue\"> Installed pytesseract, tesseract-ocr python packages.These are OCR modules,OCR refers to Optical Character Recoginition and is a python method to detect text from images scanned documents </span>\n"
   ]
  },
  {
   "cell_type": "code",
   "execution_count": null,
   "metadata": {
    "colab": {
     "base_uri": "https://localhost:8080/"
    },
    "id": "gpbC26IO0XL-",
    "outputId": "8dd77ffd-0f5e-4a7b-8f57-b8567dca0339"
   },
   "outputs": [
    {
     "name": "stdout",
     "output_type": "stream",
     "text": [
      "Requirement already satisfied: pytesseract in /usr/local/lib/python3.10/dist-packages (0.3.10)\n",
      "Requirement already satisfied: packaging>=21.3 in /usr/local/lib/python3.10/dist-packages (from pytesseract) (23.2)\n",
      "Requirement already satisfied: Pillow>=8.0.0 in /usr/local/lib/python3.10/dist-packages (from pytesseract) (9.4.0)\n",
      "Reading package lists... Done\n",
      "Building dependency tree... Done\n",
      "Reading state information... Done\n",
      "tesseract-ocr is already the newest version (4.1.1-2.1build1).\n",
      "0 upgraded, 0 newly installed, 0 to remove and 24 not upgraded.\n"
     ]
    }
   ],
   "source": [
    "!pip install pytesseract\n",
    "!apt-get install tesseract-ocr\n"
   ]
  },
  {
   "cell_type": "markdown",
   "metadata": {},
   "source": [
    "<span style=\"color:blue\"><br> Used pdf2image package that contains the method 'convert_from_path' to convert a pdf to image and this image is then saved into the with the extention .jpg <br> <br>A function is created that, if a PDF file has multiple pages, converts them into separate images. </span>"
   ]
  },
  {
   "cell_type": "code",
   "execution_count": null,
   "metadata": {
    "id": "GUIS-ZrAPwtw"
   },
   "outputs": [],
   "source": [
    "from pdf2image import convert_from_path\n",
    "\n",
    "# Specify your PDF file path\n",
    "pdf_file_path = '/content/invoice (1).pdf'\n",
    "\n",
    "# Convert PDF to images\n",
    "images = convert_from_path(pdf_file_path)\n",
    "\n",
    "for i, image in enumerate(images):\n",
    "    image.save(f'invoice (1){i + 1}.jpg', 'JPEG')"
   ]
  },
  {
   "cell_type": "markdown",
   "metadata": {},
   "source": [
    "<span style=\"color:blue\"> The provided code utilizes the OpenCV library (`cv2`) and the pytesseract library for Optical Character Recognition (OCR).<br><br> Firstly, an image named 'invoice (1)1.jpg' is read using OpenCV (`cv2.imread`).<br><br> Subsequently, the image is converted to grayscale (`cv2.cvtColor`).<br><br>Converting the image in grey scale reduces the dimensionality and reduces the use computational resources. The pytesseract library is then employed to extract text from the grayscale image (`pytesseract.image_to_string`). <br><br>The extracted text is stored in the variable `text`, and the final step involves printing this text content to the console (`print(text)`). <br><br>This process enables the recognition and extraction of textual information from the specified image.</span>"
   ]
  },
  {
   "cell_type": "code",
   "execution_count": null,
   "metadata": {
    "colab": {
     "base_uri": "https://localhost:8080/"
    },
    "id": "Arh2VCoX06u2",
    "outputId": "d1843fb2-c755-4654-a211-e3f1bc30aed3"
   },
   "outputs": [
    {
     "name": "stdout",
     "output_type": "stream",
     "text": [
      "amazon.in\n",
      "\n",
      "Sold By:\n",
      "\n",
      "VRP TELEMATICS PRIVATE LIMITED\n",
      "\n",
      "* Building No. 5, BGR Warehousing Complex,\n",
      "Near Shiv Sagar Hotel, Village Vahuli, Bhiwandi,\n",
      "Thane\n",
      "\n",
      "BHIWANDI, MAHARASHTRA, 421302\n",
      "\n",
      "IN\n",
      "\n",
      "PAN No: AACCV5763A\n",
      "GST Registration No: 27AACCV5763A1ZF\n",
      "\n",
      "Order Number: 404-9917575-7586714\n",
      "Order Date: 21.12.2023\n",
      "\n",
      "Tax Invoice/Bill of Supply/Cash Memo\n",
      "(Original for Recipient)\n",
      "\n",
      "Billing Address :\n",
      "\n",
      "Nataline Ambrose\n",
      "\n",
      "Infant jesus cottage room no 2 chikuwadi, malwani\n",
      "church malad west\n",
      "\n",
      "Mumbai, MAHARASHTRA, 400095\n",
      "\n",
      "IN\n",
      "\n",
      "State/UT Code: 27\n",
      "\n",
      "Shipping Address :\n",
      "\n",
      "Nataline Ambrose\n",
      "\n",
      "Nataline Ambrose\n",
      "\n",
      "Infant jesus cottage room no 2 chikuwadi, malwani\n",
      "church malad west\n",
      "\n",
      "Mumbai, MAHARASHTRA, 400095\n",
      "\n",
      "IN\n",
      "\n",
      "State/UT Code: 27\n",
      "\n",
      "Place of supply: MAHARASHTRA\n",
      "\n",
      "Place of delivery: MAHARASHTRA\n",
      "\n",
      "Invoice Number : BOM7-321133\n",
      "Invoice Details : MH-BOM7-1283324145-2324\n",
      "Invoice Date : 21.12.2023\n",
      "\n",
      " \n",
      "\n",
      " \n",
      "\n",
      " \n",
      "\n",
      " \n",
      "\n",
      " \n",
      "\n",
      " \n",
      "\n",
      " \n",
      "\n",
      " \n",
      "\n",
      " \n",
      "\n",
      "Amount in Words:\n",
      "Two Hundred Eighty-four only\n",
      "\n",
      "SI. pn Unit Net Tax |Tax |Tax Total\n",
      "Nollae euon Price |@Y/amount|Rate|Type |Amount|Amount\n",
      "y |YouBella Jewellery Earrings for women Crystal Earrings for Girls and\n",
      "Women (Black) | BO7W9KXP9Q ( BO7W9KXP9Q ) 2275.72] 1 |%275.72]1.5%|CGST] %4.14 }%284.00\n",
      "HSN:71179010\n",
      "1.5%|SGST] %4.14\n",
      "TOTAL: %8.28/%284.00)\n",
      "\n",
      " \n",
      "\n",
      " \n",
      "\n",
      "For VRP TELEMATICS PRIVATE LIMITED:\n",
      "\n",
      "Authorized Signatory\n",
      "\n",
      " \n",
      "\n",
      "Whether tax is payable under reverse charge - No\n",
      "\n",
      " \n",
      "\n",
      "Payment Transaction ID:\n",
      "i93rLOIZV3FmYJ438bISXkEba4sNQUUHInt hrs\n",
      "\n",
      " \n",
      "\n",
      " \n",
      "\n",
      "Date & Time: 21/12/2023, 22:46:11\n",
      "\n",
      "Invoice Value: Mode of Payment:\n",
      "284.00 UPI\n",
      "\n",
      " \n",
      "\n",
      " \n",
      "\n",
      " \n",
      "\n",
      " \n",
      "\n",
      " \n",
      "\f",
      "\n"
     ]
    }
   ],
   "source": [
    "import cv2\n",
    "import pytesseract\n",
    "\n",
    "#reading the image\n",
    "image_cv2 = cv2.imread('/content/invoice (1)1.jpg')\n",
    "\n",
    "# Converting to grayscale\n",
    "gray_image = cv2.cvtColor(image_cv2, cv2.COLOR_BGR2GRAY)\n",
    "\n",
    "text = pytesseract.image_to_string(gray_image)\n",
    "\n",
    "print(text)"
   ]
  },
  {
   "cell_type": "markdown",
   "metadata": {
    "id": "Rb5hElPlUnz-"
   },
   "source": [
    "# Segregating the data into column names and values\n"
   ]
  },
  {
   "cell_type": "markdown",
   "metadata": {},
   "source": [
    "<span style=\"color:blue\">The code searches for a specific section in a text, extracts the relevant information, and creates a DataFrame with a column for the section's header and its corresponding value. If the header is present, it constructs a DataFrame; otherwise, it indicates that the section was not found.</span>"
   ]
  },
  {
   "cell_type": "markdown",
   "metadata": {},
   "source": [
    "<span style=\"color:blue\">The above logic is used to extract all of these data</span><span style=\"color:red\">[Order Number,Order Date,Sold By,Billing Address,Description,Amount in Words,Date & Time of Transaction,Place of supply,Invoice Number,Invoice Details,Invoice Date ] </span>"
   ]
  },
  {
   "cell_type": "code",
   "execution_count": null,
   "metadata": {
    "id": "_7neSX0i5EMu"
   },
   "outputs": [],
   "source": [
    "start = text.find('Order Number:')\n",
    "end = text.find('Order Date', start)\n",
    "order_info = text[start:end]"
   ]
  },
  {
   "cell_type": "code",
   "execution_count": null,
   "metadata": {
    "colab": {
     "base_uri": "https://localhost:8080/",
     "height": 35
    },
    "id": "YCWzmmxQ5HQE",
    "outputId": "eefae37d-ebd4-45c6-c257-d4b2da072dd6"
   },
   "outputs": [
    {
     "data": {
      "application/vnd.google.colaboratory.intrinsic+json": {
       "type": "string"
      },
      "text/plain": [
       "'Order Number: 404-9917575-7586714 '"
      ]
     },
     "execution_count": 236,
     "metadata": {},
     "output_type": "execute_result"
    }
   ],
   "source": [
    "order_info_cleaned = order_info.replace('\\n', ' ')\n",
    "order_info_cleaned"
   ]
  },
  {
   "cell_type": "code",
   "execution_count": null,
   "metadata": {
    "colab": {
     "base_uri": "https://localhost:8080/"
    },
    "id": "K3vh5u5Q5XbC",
    "outputId": "2c19d221-6e7f-4ded-a970-f2e3e0398bb6"
   },
   "outputs": [
    {
     "name": "stdout",
     "output_type": "stream",
     "text": [
      "                    Order Number\n",
      "Description  404-9917575-7586714\n"
     ]
    }
   ],
   "source": [
    "\n",
    "# Extract the column head and value\n",
    "if 'Order Number:' in order_info_cleaned:\n",
    "    column_head = 'Order Number'\n",
    "    column_value = order_info_cleaned.split('Order Number:')[1].strip()\n",
    "\n",
    "\n",
    "    df= pd.DataFrame({column_head: [column_value]}, index=['Description'])\n",
    "\n",
    "    print(df)\n",
    "else:\n",
    "    print(\"No Order Number found in the extracted substring.\")"
   ]
  },
  {
   "cell_type": "code",
   "execution_count": null,
   "metadata": {
    "colab": {
     "base_uri": "https://localhost:8080/"
    },
    "id": "fQqDmleq6nI7",
    "outputId": "d5c38dce-dbdd-44e7-a535-827c887909ab"
   },
   "outputs": [
    {
     "name": "stdout",
     "output_type": "stream",
     "text": [
      "             Order Date\n",
      "Description  21.12.2023\n"
     ]
    }
   ],
   "source": [
    "\n",
    "start = text.find('Order Date:')\n",
    "end= text.find('Tax', start)\n",
    "order_date_tax_info = text[start:end]\n",
    "\n",
    "\n",
    "order_date_tax_info_cleaned = order_date_tax_info.replace('\\n', ' ')\n",
    "\n",
    "\n",
    "if 'Order Date:' in order_date_tax_info_cleaned:\n",
    "    column_head_date = 'Order Date'\n",
    "    column_value_date = order_date_tax_info_cleaned.split('Order Date:')[1].strip()\n",
    "\n",
    "\n",
    "    df0= pd.DataFrame({column_head_date: [column_value_date]}, index=['Description'])\n",
    "\n",
    "\n",
    "    print(df0)\n",
    "else:\n",
    "    print(\"No Order Date found in the extracted substring.\")\n"
   ]
  },
  {
   "cell_type": "code",
   "execution_count": null,
   "metadata": {
    "colab": {
     "base_uri": "https://localhost:8080/",
     "height": 52
    },
    "id": "ki4a9DkMPcJd",
    "outputId": "15fb8fc1-c2ea-427c-9c15-7e35d0e9dcf5"
   },
   "outputs": [
    {
     "data": {
      "application/vnd.google.colaboratory.intrinsic+json": {
       "type": "string"
      },
      "text/plain": [
       "'Sold By:\\n\\nVRP TELEMATICS PRIVATE LIMITED\\n\\n* Building No. 5, BGR Warehousing Complex,\\nNear Shiv Sagar Hotel, Village Vahuli, Bhiwandi,\\nThane\\n\\nBHIWANDI, MAHARASHTRA, 421302\\n\\nIN\\n\\n'"
      ]
     },
     "execution_count": 239,
     "metadata": {},
     "output_type": "execute_result"
    }
   ],
   "source": [
    "start = text.find('Sold By')\n",
    "end = text.find('PAN No', start)\n",
    "Sold = text[start :end]\n",
    "Sold"
   ]
  },
  {
   "cell_type": "code",
   "execution_count": null,
   "metadata": {
    "colab": {
     "base_uri": "https://localhost:8080/"
    },
    "id": "KDLOXT8dQ339",
    "outputId": "048cc9ba-aa88-4466-b9d9-0ffa2fcafee0"
   },
   "outputs": [
    {
     "name": "stdout",
     "output_type": "stream",
     "text": [
      "Sold By:  VRP TELEMATICS PRIVATE LIMITED  * Building No. 5, BGR Warehousing Complex, Near Shiv Sagar Hotel, Village Vahuli, Bhiwandi, Thane  BHIWANDI, MAHARASHTRA, 421302  IN  \n"
     ]
    }
   ],
   "source": [
    "SoldBy= Sold.replace('\\n', ' ')\n",
    "print(SoldBy)\n"
   ]
  },
  {
   "cell_type": "code",
   "execution_count": null,
   "metadata": {
    "colab": {
     "base_uri": "https://localhost:8080/",
     "height": 98
    },
    "id": "JfJPJM5PR92q",
    "outputId": "98bb7b17-00c0-4735-a3cd-5c8b8b2182e8"
   },
   "outputs": [
    {
     "name": "stdout",
     "output_type": "stream",
     "text": [
      "No Sold By found in the extracted substring.\n"
     ]
    },
    {
     "data": {
      "text/html": [
       "\n",
       "  <div id=\"df-2bc23f89-5869-4a6a-9207-2b62ac0569ed\" class=\"colab-df-container\">\n",
       "    <div>\n",
       "<style scoped>\n",
       "    .dataframe tbody tr th:only-of-type {\n",
       "        vertical-align: middle;\n",
       "    }\n",
       "\n",
       "    .dataframe tbody tr th {\n",
       "        vertical-align: top;\n",
       "    }\n",
       "\n",
       "    .dataframe thead th {\n",
       "        text-align: right;\n",
       "    }\n",
       "</style>\n",
       "<table border=\"1\" class=\"dataframe\">\n",
       "  <thead>\n",
       "    <tr style=\"text-align: right;\">\n",
       "      <th></th>\n",
       "      <th>Sold By</th>\n",
       "    </tr>\n",
       "  </thead>\n",
       "  <tbody>\n",
       "    <tr>\n",
       "      <th>Description</th>\n",
       "      <td>VRP TELEMATICS PRIVATE LIMITED  ” Building No....</td>\n",
       "    </tr>\n",
       "  </tbody>\n",
       "</table>\n",
       "</div>\n",
       "    <div class=\"colab-df-buttons\">\n",
       "\n",
       "  <div class=\"colab-df-container\">\n",
       "    <button class=\"colab-df-convert\" onclick=\"convertToInteractive('df-2bc23f89-5869-4a6a-9207-2b62ac0569ed')\"\n",
       "            title=\"Convert this dataframe to an interactive table.\"\n",
       "            style=\"display:none;\">\n",
       "\n",
       "  <svg xmlns=\"http://www.w3.org/2000/svg\" height=\"24px\" viewBox=\"0 -960 960 960\">\n",
       "    <path d=\"M120-120v-720h720v720H120Zm60-500h600v-160H180v160Zm220 220h160v-160H400v160Zm0 220h160v-160H400v160ZM180-400h160v-160H180v160Zm440 0h160v-160H620v160ZM180-180h160v-160H180v160Zm440 0h160v-160H620v160Z\"/>\n",
       "  </svg>\n",
       "    </button>\n",
       "\n",
       "  <style>\n",
       "    .colab-df-container {\n",
       "      display:flex;\n",
       "      gap: 12px;\n",
       "    }\n",
       "\n",
       "    .colab-df-convert {\n",
       "      background-color: #E8F0FE;\n",
       "      border: none;\n",
       "      border-radius: 50%;\n",
       "      cursor: pointer;\n",
       "      display: none;\n",
       "      fill: #1967D2;\n",
       "      height: 32px;\n",
       "      padding: 0 0 0 0;\n",
       "      width: 32px;\n",
       "    }\n",
       "\n",
       "    .colab-df-convert:hover {\n",
       "      background-color: #E2EBFA;\n",
       "      box-shadow: 0px 1px 2px rgba(60, 64, 67, 0.3), 0px 1px 3px 1px rgba(60, 64, 67, 0.15);\n",
       "      fill: #174EA6;\n",
       "    }\n",
       "\n",
       "    .colab-df-buttons div {\n",
       "      margin-bottom: 4px;\n",
       "    }\n",
       "\n",
       "    [theme=dark] .colab-df-convert {\n",
       "      background-color: #3B4455;\n",
       "      fill: #D2E3FC;\n",
       "    }\n",
       "\n",
       "    [theme=dark] .colab-df-convert:hover {\n",
       "      background-color: #434B5C;\n",
       "      box-shadow: 0px 1px 3px 1px rgba(0, 0, 0, 0.15);\n",
       "      filter: drop-shadow(0px 1px 2px rgba(0, 0, 0, 0.3));\n",
       "      fill: #FFFFFF;\n",
       "    }\n",
       "  </style>\n",
       "\n",
       "    <script>\n",
       "      const buttonEl =\n",
       "        document.querySelector('#df-2bc23f89-5869-4a6a-9207-2b62ac0569ed button.colab-df-convert');\n",
       "      buttonEl.style.display =\n",
       "        google.colab.kernel.accessAllowed ? 'block' : 'none';\n",
       "\n",
       "      async function convertToInteractive(key) {\n",
       "        const element = document.querySelector('#df-2bc23f89-5869-4a6a-9207-2b62ac0569ed');\n",
       "        const dataTable =\n",
       "          await google.colab.kernel.invokeFunction('convertToInteractive',\n",
       "                                                    [key], {});\n",
       "        if (!dataTable) return;\n",
       "\n",
       "        const docLinkHtml = 'Like what you see? Visit the ' +\n",
       "          '<a target=\"_blank\" href=https://colab.research.google.com/notebooks/data_table.ipynb>data table notebook</a>'\n",
       "          + ' to learn more about interactive tables.';\n",
       "        element.innerHTML = '';\n",
       "        dataTable['output_type'] = 'display_data';\n",
       "        await google.colab.output.renderOutput(dataTable, element);\n",
       "        const docLink = document.createElement('div');\n",
       "        docLink.innerHTML = docLinkHtml;\n",
       "        element.appendChild(docLink);\n",
       "      }\n",
       "    </script>\n",
       "  </div>\n",
       "\n",
       "\n",
       "    </div>\n",
       "  </div>\n"
      ],
      "text/plain": [
       "                                                       Sold By\n",
       "Description  VRP TELEMATICS PRIVATE LIMITED  ” Building No...."
      ]
     },
     "execution_count": 241,
     "metadata": {},
     "output_type": "execute_result"
    }
   ],
   "source": [
    "import pandas as pd\n",
    "\n",
    "if 'Sold By :' in SoldBy:\n",
    "\n",
    "   column_value = SoldBy.split('Sold By :', 1)[1].strip()\n",
    "\n",
    "\n",
    "   df1 = pd.DataFrame({'Sold By': [column_value]},index=['Description'])\n",
    "\n",
    "   print(df1)\n",
    "else:\n",
    "   print(\"No Sold By found in the extracted substring.\")\n",
    "df1.head(10)"
   ]
  },
  {
   "cell_type": "code",
   "execution_count": null,
   "metadata": {
    "colab": {
     "base_uri": "https://localhost:8080/",
     "height": 52
    },
    "id": "Tm7S4z2DVaCi",
    "outputId": "e59a0940-9cbb-4c17-e0ec-8aeb88b9a282"
   },
   "outputs": [
    {
     "data": {
      "application/vnd.google.colaboratory.intrinsic+json": {
       "type": "string"
      },
      "text/plain": [
       "'Billing Address :\\n\\nNataline Ambrose\\n\\nInfant jesus cottage room no 2 chikuwadi, malwani\\nchurch malad west\\n\\nMumbai, MAHARASHTRA, 400095\\n\\nIN\\n\\n'"
      ]
     },
     "execution_count": 242,
     "metadata": {},
     "output_type": "execute_result"
    }
   ],
   "source": [
    "start = text.find('Billing Address :')\n",
    "end = text.find('State/', start)\n",
    "Bill = text[start :end]\n",
    "Bill"
   ]
  },
  {
   "cell_type": "code",
   "execution_count": null,
   "metadata": {
    "colab": {
     "base_uri": "https://localhost:8080/"
    },
    "id": "bTUQ3uQ5VaCl",
    "outputId": "d322f037-09e9-456b-d882-19a0c400e03c"
   },
   "outputs": [
    {
     "name": "stdout",
     "output_type": "stream",
     "text": [
      "Billing Address :  Nataline Ambrose  Infant jesus cottage room no 2 chikuwadi, malwani church malad west  Mumbai, MAHARASHTRA, 400095  IN  \n"
     ]
    }
   ],
   "source": [
    "Bill_add= Bill.replace('\\n', ' ')\n",
    "print(Bill_add)\n"
   ]
  },
  {
   "cell_type": "code",
   "execution_count": null,
   "metadata": {
    "colab": {
     "base_uri": "https://localhost:8080/",
     "height": 115
    },
    "id": "SrvEn17CVaCm",
    "outputId": "90f6877c-2584-4b0a-89b3-8fe932d42a7e"
   },
   "outputs": [
    {
     "name": "stdout",
     "output_type": "stream",
     "text": [
      "                                               Billing Address\n",
      "Description  Nataline Ambrose  Infant jesus cottage room no...\n"
     ]
    },
    {
     "data": {
      "text/html": [
       "\n",
       "  <div id=\"df-84043137-11ab-4ba4-add2-ff7eb18ef95a\" class=\"colab-df-container\">\n",
       "    <div>\n",
       "<style scoped>\n",
       "    .dataframe tbody tr th:only-of-type {\n",
       "        vertical-align: middle;\n",
       "    }\n",
       "\n",
       "    .dataframe tbody tr th {\n",
       "        vertical-align: top;\n",
       "    }\n",
       "\n",
       "    .dataframe thead th {\n",
       "        text-align: right;\n",
       "    }\n",
       "</style>\n",
       "<table border=\"1\" class=\"dataframe\">\n",
       "  <thead>\n",
       "    <tr style=\"text-align: right;\">\n",
       "      <th></th>\n",
       "      <th>Billing Address</th>\n",
       "    </tr>\n",
       "  </thead>\n",
       "  <tbody>\n",
       "    <tr>\n",
       "      <th>Description</th>\n",
       "      <td>Nataline Ambrose  Infant jesus cottage room no...</td>\n",
       "    </tr>\n",
       "  </tbody>\n",
       "</table>\n",
       "</div>\n",
       "    <div class=\"colab-df-buttons\">\n",
       "\n",
       "  <div class=\"colab-df-container\">\n",
       "    <button class=\"colab-df-convert\" onclick=\"convertToInteractive('df-84043137-11ab-4ba4-add2-ff7eb18ef95a')\"\n",
       "            title=\"Convert this dataframe to an interactive table.\"\n",
       "            style=\"display:none;\">\n",
       "\n",
       "  <svg xmlns=\"http://www.w3.org/2000/svg\" height=\"24px\" viewBox=\"0 -960 960 960\">\n",
       "    <path d=\"M120-120v-720h720v720H120Zm60-500h600v-160H180v160Zm220 220h160v-160H400v160Zm0 220h160v-160H400v160ZM180-400h160v-160H180v160Zm440 0h160v-160H620v160ZM180-180h160v-160H180v160Zm440 0h160v-160H620v160Z\"/>\n",
       "  </svg>\n",
       "    </button>\n",
       "\n",
       "  <style>\n",
       "    .colab-df-container {\n",
       "      display:flex;\n",
       "      gap: 12px;\n",
       "    }\n",
       "\n",
       "    .colab-df-convert {\n",
       "      background-color: #E8F0FE;\n",
       "      border: none;\n",
       "      border-radius: 50%;\n",
       "      cursor: pointer;\n",
       "      display: none;\n",
       "      fill: #1967D2;\n",
       "      height: 32px;\n",
       "      padding: 0 0 0 0;\n",
       "      width: 32px;\n",
       "    }\n",
       "\n",
       "    .colab-df-convert:hover {\n",
       "      background-color: #E2EBFA;\n",
       "      box-shadow: 0px 1px 2px rgba(60, 64, 67, 0.3), 0px 1px 3px 1px rgba(60, 64, 67, 0.15);\n",
       "      fill: #174EA6;\n",
       "    }\n",
       "\n",
       "    .colab-df-buttons div {\n",
       "      margin-bottom: 4px;\n",
       "    }\n",
       "\n",
       "    [theme=dark] .colab-df-convert {\n",
       "      background-color: #3B4455;\n",
       "      fill: #D2E3FC;\n",
       "    }\n",
       "\n",
       "    [theme=dark] .colab-df-convert:hover {\n",
       "      background-color: #434B5C;\n",
       "      box-shadow: 0px 1px 3px 1px rgba(0, 0, 0, 0.15);\n",
       "      filter: drop-shadow(0px 1px 2px rgba(0, 0, 0, 0.3));\n",
       "      fill: #FFFFFF;\n",
       "    }\n",
       "  </style>\n",
       "\n",
       "    <script>\n",
       "      const buttonEl =\n",
       "        document.querySelector('#df-84043137-11ab-4ba4-add2-ff7eb18ef95a button.colab-df-convert');\n",
       "      buttonEl.style.display =\n",
       "        google.colab.kernel.accessAllowed ? 'block' : 'none';\n",
       "\n",
       "      async function convertToInteractive(key) {\n",
       "        const element = document.querySelector('#df-84043137-11ab-4ba4-add2-ff7eb18ef95a');\n",
       "        const dataTable =\n",
       "          await google.colab.kernel.invokeFunction('convertToInteractive',\n",
       "                                                    [key], {});\n",
       "        if (!dataTable) return;\n",
       "\n",
       "        const docLinkHtml = 'Like what you see? Visit the ' +\n",
       "          '<a target=\"_blank\" href=https://colab.research.google.com/notebooks/data_table.ipynb>data table notebook</a>'\n",
       "          + ' to learn more about interactive tables.';\n",
       "        element.innerHTML = '';\n",
       "        dataTable['output_type'] = 'display_data';\n",
       "        await google.colab.output.renderOutput(dataTable, element);\n",
       "        const docLink = document.createElement('div');\n",
       "        docLink.innerHTML = docLinkHtml;\n",
       "        element.appendChild(docLink);\n",
       "      }\n",
       "    </script>\n",
       "  </div>\n",
       "\n",
       "\n",
       "    </div>\n",
       "  </div>\n"
      ],
      "text/plain": [
       "                                               Billing Address\n",
       "Description  Nataline Ambrose  Infant jesus cottage room no..."
      ]
     },
     "execution_count": 244,
     "metadata": {},
     "output_type": "execute_result"
    }
   ],
   "source": [
    "import pandas as pd\n",
    "\n",
    "\n",
    "if 'Billing Address :' in Bill_add:\n",
    "\n",
    "    Bill = Bill_add.replace('\\n', ' ')\n",
    "    column_head = 'Billing Address'\n",
    "    column_value = Bill.split('Billing Address :')[1].strip()\n",
    "\n",
    "    df2 = pd.DataFrame({column_head: [column_value]},index=['Description'])\n",
    "\n",
    "\n",
    "    print(df2)\n",
    "else:\n",
    "    print(\"No billing address found in the extracted substring.\")\n",
    "df2.head()"
   ]
  },
  {
   "cell_type": "code",
   "execution_count": null,
   "metadata": {
    "colab": {
     "base_uri": "https://localhost:8080/"
    },
    "id": "yb4sNp3d9TP8",
    "outputId": "4f8f85ee-88b5-45e4-e9e9-345c0cf4c0c5"
   },
   "outputs": [
    {
     "name": "stdout",
     "output_type": "stream",
     "text": [
      "            Invoice Number\n",
      "Description    BOM7-321133\n"
     ]
    }
   ],
   "source": [
    "\n",
    "startinvoice = text.find('Invoice Number :')\n",
    "end_invoice_date = text.find('Invoice Details :', startinvoice)\n",
    "invoice_info = text[startinvoice:end_invoice_date]\n",
    "\n",
    "invoice_info_cleaned = invoice_info.replace('\\n', ' ')\n",
    "\n",
    "if 'Invoice Number :' in invoice_info_cleaned:\n",
    "    column_head_invoice = 'Invoice Number'\n",
    "    column_value_invoice = invoice_info_cleaned.split('Invoice Number :')[1].strip()\n",
    "\n",
    "\n",
    "    df3 = pd.DataFrame({column_head_invoice: [column_value_invoice]}, index=['Description'])\n",
    "\n",
    "\n",
    "    print(df3)\n",
    "else:\n",
    "    print(\"No Invoice Number found in the extracted substring.\")"
   ]
  },
  {
   "cell_type": "code",
   "execution_count": null,
   "metadata": {
    "colab": {
     "base_uri": "https://localhost:8080/"
    },
    "id": "DSt1Tn9y9wb5",
    "outputId": "cda889ba-3be4-4c1f-a757-ac6e04c5ff3b"
   },
   "outputs": [
    {
     "name": "stdout",
     "output_type": "stream",
     "text": [
      "                     Invoice Details\n",
      "Description  MH-BOM7-1283324145-2324\n"
     ]
    }
   ],
   "source": [
    "\n",
    "start_invoice_details = text.find('Invoice Details :')\n",
    "end_invoice_date = text.find('Invoice Date', start_invoice_details)\n",
    "invoice_details_info = text[start_invoice_details:end_invoice_date]\n",
    "\n",
    "invoice_details_info_cleaned = invoice_details_info.replace('\\n', ' ')\n",
    "\n",
    "if 'Invoice Details :' in invoice_details_info_cleaned:\n",
    "    column_head_invoice_details = 'Invoice Details'\n",
    "    column_value_invoice_details = invoice_details_info_cleaned.split('Invoice Details :')[1].strip()\n",
    "\n",
    "\n",
    "    df4 = pd.DataFrame({column_head_invoice_details: [column_value_invoice_details]}, index=['Description'])\n",
    "\n",
    "\n",
    "    print(df4)\n",
    "else:\n",
    "    print(\"No Invoice Details found in the extracted substring.\")"
   ]
  },
  {
   "cell_type": "code",
   "execution_count": null,
   "metadata": {
    "colab": {
     "base_uri": "https://localhost:8080/"
    },
    "id": "Eqx_hFOA_M0Z",
    "outputId": "e08717c0-02a4-446c-ea68-e3decd0912d1"
   },
   "outputs": [
    {
     "name": "stdout",
     "output_type": "stream",
     "text": [
      "            Invoice Date\n",
      "Description   21.12.2023\n"
     ]
    }
   ],
   "source": [
    "startinvoice_date = text.find('Invoice Date :')\n",
    "end_description = text.find('Amount', startinvoice_date)\n",
    "invoice_date_info = text[startinvoice_date:end_description]\n",
    "\n",
    "invoice_date_info_cleaned = invoice_date_info.replace('\\n', ' ')\n",
    "\n",
    "\n",
    "if 'Invoice Date :' in invoice_date_info_cleaned:\n",
    "    column_head_invoice_date = 'Invoice Date'\n",
    "    column_value_invoice_date = invoice_date_info_cleaned.split('Invoice Date :')[1].strip()\n",
    "\n",
    "    df5= pd.DataFrame({column_head_invoice_date: [column_value_invoice_date]}, index=['Description'])\n",
    "\n",
    "    print(df5)\n",
    "else:\n",
    "    print(\"No Invoice Date found in the extracted substring.\")"
   ]
  },
  {
   "cell_type": "code",
   "execution_count": null,
   "metadata": {
    "colab": {
     "base_uri": "https://localhost:8080/",
     "height": 115
    },
    "id": "8Bp-S1fZCVnf",
    "outputId": "0232962e-2142-402d-94cf-d47b970b1987"
   },
   "outputs": [
    {
     "name": "stdout",
     "output_type": "stream",
     "text": [
      "                                                   Description\n",
      "Description  YouBella Jewellery Earrings for women Crystal ...\n"
     ]
    },
    {
     "data": {
      "text/html": [
       "\n",
       "  <div id=\"df-3e46823f-4829-481c-abb6-2d9cdc953544\" class=\"colab-df-container\">\n",
       "    <div>\n",
       "<style scoped>\n",
       "    .dataframe tbody tr th:only-of-type {\n",
       "        vertical-align: middle;\n",
       "    }\n",
       "\n",
       "    .dataframe tbody tr th {\n",
       "        vertical-align: top;\n",
       "    }\n",
       "\n",
       "    .dataframe thead th {\n",
       "        text-align: right;\n",
       "    }\n",
       "</style>\n",
       "<table border=\"1\" class=\"dataframe\">\n",
       "  <thead>\n",
       "    <tr style=\"text-align: right;\">\n",
       "      <th></th>\n",
       "      <th>Description</th>\n",
       "    </tr>\n",
       "  </thead>\n",
       "  <tbody>\n",
       "    <tr>\n",
       "      <th>Description</th>\n",
       "      <td>YouBella Jewellery Earrings for women Crystal ...</td>\n",
       "    </tr>\n",
       "  </tbody>\n",
       "</table>\n",
       "</div>\n",
       "    <div class=\"colab-df-buttons\">\n",
       "\n",
       "  <div class=\"colab-df-container\">\n",
       "    <button class=\"colab-df-convert\" onclick=\"convertToInteractive('df-3e46823f-4829-481c-abb6-2d9cdc953544')\"\n",
       "            title=\"Convert this dataframe to an interactive table.\"\n",
       "            style=\"display:none;\">\n",
       "\n",
       "  <svg xmlns=\"http://www.w3.org/2000/svg\" height=\"24px\" viewBox=\"0 -960 960 960\">\n",
       "    <path d=\"M120-120v-720h720v720H120Zm60-500h600v-160H180v160Zm220 220h160v-160H400v160Zm0 220h160v-160H400v160ZM180-400h160v-160H180v160Zm440 0h160v-160H620v160ZM180-180h160v-160H180v160Zm440 0h160v-160H620v160Z\"/>\n",
       "  </svg>\n",
       "    </button>\n",
       "\n",
       "  <style>\n",
       "    .colab-df-container {\n",
       "      display:flex;\n",
       "      gap: 12px;\n",
       "    }\n",
       "\n",
       "    .colab-df-convert {\n",
       "      background-color: #E8F0FE;\n",
       "      border: none;\n",
       "      border-radius: 50%;\n",
       "      cursor: pointer;\n",
       "      display: none;\n",
       "      fill: #1967D2;\n",
       "      height: 32px;\n",
       "      padding: 0 0 0 0;\n",
       "      width: 32px;\n",
       "    }\n",
       "\n",
       "    .colab-df-convert:hover {\n",
       "      background-color: #E2EBFA;\n",
       "      box-shadow: 0px 1px 2px rgba(60, 64, 67, 0.3), 0px 1px 3px 1px rgba(60, 64, 67, 0.15);\n",
       "      fill: #174EA6;\n",
       "    }\n",
       "\n",
       "    .colab-df-buttons div {\n",
       "      margin-bottom: 4px;\n",
       "    }\n",
       "\n",
       "    [theme=dark] .colab-df-convert {\n",
       "      background-color: #3B4455;\n",
       "      fill: #D2E3FC;\n",
       "    }\n",
       "\n",
       "    [theme=dark] .colab-df-convert:hover {\n",
       "      background-color: #434B5C;\n",
       "      box-shadow: 0px 1px 3px 1px rgba(0, 0, 0, 0.15);\n",
       "      filter: drop-shadow(0px 1px 2px rgba(0, 0, 0, 0.3));\n",
       "      fill: #FFFFFF;\n",
       "    }\n",
       "  </style>\n",
       "\n",
       "    <script>\n",
       "      const buttonEl =\n",
       "        document.querySelector('#df-3e46823f-4829-481c-abb6-2d9cdc953544 button.colab-df-convert');\n",
       "      buttonEl.style.display =\n",
       "        google.colab.kernel.accessAllowed ? 'block' : 'none';\n",
       "\n",
       "      async function convertToInteractive(key) {\n",
       "        const element = document.querySelector('#df-3e46823f-4829-481c-abb6-2d9cdc953544');\n",
       "        const dataTable =\n",
       "          await google.colab.kernel.invokeFunction('convertToInteractive',\n",
       "                                                    [key], {});\n",
       "        if (!dataTable) return;\n",
       "\n",
       "        const docLinkHtml = 'Like what you see? Visit the ' +\n",
       "          '<a target=\"_blank\" href=https://colab.research.google.com/notebooks/data_table.ipynb>data table notebook</a>'\n",
       "          + ' to learn more about interactive tables.';\n",
       "        element.innerHTML = '';\n",
       "        dataTable['output_type'] = 'display_data';\n",
       "        await google.colab.output.renderOutput(dataTable, element);\n",
       "        const docLink = document.createElement('div');\n",
       "        docLink.innerHTML = docLinkHtml;\n",
       "        element.appendChild(docLink);\n",
       "      }\n",
       "    </script>\n",
       "  </div>\n",
       "\n",
       "\n",
       "    </div>\n",
       "  </div>\n"
      ],
      "text/plain": [
       "                                                   Description\n",
       "Description  YouBella Jewellery Earrings for women Crystal ..."
      ]
     },
     "execution_count": 248,
     "metadata": {},
     "output_type": "execute_result"
    }
   ],
   "source": [
    "startyoubella = text.find('YouBella')\n",
    "end_amount_in_words = text.find('| BO7W9KXP9Q ( BO7W9KXP9Q )', startyoubella)\n",
    "youbella_info = text[startyoubella:end_amount_in_words]\n",
    "\n",
    "\n",
    "youbella_info_cleaned = youbella_info.replace('\\n', ' ')\n",
    "\n",
    "\n",
    "if 'YouBella' in youbella_info_cleaned:\n",
    "    column_head_youbella = 'Description'\n",
    "    column_value_youbella = youbella_info_cleaned.strip()\n",
    "\n",
    "    df6 = pd.DataFrame({column_head_youbella: [column_value_youbella]}, index=['Description'])\n",
    "    print(df6)\n",
    "else:\n",
    "    print(\"No YouBella found in the extracted substring.\")\n",
    "df6.head()"
   ]
  },
  {
   "cell_type": "code",
   "execution_count": null,
   "metadata": {
    "colab": {
     "base_uri": "https://localhost:8080/"
    },
    "id": "Uf4mbs2DDKdA",
    "outputId": "c22f3f74-9f87-4cf0-a8d8-ac98f1de83aa"
   },
   "outputs": [
    {
     "name": "stdout",
     "output_type": "stream",
     "text": [
      "            Place of supply\n",
      "Description     MAHARASHTRA\n"
     ]
    }
   ],
   "source": [
    "startplace_of_supply = text.find('Place of supply:')\n",
    "end_place_of_delivery = text.find('Place of delivery', startplace_of_supply)\n",
    "place_of_supply_info = text[startplace_of_supply:end_place_of_delivery]\n",
    "\n",
    "place_of_supply_info_cleaned = place_of_supply_info.replace('\\n', ' ')\n",
    "\n",
    "if 'Place of supply:' in place_of_supply_info_cleaned:\n",
    "    column_head_place_of_supply = 'Place of supply'\n",
    "    column_value_place_of_supply = place_of_supply_info_cleaned.split('Place of supply:')[1].strip()\n",
    "\n",
    "    df7 = pd.DataFrame({column_head_place_of_supply: [column_value_place_of_supply]}, index=['Description'])\n",
    "\n",
    "\n",
    "    print(df7)\n",
    "else:\n",
    "    print(\"No Place of supply found in the extracted substring.\")"
   ]
  },
  {
   "cell_type": "code",
   "execution_count": null,
   "metadata": {
    "colab": {
     "base_uri": "https://localhost:8080/"
    },
    "id": "tOtcW4tP8CdZ",
    "outputId": "e7046894-6394-4555-8a42-5694ed4b2d83"
   },
   "outputs": [
    {
     "name": "stdout",
     "output_type": "stream",
     "text": [
      "            Place of delivery\n",
      "Description       MAHARASHTRA\n"
     ]
    }
   ],
   "source": [
    "startplace_of_delivery = text.find('Place of delivery:')\n",
    "end_invoice_number = text.find('Invoice Number : BOM7-321133', startplace_of_delivery)\n",
    "delivery_info = text[startplace_of_delivery:end_invoice_number]\n",
    "\n",
    "\n",
    "delivery_info_cleaned = delivery_info.replace('\\n', ' ')\n",
    "\n",
    "if 'Place of delivery:' in delivery_info_cleaned:\n",
    "    column_head_place_of_delivery = 'Place of delivery'\n",
    "    column_value_place_of_delivery = delivery_info_cleaned.split('Place of delivery:')[1].strip()\n",
    "\n",
    "\n",
    "    df8= pd.DataFrame({column_head_place_of_delivery: [column_value_place_of_delivery]}, index=['Description'])\n",
    "\n",
    "\n",
    "    print(df8)\n",
    "else:\n",
    "    print(\"No Place of delivery found in the extracted substring.\")"
   ]
  },
  {
   "cell_type": "code",
   "execution_count": null,
   "metadata": {
    "colab": {
     "base_uri": "https://localhost:8080/"
    },
    "id": "y7Uw0vPlEV4Z",
    "outputId": "1f27dcc5-cbc9-4421-f009-877409b81df2"
   },
   "outputs": [
    {
     "name": "stdout",
     "output_type": "stream",
     "text": [
      "                          Amount in Words\n",
      "Description  Two Hundred Eighty-four only\n"
     ]
    }
   ],
   "source": [
    "startamount_in_words = text.find('Amount in Words:')\n",
    "end_for = text.find('SI', startamount_in_words)\n",
    "amount_in_words_info = text[startamount_in_words:end_for]\n",
    "\n",
    "amount_in_words_info_cleaned = amount_in_words_info.replace('\\n', ' ')\n",
    "\n",
    "if 'Amount in Words:' in amount_in_words_info_cleaned:\n",
    "    column_head_amount_in_words = 'Amount in Words'\n",
    "    column_value_amount_in_words = amount_in_words_info_cleaned.split('Amount in Words:')[1].strip()\n",
    "\n",
    "\n",
    "    df8= pd.DataFrame({column_head_amount_in_words: [column_value_amount_in_words]}, index=['Description'])\n",
    "\n",
    "\n",
    "    print(df8)\n",
    "else:\n",
    "    print(\"No Amount in Words found in the extracted substring.\")"
   ]
  },
  {
   "cell_type": "code",
   "execution_count": null,
   "metadata": {
    "colab": {
     "base_uri": "https://localhost:8080/"
    },
    "id": "bGNKbHmjFbW8",
    "outputId": "6964a130-9e3b-46a9-a48c-13174ee06979"
   },
   "outputs": [
    {
     "name": "stdout",
     "output_type": "stream",
     "text": [
      "            Date & Time of Transaction\n",
      "Description       21/12/2023, 22:46:11\n"
     ]
    }
   ],
   "source": [
    "startdate_time = text.find('Date & Time:')\n",
    "end_invoice = text.find('Invoice', startdate_time)\n",
    "date_time_info = text[startdate_time:end_invoice]\n",
    "\n",
    "date_time_info_cleaned = date_time_info.replace('\\n', ' ')\n",
    "\n",
    "if 'Date & Time:' in date_time_info_cleaned:\n",
    "    column_head_date_time = 'Date & Time of Transaction'\n",
    "    column_value_date_time = date_time_info_cleaned.split('Date & Time:')[1].strip()\n",
    "\n",
    "    df9 = pd.DataFrame({column_head_date_time: [column_value_date_time]}, index=['Description'])\n",
    "\n",
    "    print(df9)\n",
    "else:\n",
    "    print(\"No Date & Time found in the extracted substring.\")\n"
   ]
  },
  {
   "cell_type": "markdown",
   "metadata": {
    "id": "xtfM-l09m3hF"
   },
   "source": [
    "# Merging the four data frames into one and making an excel file\n"
   ]
  },
  {
   "cell_type": "markdown",
   "metadata": {},
   "source": [
    "<span style=\"color:blue\">Now for every dataframe that was generated above,is now merged into a single dataframe.They are merged based on the similar index name that they have.<br><br>This merged dataframe is now converted into an excel file </span>"
   ]
  },
  {
   "cell_type": "code",
   "execution_count": null,
   "metadata": {
    "colab": {
     "base_uri": "https://localhost:8080/"
    },
    "id": "az161E20fqwo",
    "outputId": "40c39b7d-864d-47da-b79e-e04bff5b8b11"
   },
   "outputs": [
    {
     "name": "stdout",
     "output_type": "stream",
     "text": [
      "                    Order Number  Order Date  \\\n",
      "Description  404-9917575-7586714  21.12.2023   \n",
      "\n",
      "                                                       Sold By  \\\n",
      "Description  VRP TELEMATICS PRIVATE LIMITED  ” Building No....   \n",
      "\n",
      "                                               Billing Address  \\\n",
      "Description  Nataline Ambrose  Infant jesus cottage room no...   \n",
      "\n",
      "                                                   Description  \\\n",
      "Description  YouBella Jewellery Earrings for women Crystal ...   \n",
      "\n",
      "                          Amount in Words Date & Time of Transaction  \\\n",
      "Description  Two Hundred Eighty-four only       21/12/2023, 22:46:11   \n",
      "\n",
      "            Place of supply Invoice Number          Invoice Details  \\\n",
      "Description     MAHARASHTRA    BOM7-321133  MH-BOM7-1283324145-2324   \n",
      "\n",
      "            Invoice Date  \n",
      "Description   21.12.2023  \n"
     ]
    }
   ],
   "source": [
    "merged_df = pd.merge(df, df0, how='outer', left_index=True, right_index=True)\n",
    "merged_df = pd.merge(merged_df, df1, how='outer', left_index=True, right_index=True)\n",
    "merged_df = pd.merge(merged_df, df2, how='outer', left_index=True, right_index=True)\n",
    "merged_df = pd.merge(merged_df, df6, how='outer', left_index=True, right_index=True)\n",
    "merged_df = pd.merge(merged_df, df8, how='outer', left_index=True, right_index=True)\n",
    "merged_df = pd.merge(merged_df, df9, how='outer', left_index=True, right_index=True)\n",
    "merged_df = pd.merge(merged_df, df7, how='outer', left_index=True, right_index=True)\n",
    "merged_df = pd.merge(merged_df, df3, how='outer', left_index=True, right_index=True)\n",
    "merged_df = pd.merge(merged_df, df4, how='outer', left_index=True, right_index=True)\n",
    "merged_df = pd.merge(merged_df, df5, how='outer', left_index=True, right_index=True)\n",
    "\n",
    "print(merged_df)"
   ]
  },
  {
   "cell_type": "code",
   "execution_count": null,
   "metadata": {
    "colab": {
     "base_uri": "https://localhost:8080/",
     "height": 239
    },
    "id": "BnrpJcD8ge4r",
    "outputId": "5ffba360-9a25-4af4-c9c9-fcafed3e9ae3"
   },
   "outputs": [
    {
     "data": {
      "text/html": [
       "\n",
       "  <div id=\"df-3e665d39-63af-4278-b659-08f7d43f62a7\" class=\"colab-df-container\">\n",
       "    <div>\n",
       "<style scoped>\n",
       "    .dataframe tbody tr th:only-of-type {\n",
       "        vertical-align: middle;\n",
       "    }\n",
       "\n",
       "    .dataframe tbody tr th {\n",
       "        vertical-align: top;\n",
       "    }\n",
       "\n",
       "    .dataframe thead th {\n",
       "        text-align: right;\n",
       "    }\n",
       "</style>\n",
       "<table border=\"1\" class=\"dataframe\">\n",
       "  <thead>\n",
       "    <tr style=\"text-align: right;\">\n",
       "      <th></th>\n",
       "      <th>Order Number</th>\n",
       "      <th>Order Date</th>\n",
       "      <th>Sold By</th>\n",
       "      <th>Billing Address</th>\n",
       "      <th>Description</th>\n",
       "      <th>Amount in Words</th>\n",
       "      <th>Date &amp; Time of Transaction</th>\n",
       "      <th>Place of supply</th>\n",
       "      <th>Invoice Number</th>\n",
       "      <th>Invoice Details</th>\n",
       "      <th>Invoice Date</th>\n",
       "    </tr>\n",
       "  </thead>\n",
       "  <tbody>\n",
       "    <tr>\n",
       "      <th>Description</th>\n",
       "      <td>404-9917575-7586714</td>\n",
       "      <td>21.12.2023</td>\n",
       "      <td>VRP TELEMATICS PRIVATE LIMITED  ” Building No....</td>\n",
       "      <td>Nataline Ambrose  Infant jesus cottage room no...</td>\n",
       "      <td>YouBella Jewellery Earrings for women Crystal ...</td>\n",
       "      <td>Two Hundred Eighty-four only</td>\n",
       "      <td>21/12/2023, 22:46:11</td>\n",
       "      <td>MAHARASHTRA</td>\n",
       "      <td>BOM7-321133</td>\n",
       "      <td>MH-BOM7-1283324145-2324</td>\n",
       "      <td>21.12.2023</td>\n",
       "    </tr>\n",
       "  </tbody>\n",
       "</table>\n",
       "</div>\n",
       "    <div class=\"colab-df-buttons\">\n",
       "\n",
       "  <div class=\"colab-df-container\">\n",
       "    <button class=\"colab-df-convert\" onclick=\"convertToInteractive('df-3e665d39-63af-4278-b659-08f7d43f62a7')\"\n",
       "            title=\"Convert this dataframe to an interactive table.\"\n",
       "            style=\"display:none;\">\n",
       "\n",
       "  <svg xmlns=\"http://www.w3.org/2000/svg\" height=\"24px\" viewBox=\"0 -960 960 960\">\n",
       "    <path d=\"M120-120v-720h720v720H120Zm60-500h600v-160H180v160Zm220 220h160v-160H400v160Zm0 220h160v-160H400v160ZM180-400h160v-160H180v160Zm440 0h160v-160H620v160ZM180-180h160v-160H180v160Zm440 0h160v-160H620v160Z\"/>\n",
       "  </svg>\n",
       "    </button>\n",
       "\n",
       "  <style>\n",
       "    .colab-df-container {\n",
       "      display:flex;\n",
       "      gap: 12px;\n",
       "    }\n",
       "\n",
       "    .colab-df-convert {\n",
       "      background-color: #E8F0FE;\n",
       "      border: none;\n",
       "      border-radius: 50%;\n",
       "      cursor: pointer;\n",
       "      display: none;\n",
       "      fill: #1967D2;\n",
       "      height: 32px;\n",
       "      padding: 0 0 0 0;\n",
       "      width: 32px;\n",
       "    }\n",
       "\n",
       "    .colab-df-convert:hover {\n",
       "      background-color: #E2EBFA;\n",
       "      box-shadow: 0px 1px 2px rgba(60, 64, 67, 0.3), 0px 1px 3px 1px rgba(60, 64, 67, 0.15);\n",
       "      fill: #174EA6;\n",
       "    }\n",
       "\n",
       "    .colab-df-buttons div {\n",
       "      margin-bottom: 4px;\n",
       "    }\n",
       "\n",
       "    [theme=dark] .colab-df-convert {\n",
       "      background-color: #3B4455;\n",
       "      fill: #D2E3FC;\n",
       "    }\n",
       "\n",
       "    [theme=dark] .colab-df-convert:hover {\n",
       "      background-color: #434B5C;\n",
       "      box-shadow: 0px 1px 3px 1px rgba(0, 0, 0, 0.15);\n",
       "      filter: drop-shadow(0px 1px 2px rgba(0, 0, 0, 0.3));\n",
       "      fill: #FFFFFF;\n",
       "    }\n",
       "  </style>\n",
       "\n",
       "    <script>\n",
       "      const buttonEl =\n",
       "        document.querySelector('#df-3e665d39-63af-4278-b659-08f7d43f62a7 button.colab-df-convert');\n",
       "      buttonEl.style.display =\n",
       "        google.colab.kernel.accessAllowed ? 'block' : 'none';\n",
       "\n",
       "      async function convertToInteractive(key) {\n",
       "        const element = document.querySelector('#df-3e665d39-63af-4278-b659-08f7d43f62a7');\n",
       "        const dataTable =\n",
       "          await google.colab.kernel.invokeFunction('convertToInteractive',\n",
       "                                                    [key], {});\n",
       "        if (!dataTable) return;\n",
       "\n",
       "        const docLinkHtml = 'Like what you see? Visit the ' +\n",
       "          '<a target=\"_blank\" href=https://colab.research.google.com/notebooks/data_table.ipynb>data table notebook</a>'\n",
       "          + ' to learn more about interactive tables.';\n",
       "        element.innerHTML = '';\n",
       "        dataTable['output_type'] = 'display_data';\n",
       "        await google.colab.output.renderOutput(dataTable, element);\n",
       "        const docLink = document.createElement('div');\n",
       "        docLink.innerHTML = docLinkHtml;\n",
       "        element.appendChild(docLink);\n",
       "      }\n",
       "    </script>\n",
       "  </div>\n",
       "\n",
       "\n",
       "    </div>\n",
       "  </div>\n"
      ],
      "text/plain": [
       "                    Order Number  Order Date  \\\n",
       "Description  404-9917575-7586714  21.12.2023   \n",
       "\n",
       "                                                       Sold By  \\\n",
       "Description  VRP TELEMATICS PRIVATE LIMITED  ” Building No....   \n",
       "\n",
       "                                               Billing Address  \\\n",
       "Description  Nataline Ambrose  Infant jesus cottage room no...   \n",
       "\n",
       "                                                   Description  \\\n",
       "Description  YouBella Jewellery Earrings for women Crystal ...   \n",
       "\n",
       "                          Amount in Words Date & Time of Transaction  \\\n",
       "Description  Two Hundred Eighty-four only       21/12/2023, 22:46:11   \n",
       "\n",
       "            Place of supply Invoice Number          Invoice Details  \\\n",
       "Description     MAHARASHTRA    BOM7-321133  MH-BOM7-1283324145-2324   \n",
       "\n",
       "            Invoice Date  \n",
       "Description   21.12.2023  "
      ]
     },
     "execution_count": 259,
     "metadata": {},
     "output_type": "execute_result"
    }
   ],
   "source": [
    "merged_df.head(100)"
   ]
  },
  {
   "cell_type": "code",
   "execution_count": null,
   "metadata": {
    "colab": {
     "base_uri": "https://localhost:8080/"
    },
    "id": "rQwyuK-yhWsE",
    "outputId": "a48ba6a8-37b7-4dcf-8ffb-0ef346908085"
   },
   "outputs": [
    {
     "name": "stdout",
     "output_type": "stream",
     "text": [
      "Success\n"
     ]
    }
   ],
   "source": [
    "import pandas as pd\n",
    "\n",
    "merged_df.to_excel('merged_data.xlsx', index=False)  # Set index=False to exclude index\n",
    "\n",
    "print(\"Success\")\n"
   ]
  }
 ],
 "metadata": {
  "colab": {
   "provenance": []
  },
  "kernelspec": {
   "display_name": "Python 3 (ipykernel)",
   "language": "python",
   "name": "python3"
  },
  "language_info": {
   "codemirror_mode": {
    "name": "ipython",
    "version": 3
   },
   "file_extension": ".py",
   "mimetype": "text/x-python",
   "name": "python",
   "nbconvert_exporter": "python",
   "pygments_lexer": "ipython3",
   "version": "3.10.8"
  }
 },
 "nbformat": 4,
 "nbformat_minor": 1
}
