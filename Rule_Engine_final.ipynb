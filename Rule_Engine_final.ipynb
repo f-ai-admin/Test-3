{
  "cells": [
    {
      "cell_type": "markdown",
      "metadata": {
        "id": "-wcgEpwj2RLW"
      },
      "source": [
        "# Rule Engine Structure"
      ]
    },
    {
      "cell_type": "code",
      "execution_count": 1,
      "metadata": {
        "id": "Nqijv-Xf55fs"
      },
      "outputs": [],
      "source": [
        "import pandas as pd\n",
        "\n",
        "structure = {\n",
        "    'Assets': {\n",
        "        'Current Assets': {\n",
        "            'Cash at bank': {\n",
        "                'BANK': {'HDFC'},\n",
        "                'USD BANK': {'HDFC1', 'SBI', 'Axis'}\n",
        "            },\n",
        "            'Cash A/c': {'Cash'},\n",
        "            'Cash equivalents': {'TREASURY BILLS', 'SECURITIES'},\n",
        "            'Short-term deposits': {},\n",
        "            'Accounts receivables': {},\n",
        "            'Inventory': {\n",
        "                'Steel': {'Tata steel', 'JSW'},\n",
        "                'tyre': {'MRF', 'Bridgestone'}\n",
        "            },\n",
        "            'Marketable securities': {},\n",
        "            'Office supplies': {},\n",
        "            'Prepaid Expenses': {}\n",
        "        },\n",
        "        'Fixed or Non-Current Assets': {\n",
        "            'Land': {},\n",
        "            'Building': {},\n",
        "            'Machinery': {},\n",
        "            'Equipment': {'Computer': {'One plus'}},\n",
        "            'Patents': {},\n",
        "            'Trademarks': {},\n",
        "            'Goodwill': {},\n",
        "            'Brand': {},\n",
        "            'Copyrights': {},\n",
        "            'Trade secrets': {},\n",
        "            'Licenses and permits': {},\n",
        "            'Corporate intellectual property': {}\n",
        "        }\n",
        "    }\n",
        "}\n",
        "\n"
      ]
    },
    {
      "cell_type": "markdown",
      "metadata": {
        "id": "XFDaMyFNr98X"
      },
      "source": [
        "\n",
        "\n",
        "The function is designed to find the path from c4 to c5 in a given hierarchy (val).\n",
        "\n",
        "It checks if the current value (val) is a dictionary.\n",
        "\n",
        "If it is a dictionary, it iterates through the key-value pairs and recursively calls the function on nested dictionaries.\n",
        "\n",
        "If the current value is a set, it checks if c5_value is present in the set.\n",
        "\n",
        "If c5_value is found, it returns the current path extended with c5_value.\n",
        "\n",
        "If none of the conditions are met, the function returns None, indicating that the path is not found in the current branch of the hierarchy."
      ]
    },
    {
      "cell_type": "code",
      "execution_count": 2,
      "metadata": {
        "id": "P87D1ZCt8K7a"
      },
      "outputs": [],
      "source": [
        "# Function to find the path from c4 to c5 in a given hierarchy (val)\n",
        "\n",
        "\n",
        "def find_path_c4_to_c5(val, c5_value, current_path=None):\n",
        "    # Initialize current_path to an empty list\n",
        "    if current_path is None:\n",
        "        current_path = []\n",
        "\n",
        "    # Check if the current value is a dictionary\n",
        "    if isinstance(val, dict):\n",
        "        # Iterate through key-value pairs in the dictionary\n",
        "        for key, value in val.items():\n",
        "            # Recursively call the function to search for the path in nested dictionaries\n",
        "            result = find_path_c4_to_c5(value, c5_value, current_path + [key])\n",
        "\n",
        "            # If a valid result is found, return the result\n",
        "            if result:\n",
        "                return result\n",
        "    # Check if the current value is a set\n",
        "    elif isinstance(val, set):\n",
        "        # If c5_value is present in the set, return the current path extended with c5_value\n",
        "        if c5_value in val:\n",
        "            return current_path + [c5_value]\n",
        "\n",
        "    # If none of the conditions are met, return None (indicating path not found)\n",
        "    return None\n"
      ]
    },
    {
      "cell_type": "markdown",
      "metadata": {
        "id": "o-QtYcUBs_n-"
      },
      "source": [
        "The function is designed to find the path from c1 to c3, completing the path by searching for c4_value and then using the find_path_c4_to_c5 function.\n",
        "\n",
        "It iterates through key-value pairs in the dictionary.\n",
        "\n",
        "If the current value is a dictionary, it checks if c4_value is present in the current level.\n",
        "\n",
        "If c4_value is found, it calls the find_path_c4_to_c5 function to find the path from c4 to c5.\n",
        "\n",
        "If a valid path is found, it returns the complete path from c1 to c3.\n",
        "\n",
        "If c4_value is not found, it recursively calls the function on nested dictionaries.\n",
        "\n",
        "If the current value is a set, it checks if c4_value is present in the set.\n",
        "\n",
        "If c4_value is found, it returns the current path extended with c4_value and c5_value.\n",
        "\n",
        "If none of the conditions are met, the function returns None, indicating that the path is not found in the current branch of the hierarchy."
      ]
    },
    {
      "cell_type": "code",
      "execution_count": 3,
      "metadata": {
        "id": "Jz42N0FF6WEf"
      },
      "outputs": [],
      "source": [
        "# Function to find the path from c1 to c3, completing the path from c1 to c4 to c5\n",
        "def find_path_c1_to_c3(dictionary, c4_value, c5_value, current_path=None):\n",
        "    # Initialize current_path to an empty list\n",
        "    if current_path is None:\n",
        "        current_path = []\n",
        "\n",
        "    # Iterate through key-value pairs in the dictionary\n",
        "    for key, value in dictionary.items():\n",
        "        # Check if the current value is a dictionary\n",
        "        if isinstance(value, dict):\n",
        "            # Check if c4_value is present in the current level of the hierarchy\n",
        "            if c4_value in value:\n",
        "                # Find the path from c4 to c5 using the find_path_c4_to_c5 function\n",
        "                path_c4_to_c5 = find_path_c4_to_c5(value[c4_value], c5_value)\n",
        "\n",
        "                # If a valid path is found, return the complete path from c1 to c3\n",
        "                if path_c4_to_c5:\n",
        "                    return current_path + [key, c4_value] + path_c4_to_c5\n",
        "            else:\n",
        "                # Recursively call the function to search for c4_value in nested dictionaries\n",
        "                result = find_path_c1_to_c3(value, c4_value, c5_value, current_path + [key])\n",
        "\n",
        "                # If a valid result is found, return the result\n",
        "                if result:\n",
        "                    return result\n",
        "        # Check if the current value is a set\n",
        "        elif isinstance(value, set):\n",
        "            # If c4_value is present in the set, return the current path extended with c4_value and c5_value\n",
        "            if c4_value in value:\n",
        "                return current_path + [ key, c4_value, c5_value]\n",
        "\n",
        "    # If none of the conditions are met, return None (indicating path not found)\n",
        "    return None\n"
      ]
    },
    {
      "cell_type": "code",
      "execution_count": 4,
      "metadata": {
        "colab": {
          "base_uri": "https://localhost:8080/",
          "height": 143
        },
        "id": "zGckHbBN8Nlx",
        "outputId": "1cd3c66c-245b-463d-c720-2d4d26f7a07c"
      },
      "outputs": [
        {
          "data": {
            "text/html": [
              "<div>\n",
              "<style scoped>\n",
              "    .dataframe tbody tr th:only-of-type {\n",
              "        vertical-align: middle;\n",
              "    }\n",
              "\n",
              "    .dataframe tbody tr th {\n",
              "        vertical-align: top;\n",
              "    }\n",
              "\n",
              "    .dataframe thead th {\n",
              "        text-align: right;\n",
              "    }\n",
              "</style>\n",
              "<table border=\"1\" class=\"dataframe\">\n",
              "  <thead>\n",
              "    <tr style=\"text-align: right;\">\n",
              "      <th></th>\n",
              "      <th>C1</th>\n",
              "      <th>C2</th>\n",
              "      <th>C3</th>\n",
              "      <th>C4</th>\n",
              "      <th>C5</th>\n",
              "    </tr>\n",
              "  </thead>\n",
              "  <tbody>\n",
              "    <tr>\n",
              "      <th>0</th>\n",
              "      <td>Assets</td>\n",
              "      <td>Current Assets</td>\n",
              "      <td>Cash equivalents</td>\n",
              "      <td>SECURITIES</td>\n",
              "      <td></td>\n",
              "    </tr>\n",
              "    <tr>\n",
              "      <th>1</th>\n",
              "      <td>Assets</td>\n",
              "      <td>Current Assets</td>\n",
              "      <td>Cash at bank</td>\n",
              "      <td>BANK</td>\n",
              "      <td>HDFC</td>\n",
              "    </tr>\n",
              "    <tr>\n",
              "      <th>2</th>\n",
              "      <td>Assets</td>\n",
              "      <td>Fixed or Non-Current Assets</td>\n",
              "      <td>Equipment</td>\n",
              "      <td>Computer</td>\n",
              "      <td>One plus</td>\n",
              "    </tr>\n",
              "  </tbody>\n",
              "</table>\n",
              "</div>"
            ],
            "text/plain": [
              "       C1                           C2                C3          C4        C5\n",
              "0  Assets               Current Assets  Cash equivalents  SECURITIES          \n",
              "1  Assets               Current Assets      Cash at bank        BANK      HDFC\n",
              "2  Assets  Fixed or Non-Current Assets         Equipment    Computer  One plus"
            ]
          },
          "execution_count": 4,
          "metadata": {},
          "output_type": "execute_result"
        }
      ],
      "source": [
        "#input (c4,c5)\n",
        "input_pairs = [('SECURITIES', ''), ('BANK', 'HDFC'),('Computer','One plus')]\n",
        "\n",
        "df_columns = ['C1', 'C2', 'C3', 'C4', 'C5']\n",
        "\n",
        "df_data = []\n",
        "\n",
        "for c4_input, c5_input in input_pairs:\n",
        "\n",
        "    result_path_c1_c3 = find_path_c1_to_c3(structure, c4_input, c5_input)\n",
        "\n",
        "    if result_path_c1_c3:\n",
        "\n",
        "        df_data.append(['Assets'] + result_path_c1_c3[1:] + [None]*(len(df_columns)-len(result_path_c1_c3)))\n",
        "\n",
        "result_df = pd.DataFrame(df_data, columns=df_columns)\n",
        "\n",
        "result_df"
      ]
    }
  ],
  "metadata": {
    "colab": {
      "provenance": []
    },
    "kernelspec": {
      "display_name": "Python 3",
      "name": "python3"
    },
    "language_info": {
      "codemirror_mode": {
        "name": "ipython",
        "version": 3
      },
      "file_extension": ".py",
      "mimetype": "text/x-python",
      "name": "python",
      "nbconvert_exporter": "python",
      "pygments_lexer": "ipython3",
      "version": "3.9.6"
    }
  },
  "nbformat": 4,
  "nbformat_minor": 0
}
