{
 "cells": [
  {
   "cell_type": "code",
   "execution_count": 2,
   "id": "8dc77724-abdb-43e4-92c6-ebe5bbe0942c",
   "metadata": {},
   "outputs": [],
   "source": [
    "import fitz\n",
    "import pandas as pd\n",
    "import re\n",
    "import os\n",
    "from PIL import Image\n",
    "import pytesseract"
   ]
  },
  {
   "cell_type": "code",
   "execution_count": 10,
   "id": "5a888e30-96ab-4e90-b6b1-787eace828bd",
   "metadata": {},
   "outputs": [],
   "source": [
    "import pytesseract\n",
    "from pytesseract import Output\n",
    "import cv2\n",
    "import os\n",
    "import easyocr"
   ]
  },
  {
   "cell_type": "code",
   "execution_count": 12,
   "id": "a1bfc9b0-e095-41f8-b00d-4cb9d50ce1f4",
   "metadata": {},
   "outputs": [
    {
     "name": "stderr",
     "output_type": "stream",
     "text": [
      "Neither CUDA nor MPS are available - defaulting to CPU. Note: This module is much faster with a GPU.\n"
     ]
    },
    {
     "name": "stdout",
     "output_type": "stream",
     "text": [
      "C:\\Users\\user\\Downloads\\Convert_pdf_file_into_the_excel_file\\template\\V_1.jpg\n"
     ]
    }
   ],
   "source": [
    "input_folder = \"C:\\\\Users\\\\user\\\\Downloads\\\\Convert_pdf_file_into_the_excel_file\\\\template\\\\\"  # Path to the folder containing input images\n",
    "reader = easyocr.Reader(['en'])  # Initialize EasyOCR with the desired language(s)\n",
    "\n",
    "count = 0\n",
    "\n",
    "fl_name = input_folder + 'V_1.jpg'\n",
    "print(fl_name)\n",
    "image_path = os.path.join(input_folder, fl_name)\n",
    "image = cv2.imread(image_path)\n"
   ]
  },
  {
   "cell_type": "code",
   "execution_count": 14,
   "id": "6cf401a2-b024-406e-b9ba-98be32f83fb1",
   "metadata": {},
   "outputs": [],
   "source": [
    "pytesseract.pytesseract.tesseract_cmd = 'C:\\\\Program Files\\\\Tesseract-OCR\\\\tesseract.exe'\n",
    "d = pytesseract.image_to_string(image, output_type=Output.DICT)"
   ]
  },
  {
   "cell_type": "code",
   "execution_count": 15,
   "id": "1699461d-6a5a-4908-a1c7-7ebc5a5b5f22",
   "metadata": {},
   "outputs": [],
   "source": [
    "text = d['text']"
   ]
  },
  {
   "cell_type": "code",
   "execution_count": 18,
   "id": "8d18db0a-85c6-43b5-9c79-15b761d9e986",
   "metadata": {},
   "outputs": [],
   "source": [
    "# print(text)"
   ]
  },
  {
   "cell_type": "code",
   "execution_count": 22,
   "id": "126607ee-3ef8-4782-93af-8222b2ba8e1f",
   "metadata": {
    "scrolled": true
   },
   "outputs": [],
   "source": [
    "import fitz  # PyMuPDF\n",
    "\n",
    "def pdf_to_images(pdf_path, output_folder):\n",
    "    # Open the PDF\n",
    "    pdf_document = fitz.open(pdf_path)\n",
    "\n",
    "    # Iterate over each page\n",
    "    for page_number in range(len(pdf_document)):\n",
    "        # Get the page\n",
    "        page = pdf_document.load_page(page_number)\n",
    "\n",
    "        # Render the page as an image\n",
    "        pix = page.get_pixmap()\n",
    "\n",
    "        # Save the image\n",
    "        # image_path = f\"{output_folder}/page_{page_number + 1}.png\"\n",
    "        # pix.save(image_path)\n",
    "\n",
    "    # Close the PDF\n",
    "    pdf_document.close()\n",
    "\n",
    "# Path to your PDF file\n",
    "pdf_file_path = 'V2.pdf'\n",
    "\n",
    "# Output folder where images will be saved\n",
    "output_folder = 'output_images'\n",
    "\n",
    "# Convert PDF to images\n",
    "pdf_to_images(pdf_file_path, output_folder)\n"
   ]
  },
  {
   "cell_type": "code",
   "execution_count": 23,
   "id": "a8331de8-97d4-4547-b7c0-f92ecdc8a419",
   "metadata": {},
   "outputs": [],
   "source": [
    "import pytesseract\n",
    "from PIL import Image\n",
    "import requests\n",
    "\n",
    "# Path to Tesseract OCR executable (change this path based on your system)\n",
    "pytesseract.pytesseract.tesseract_cmd = r'C:\\\\Program Files\\\\Tesseract-OCR\\\\tesseract.exe'\n",
    "\n",
    "# Path to the invoice image\n",
    "image_path = 'V_1.jpg'\n",
    "\n",
    "# Use Tesseract OCR to extract text from the image\n",
    "image = Image.open(image_path)\n",
    "text = pytesseract.image_to_string(image)\n"
   ]
  },
  {
   "cell_type": "code",
   "execution_count": 30,
   "id": "f63dcd81-0a8b-4b81-b0e4-e8097fffe135",
   "metadata": {},
   "outputs": [
    {
     "data": {
      "text/plain": [
       "'GSTIN No. : 07BENPD8298B1ZA TAX INVOICE Mob.:9711217503\\n\\nls 7976149256\\nFlat No. 475, Sec.-6, R.K. Puran, New rea lbloate\\nE-mail: dharmendra.muskantravel@gmail.com / www.muskantour.co\\nnes Dated 2 2le3l2e22 ee\\n\\n§\\nName: Boa y we Saludioma Bede Litd: saucussesecsnesseseuscesessussvessecacensacavenssosetseseneeeesssssoeess\\n\\nParty GSTIN :. SAY ROCASZE ZALZLcesssssssssscssssssssssssssessesssussssssssasssssssssccsesseessssssesssnnsennsnnsceesensiny\\n\\nAMOUNT\\n\\nKs\\n\\nrs\\n\\n| 2\\n\\naw | >\\na\\n\\niS | 4\\n2)\\n=\\nr\\n\\nfF | >\\n\\nW\\n\\ne\\ng\\n\\nDeus bs cahk thy/zo Ung |:\\n\\n5\\n\\n‘1 oY hy Somy:\\noU Fon.\\n\\nDyiney_ Mg\\n\\n|\\n[ico | uses |\\n[lero |\\n\\nyp\\n\\na |e |e\\n5\\n\\nte\\n\\nTIE tat tea tae EN OT DINE re OS OAS LS LS ONDE\\n\\nSF a el EE\\n7\\n}\\nSP a ers\\near a\\nie a i eae\\n\\nTotal Velue ee\\n\\nIGST@QS-7, |\\nananassae aaa\\nGRAND TOTAL Rea\\n\\nE.&0.E. EOC Be Travels\\n\\nAddress :F:282,.aualane Dov dacn.. 2uaNcey. N29 Pilect Lirat:. Beigel deltsrr2ol\\n\\n'"
      ]
     },
     "execution_count": 30,
     "metadata": {},
     "output_type": "execute_result"
    }
   ],
   "source": [
    "text"
   ]
  },
  {
   "cell_type": "code",
   "execution_count": 26,
   "id": "b0e286cd-d497-47af-9d60-9661d66a34e1",
   "metadata": {},
   "outputs": [],
   "source": [
    "# response.json()"
   ]
  },
  {
   "cell_type": "code",
   "execution_count": 27,
   "id": "efbdc256-8a0e-4453-9bc7-bfac38b48a65",
   "metadata": {},
   "outputs": [
    {
     "name": "stdout",
     "output_type": "stream",
     "text": [
      "########\n",
      "Document\n",
      "########\n",
      ":Mindee ID: 26845ef6-86a9-4ffe-aba8-5a9f854d5109\n",
      ":Filename: V2.pdf\n",
      "\n",
      "Inference\n",
      "#########\n",
      ":Product: mindee/invoices v4.4\n",
      ":Rotation applied: Yes\n",
      "\n",
      "Prediction\n",
      "==========\n",
      ":Locale: en; en; EUR;\n",
      ":Invoice Number: Mob.:9711217503\n",
      ":Reference Numbers:\n",
      ":Purchase Date:\n",
      ":Due Date:\n",
      ":Total Net: 335.00\n",
      ":Total Amount:\n",
      ":Taxes:\n",
      "  +---------------+--------+----------+---------------+\n",
      "  | Base          | Code   | Rate (%) | Amount        |\n",
      "  +===============+========+==========+===============+\n",
      ":Supplier Payment Details:\n",
      ":Supplier Name: MUSKAN TRAVELS\n",
      ":Supplier Company Registrations: 07BENPD8298B1ZA\n",
      ":Supplier Address: Flat No. 475,Sec.-6, R.K. Puran, New Delhi-110022\n",
      ":Customer Name: 5 8 C AUM . SOLUTHAA :\n",
      ":Customer Company Registrations:\n",
      ":Customer Address: . Soluthaa : www 32AACA 3A2L\n",
      ":Document Type: INVOICE\n",
      ":Line Items:\n",
      "  +--------------------------------------+--------------+----------+------------+--------------+--------------+------------+\n",
      "  | Description                          | Product code | Quantity | Tax Amount | Tax Rate (%) | Total Amount | Unit Price |\n",
      "  +======================================+==============+==========+============+==============+==============+============+\n",
      "  | Deni lee cal oolall                  | Elins        |          |            |              | 13.00        | 13.00      |\n",
      "  +--------------------------------------+--------------+----------+------------+--------------+--------------+------------+\n",
      "  | Exto tams . 09                       |              |          |            |              | 13.20        | 13.00      |\n",
      "  +--------------------------------------+--------------+----------+------------+--------------+--------------+------------+\n",
      "  | exha hrn - oyhr                      |              |          |            |              | 956.00       | 1.00       |\n",
      "  +--------------------------------------+--------------+----------+------------+--------------+--------------+------------+\n",
      "  | Tou dan 10000                        |              |          |            |              | 1.00         | 1.00       |\n",
      "  +--------------------------------------+--------------+----------+------------+--------------+--------------+------------+\n",
      "  | Diiver night . -                     |              |          |            |              | 2.00         | 2.00       |\n",
      "  +--------------------------------------+--------------+----------+------------+--------------+--------------+------------+\n",
      "\n",
      "Page Predictions\n",
      "================\n",
      "\n",
      "Page 0\n",
      "------\n",
      ":Locale: en; en; EUR;\n",
      ":Invoice Number: Mob.:9711217503\n",
      ":Reference Numbers:\n",
      ":Purchase Date:\n",
      ":Due Date:\n",
      ":Total Net: 335.00\n",
      ":Total Amount:\n",
      ":Taxes:\n",
      "  +---------------+--------+----------+---------------+\n",
      "  | Base          | Code   | Rate (%) | Amount        |\n",
      "  +===============+========+==========+===============+\n",
      ":Supplier Payment Details:\n",
      ":Supplier Name: MUSKAN TRAVELS\n",
      ":Supplier Company Registrations: 07BENPD8298B1ZA\n",
      ":Supplier Address: Flat No. 475,Sec.-6, R.K. Puran, New Delhi-110022\n",
      ":Customer Name: 5 8 C AUM . SOLUTHAA :\n",
      ":Customer Company Registrations:\n",
      ":Customer Address: . Soluthaa : www 32AACA 3A2L\n",
      ":Document Type: INVOICE\n",
      ":Line Items:\n",
      "  +--------------------------------------+--------------+----------+------------+--------------+--------------+------------+\n",
      "  | Description                          | Product code | Quantity | Tax Amount | Tax Rate (%) | Total Amount | Unit Price |\n",
      "  +======================================+==============+==========+============+==============+==============+============+\n",
      "  | Deni lee cal oolall                  | Elins        |          |            |              | 13.00        | 13.00      |\n",
      "  +--------------------------------------+--------------+----------+------------+--------------+--------------+------------+\n",
      "  | Exto tams . 09                       |              |          |            |              | 13.20        | 13.00      |\n",
      "  +--------------------------------------+--------------+----------+------------+--------------+--------------+------------+\n",
      "  | exha hrn - oyhr                      |              |          |            |              | 956.00       | 1.00       |\n",
      "  +--------------------------------------+--------------+----------+------------+--------------+--------------+------------+\n",
      "  | Tou dan 10000                        |              |          |            |              | 1.00         | 1.00       |\n",
      "  +--------------------------------------+--------------+----------+------------+--------------+--------------+------------+\n",
      "  | Diiver night . -                     |              |          |            |              | 2.00         | 2.00       |\n",
      "  +--------------------------------------+--------------+----------+------------+--------------+--------------+------------+\n",
      "\n"
     ]
    }
   ],
   "source": [
    "from mindee import Client, product\n",
    "\n",
    "# Init a new client\n",
    "mindee_client = Client(api_key=\"bcad7cece80deb982dbb960b6c6b5ab4\")\n",
    "\n",
    "# Load a file from disk\n",
    "input_doc = mindee_client.source_from_path(\"V2.pdf\")\n",
    "\n",
    "# Parse the document as an invoice by passing the appropriate type\n",
    "result = mindee_client.parse(product.InvoiceV4, input_doc)\n",
    "\n",
    "# Print a brief summary of the parsed data\n",
    "print(result.document)"
   ]
  },
  {
   "cell_type": "code",
   "execution_count": 28,
   "id": "03a0e4ab-18ca-443f-8103-d13727881db2",
   "metadata": {},
   "outputs": [],
   "source": [
    "import os\n",
    "import fitz\n",
    "from PIL import Image\n",
    "import pytesseract\n",
    "\n",
    "# Replace 'your_pdf_path.pdf' with the actual path to your PDF file\n",
    "pdf_path = 'V2.pdf'\n",
    "\n",
    "# Set the path to the Tesseract executable (change this based on your installation)\n",
    "pytesseract.pytesseract.tesseract_cmd = r'C:\\Program Files\\Tesseract-OCR\\tesseract.exe'\n",
    "\n",
    "def convert_pdf_to_images(pdf_path, image_folder='output_images'):\n",
    "    # Check if the PDF file exists\n",
    "    if not os.path.isfile(pdf_path):\n",
    "        print(f\"Error: PDF file '{pdf_path}' not found.\")\n",
    "        return\n",
    "\n",
    "    # Open the PDF file\n",
    "    pdf_document = fitz.open(pdf_path)\n",
    "\n",
    "    # Create the output folder if it doesn't exist\n",
    "    os.makedirs(image_folder, exist_ok=True)\n",
    "\n",
    "    # Iterate through each page and convert it to an image\n",
    "    text = ''\n",
    "    for page_number in range(pdf_document.page_count):\n",
    "        # Get the page\n",
    "        page = pdf_document[page_number]\n",
    "\n",
    "        # Render the page as an image with higher resolution\n",
    "        \n",
    "        pix = page.get_pixmap(matrix=fitz.Matrix(3, 3))  # Increase the resolution (adjust as needed)\n",
    "\n",
    "        # Check if the image is not empty\n",
    "        if pix.width == 0 or pix.height == 0:\n",
    "            print(f\"Error: Empty image for page {page_number + 1}\")\n",
    "            continue\n",
    "\n",
    "        image = Image.frombytes(\"RGB\", [pix.width, pix.height], pix.samples)\n",
    "\n",
    "        # Save the image in PNG format (lossless)\n",
    "        image_path = os.path.join(image_folder, f'page_{page_number + 1}.png')\n",
    "        image.save(image_path, format='PNG')\n",
    "\n",
    "        # Reopen the saved image before applying OCR\n",
    "        reopened_image = Image.open(image_path)\n",
    "\n",
    "        # Apply OCR using Tesseract\n",
    "        extracted_text = pytesseract.image_to_string(reopened_image)\n",
    "        # print(f\"Extracted text from page {page_number + 1}:\\n{extracted_text}\")\n",
    "        text+= extracted_text\n",
    "    return text\n",
    "    # Close the PDF document\n",
    "    pdf_document.close()\n",
    "\n",
    "\n",
    "text = convert_pdf_to_images(pdf_path)"
   ]
  },
  {
   "cell_type": "code",
   "execution_count": 29,
   "id": "4507660f-221a-44d8-8b4f-face69b26407",
   "metadata": {},
   "outputs": [
    {
     "data": {
      "text/plain": [
       "'GSTIN No. : 07BENPD8298B1ZA TAX INVOICE Mob.:9711217503\\n\\nls 7976149256\\nFlat No. 475, Sec.-6, R.K. Puran, New rea lbloate\\nE-mail: dharmendra.muskantravel@gmail.com / www.muskantour.co\\nnes Dated 2 2le3l2e22 ee\\n\\n§\\nName: Boa y we Saludioma Bede Litd: saucussesecsnesseseuscesessussvessecacensacavenssosetseseneeeesssssoeess\\n\\nParty GSTIN :. SAY ROCASZE ZALZLcesssssssssscssssssssssssssessesssussssssssasssssssssccsesseessssssesssnnsennsnnsceesensiny\\n\\nAMOUNT\\n\\nKs\\n\\nrs\\n\\n| 2\\n\\naw | >\\na\\n\\niS | 4\\n2)\\n=\\nr\\n\\nfF | >\\n\\nW\\n\\ne\\ng\\n\\nDeus bs cahk thy/zo Ung |:\\n\\n5\\n\\n‘1 oY hy Somy:\\noU Fon.\\n\\nDyiney_ Mg\\n\\n|\\n[ico | uses |\\n[lero |\\n\\nyp\\n\\na |e |e\\n5\\n\\nte\\n\\nTIE tat tea tae EN OT DINE re OS OAS LS LS ONDE\\n\\nSF a el EE\\n7\\n}\\nSP a ers\\near a\\nie a i eae\\n\\nTotal Velue ee\\n\\nIGST@QS-7, |\\nananassae aaa\\nGRAND TOTAL Rea\\n\\nE.&0.E. EOC Be Travels\\n\\nAddress :F:282,.aualane Dov dacn.. 2uaNcey. N29 Pilect Lirat:. Beigel deltsrr2ol\\n\\n'"
      ]
     },
     "execution_count": 29,
     "metadata": {},
     "output_type": "execute_result"
    }
   ],
   "source": [
    "text"
   ]
  },
  {
   "cell_type": "code",
   "execution_count": 31,
   "id": "50c014a0-6586-4be5-b0fd-b4f3b6f3bb84",
   "metadata": {},
   "outputs": [
    {
     "name": "stderr",
     "output_type": "stream",
     "text": [
      "WARNING:tabula.backend:Error importing jpype dependencies. Fallback to subprocess.\n",
      "WARNING:tabula.backend:No module named 'jpype'\n"
     ]
    }
   ],
   "source": [
    "import tabula\n",
    "\n",
    "def extract_tables_from_pdf(pdf_path):\n",
    "    tables = tabula.read_pdf(pdf_path, pages='all')\n",
    "    return tables\n",
    "\n",
    "# Usage\n",
    "tables = extract_tables_from_pdf(\"V2.pdf\")"
   ]
  },
  {
   "cell_type": "code",
   "execution_count": 32,
   "id": "66fb009c-cabf-4548-a2ee-9cd094455cc5",
   "metadata": {},
   "outputs": [
    {
     "data": {
      "text/plain": [
       "[]"
      ]
     },
     "execution_count": 32,
     "metadata": {},
     "output_type": "execute_result"
    }
   ],
   "source": [
    "tables"
   ]
  },
  {
   "cell_type": "code",
   "execution_count": 39,
   "id": "71efe233-7168-4a89-922e-2f88d7ef531b",
   "metadata": {},
   "outputs": [
    {
     "name": "stdout",
     "output_type": "stream",
     "text": [
      "Extracted Text:\n",
      "ae —_\n",
      "\n",
      "GOT CTRENPSascenars Taps bb Brats 8 re\n",
      "Muskan ‘travels\n",
      "Eee ison te mt Shee ny ms an “se wed\n",
      "Nn, - feu t\n",
      "Moma oo ’ Vo . ’ my\n",
      "- Sa tlt, an , “se ene\n",
      "\n",
      "Cate Gar be PARTIC ULAR S BATE oe \"\n",
      "\n",
      "ee ee eee ae ae eee\n",
      "1 * e ’ ‘ . . . e i . . . :\n",
      "ye one a!\n",
      "I 7 oe _ ¢\n",
      "\\ : . '\n",
      "| _ fo Oe meee a. -.-4\n",
      "1 i ' ;\n",
      "\n",
      "|”\n",
      "alee we 4\n",
      "\n",
      "Pap Ro ee eg\n",
      "\n",
      "bi. =H\n",
      "\n",
      "TT —\n",
      "\n",
      "| Amount in Words 2. ssn one ee ee ee\n",
      "\n",
      "— __ _faemerter TOTAL etre =\n",
      "-——_-_-rr—raee . ne Sa ee, j\n",
      "E.&0.E. For “oe ‘Travels\n",
      "\n",
      "a\n",
      "\n"
     ]
    }
   ],
   "source": [
    "import cv2\n",
    "import numpy as np\n",
    "import pytesseract\n",
    "from PIL import Image\n",
    "\n",
    "# Load the image\n",
    "image_path = 'output_images\\\\page_1.png'\n",
    "img = cv2.imread(image_path)\n",
    "\n",
    "# Convert the image to grayscale\n",
    "gray = cv2.cvtColor(img, cv2.COLOR_BGR2GRAY)\n",
    "\n",
    "# Apply thresholding to binarize the image\n",
    "_, thresh = cv2.threshold(gray, 0, 255, cv2.THRESH_BINARY_INV | cv2.THRESH_OTSU)\n",
    "\n",
    "# Perform morphological operations to remove noise\n",
    "kernel = np.ones((3, 3), np.uint8)\n",
    "opening = cv2.morphologyEx(thresh, cv2.MORPH_OPEN, kernel, iterations=2)\n",
    "\n",
    "# Apply Gaussian blur to further reduce noise\n",
    "blur = cv2.GaussianBlur(opening, (5, 5), 0)\n",
    "\n",
    "# Save the preprocessed image for visualization (optional)\n",
    "cv2.imwrite('preprocessed_image.png', blur)\n",
    "\n",
    "# Use Tesseract OCR to extract text from the preprocessed image\n",
    "text = pytesseract.image_to_string(Image.fromarray(blur))\n",
    "\n",
    "print(\"Extracted Text:\")\n",
    "print(text)\n"
   ]
  },
  {
   "cell_type": "code",
   "execution_count": null,
   "id": "8a73a86a-6c79-452f-b62e-448da1de2324",
   "metadata": {},
   "outputs": [],
   "source": []
  }
 ],
 "metadata": {
  "kernelspec": {
   "display_name": "Python 3 (ipykernel)",
   "language": "python",
   "name": "python3"
  },
  "language_info": {
   "codemirror_mode": {
    "name": "ipython",
    "version": 3
   },
   "file_extension": ".py",
   "mimetype": "text/x-python",
   "name": "python",
   "nbconvert_exporter": "python",
   "pygments_lexer": "ipython3",
   "version": "3.9.0"
  }
 },
 "nbformat": 4,
 "nbformat_minor": 5
}
