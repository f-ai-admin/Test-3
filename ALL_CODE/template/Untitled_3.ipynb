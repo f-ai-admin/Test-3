{
 "cells": [
  {
   "cell_type": "code",
   "execution_count": 4,
   "id": "19f59bf9-668d-49ea-8a82-233947da0c93",
   "metadata": {},
   "outputs": [],
   "source": [
    "import pandas as pd\n",
    "import re\n",
    "import os\n",
    "import fitz\n",
    "from PIL import Image\n",
    "import pytesseract"
   ]
  },
  {
   "cell_type": "code",
   "execution_count": 288,
   "id": "9ab79071-5fde-41aa-9710-ccd88781b805",
   "metadata": {},
   "outputs": [],
   "source": [
    "pdf_path = 'C1.pdf'\n",
    "\n",
    "text = ''\n",
    "pdf_document = fitz.open(pdf_path)\n",
    "count = pdf_document.page_count\n",
    "for i in range(count):\n",
    "    page = pdf_document[i]\n",
    "    tx= page.get_text()\n",
    "    text+=tx"
   ]
  },
  {
   "cell_type": "code",
   "execution_count": 289,
   "id": "43c4dea0-5ba6-4ea4-bfa2-1104b7ce007b",
   "metadata": {},
   "outputs": [],
   "source": [
    "# print(text)\n",
    "k1 = {}"
   ]
  },
  {
   "cell_type": "code",
   "execution_count": 290,
   "id": "571f3b6f-4ecd-4c04-8fa6-3e8794685c10",
   "metadata": {},
   "outputs": [],
   "source": [
    "patterns = [\n",
    "    r'Taxable Sub Total\\s+(\\d+,\\d+\\.\\d+)',\n",
    "    # r'IGST\\s+\\d+% - \\d+\\%\\s+(\\d+,\\d+\\.\\d+)',\n",
    "    r'Non-Taxable Sub Total\\s+(\\d+,\\d+\\.\\d+)',\n",
    "    # r'Round Off\\s+(\\d+\\.\\d+)',\n",
    "    r'TOTAL\\s+₹\\s+(\\d+,\\d+\\.\\d+)'\n",
    "]\n",
    "\n",
    "# Search for the patterns in the text\n",
    "results = {}\n",
    "for pattern in patterns:\n",
    "    match = re.search(pattern, text)\n",
    "    if match:\n",
    "        results[match.group(0)] = match.group(1)\n",
    "\n",
    "for i in list(results.keys()):\n",
    "    a,b = i.split('\\n')[0],i.split('\\n')[1]\n",
    "    k1[a] = b"
   ]
  },
  {
   "cell_type": "code",
   "execution_count": 291,
   "id": "836b38db-20e8-42d1-8e59-323a239272d3",
   "metadata": {},
   "outputs": [
    {
     "data": {
      "text/plain": [
       "{'Taxable Sub Total': '4,258.00', 'TOTAL': '₹ 4,471.00'}"
      ]
     },
     "execution_count": 291,
     "metadata": {},
     "output_type": "execute_result"
    }
   ],
   "source": [
    "k1"
   ]
  },
  {
   "cell_type": "code",
   "execution_count": 292,
   "id": "b4c8069a-b6ff-42bd-a8c0-199cb56807d7",
   "metadata": {},
   "outputs": [],
   "source": [
    "invoice_number_pattern = r'Invoice Number:\\s*([A-Z0-9-]+)'\n",
    "invoice_date_pattern = r'Invoice Date:\\s*(\\d{2}-\\d{2}-\\d{4})'\n",
    "\n",
    "# Search for the patterns in the text\n",
    "invoice_number_match = re.search(invoice_number_pattern, text)\n",
    "invoice_date_match = re.search(invoice_date_pattern, text)\n",
    "\n",
    "# Extract the information if found\n",
    "invoice_number = invoice_number_match.group(1) if invoice_number_match else None\n",
    "invoice_date = invoice_date_match.group(1) if invoice_date_match else None\n",
    "\n",
    "# Print the extracted information\n",
    "k1[\"Invoice Number\"] =  invoice_number\n",
    "k1[\"Invoice Date\"] = invoice_date"
   ]
  },
  {
   "cell_type": "code",
   "execution_count": 293,
   "id": "ce30ead5-022c-46bd-a054-b364b64e1bab",
   "metadata": {},
   "outputs": [],
   "source": [
    "pan_pattern = r'PAN:\\s*([A-Z0-9]+)'\n",
    "gstin_pattern = r'GSTIN:\\s*([A-Z0-9]+)'\n",
    "\n",
    "# Search for the patterns in the text\n",
    "pan_match = re.search(pan_pattern, text)\n",
    "gstin_match = re.search(gstin_pattern, text)\n",
    "\n",
    "# Extract the information if found\n",
    "pan_number = pan_match.group(1) if pan_match else None\n",
    "gstin_number = gstin_match.group(1) if gstin_match else None\n",
    "\n",
    "# Print the extracted information\n",
    "k1[\"PAN\"] =  pan_number\n",
    "k1[\"GSTIN\"] =  gstin_number"
   ]
  },
  {
   "cell_type": "code",
   "execution_count": 294,
   "id": "305f33f7-230f-4dfa-9cf3-f89d3c17b642",
   "metadata": {},
   "outputs": [
    {
     "data": {
      "text/plain": [
       "{'Taxable Sub Total': '4,258.00',\n",
       " 'TOTAL': '₹ 4,471.00',\n",
       " 'Invoice Number': 'AF2223-026869',\n",
       " 'Invoice Date': '15-03-2023',\n",
       " 'PAN': 'AAFCI9896L',\n",
       " 'GSTIN': '24AAFCI9896L1ZQ'}"
      ]
     },
     "execution_count": 294,
     "metadata": {},
     "output_type": "execute_result"
    }
   ],
   "source": [
    "k1"
   ]
  },
  {
   "cell_type": "code",
   "execution_count": 295,
   "id": "85459c1b-5b56-47db-862e-e9088f9e77a0",
   "metadata": {},
   "outputs": [],
   "source": [
    "# pdf_path = 'C1.pdf'\n",
    "\n",
    "# text = ''\n",
    "# pdf_document = fitz.open(pdf_path)\n",
    "# count = pdf_document.page_count\n",
    "# for i in range(count):\n",
    "#     if i==0:\n",
    "#         continue\n",
    "#     page = pdf_document[i]\n",
    "#     tx= page.get_text()\n",
    "#     text+=tx"
   ]
  },
  {
   "cell_type": "code",
   "execution_count": 296,
   "id": "06e6b7ac-5b5b-4074-a188-bc2ce57f55c4",
   "metadata": {},
   "outputs": [],
   "source": [
    "# print(text)"
   ]
  },
  {
   "cell_type": "code",
   "execution_count": 297,
   "id": "1ace799b-b61c-4831-9b4f-12a5536d78c5",
   "metadata": {},
   "outputs": [],
   "source": [
    "km_pattern = r'KM\\s+(\\d+)\\s+(\\d+)\\s+(\\d+)\\s+(\\d+)'\n",
    "time_pattern = r'Time\\s+(\\d{4} \\d{2}/\\d{2})\\s+(\\d{4} \\d{2}/\\d{2})\\s+(\\d{2}:\\d{2})\\s+(\\d{2}:\\d{2})'\n",
    "\n",
    "# Search for patterns in the text\n",
    "km_match = re.search(km_pattern, text)\n",
    "time_match = re.search(time_pattern, text)\n",
    "\n",
    "# Extract information if matches are found\n",
    "if km_match:\n",
    "    km_start, km_end, km_total, km_extra = km_match.groups()\n",
    "else:\n",
    "    km_start, km_end, km_total, km_extra = None, None, None, None\n",
    "\n",
    "if time_match:\n",
    "    time_start, time_end, time_total, time_extra = time_match.groups()\n",
    "else:\n",
    "    time_start, time_end, time_total, time_extra = None, None, None, None\n",
    "\n",
    "k =  {\n",
    "    \"KM Start\": km_start,\n",
    "    \"KM End\": km_end,\n",
    "    \"KM Total\": km_total,\n",
    "    \"KM Extra\": km_extra,\n",
    "    \"Time Start\": time_start,\n",
    "    \"Time End\": time_end,\n",
    "    \"Time Total\": time_total,\n",
    "    \"Time Extra\": time_extra\n",
    "}"
   ]
  },
  {
   "cell_type": "code",
   "execution_count": 298,
   "id": "f06ce8c3-9d7e-4930-b104-9573620978c0",
   "metadata": {},
   "outputs": [],
   "source": [
    "# k"
   ]
  },
  {
   "cell_type": "code",
   "execution_count": 300,
   "id": "72d1149a-b03a-4c52-8d15-239080515c43",
   "metadata": {},
   "outputs": [],
   "source": [
    "import tabula\n",
    "\n",
    "# Define the coordinates of the area containing the table [top, left, bottom, right]\n",
    "area = [110,33, 550, 550]  \n",
    "\n",
    "# Function to extract data from PDF using Tabula with defined area\n",
    "def extract_data_from_pdf(pdf_path, area):\n",
    "    try:\n",
    "        # Read the PDF using Tabula with the defined area\n",
    "        tables = tabula.read_pdf(pdf_path, pages='all', area=area)\n",
    "        return tables\n",
    "    except Exception as e:\n",
    "        print(f\"Error: {e}\")\n",
    "        return None\n",
    "\n",
    "# PDF file path\n",
    "pdf_path = \"C2.pdf\"\n",
    "\n",
    "# Extract data from PDF using defined area\n",
    "tables = extract_data_from_pdf(pdf_path, area)\n",
    "df1 = tables[0]\n",
    "df1.fillna('', inplace=True)\n"
   ]
  },
  {
   "cell_type": "code",
   "execution_count": 301,
   "id": "4ac0b9b9-14c6-4927-8efb-df80a4858ea6",
   "metadata": {},
   "outputs": [],
   "source": [
    "ls = list(df1.columns)\n",
    "k = {}\n",
    "for i in ls:\n",
    "    k[df1[i].iloc[6].replace('\\r',' ')]= df1[i].iloc[7].replace('\\r',' ')"
   ]
  },
  {
   "cell_type": "code",
   "execution_count": 171,
   "id": "3e870f9c-ec4e-4690-8e8e-d944c4b36f40",
   "metadata": {},
   "outputs": [],
   "source": [
    "import tabula\n",
    "\n",
    "# Define the coordinates of the area containing the table [top, left, bottom, right]\n",
    "area = [111,20, 550, 550]  \n",
    "\n",
    "# Function to extract data from PDF using Tabula with defined area\n",
    "def extract_data_from_pdf(pdf_path, area):\n",
    "    try:\n",
    "        # Read the PDF using Tabula with the defined area\n",
    "        tables = tabula.read_pdf(pdf_path, pages='all', area=area)\n",
    "        return tables\n",
    "    except Exception as e:\n",
    "        print(f\"Error: {e}\")\n",
    "        return None\n",
    "\n",
    "# PDF file path\n",
    "pdf_path = \"C1.pdf\"\n",
    "\n",
    "# Extract data from PDF using defined area\n",
    "tables = extract_data_from_pdf(pdf_path, area)\n",
    "df1 = tables[1]\n",
    "df1.fillna('', inplace=True)\n",
    "\n",
    "ls = list(df1.columns)\n",
    "for i in ls[0:2]:\n",
    "    k[df1[i].iloc[7].replace('\\r',' ')]= df1[i].iloc[8].replace('\\r',' ')"
   ]
  },
  {
   "cell_type": "code",
   "execution_count": 239,
   "id": "8d6a357a-1e25-4ec5-aa01-ac76892c46c8",
   "metadata": {},
   "outputs": [],
   "source": [
    "# k"
   ]
  },
  {
   "cell_type": "code",
   "execution_count": 226,
   "id": "355c0867-c3d1-4f2f-8a9b-948ba989b1d1",
   "metadata": {},
   "outputs": [],
   "source": [
    "import tabula\n",
    "\n",
    "# Define the coordinates of the area containing the table [top, left, bottom, right]\n",
    "area = [0,10, 400, 300]  \n",
    "\n",
    "# Function to extract data from PDF using Tabula with defined area\n",
    "def extract_data_from_pdf(pdf_path, area):\n",
    "    try:\n",
    "        # Read the PDF using Tabula with the defined area\n",
    "        tables = tabula.read_pdf(pdf_path, pages='all', area=area)\n",
    "        return tables\n",
    "    except Exception as e:\n",
    "        print(f\"Error: {e}\")\n",
    "        return None\n",
    "\n",
    "# PDF file path\n",
    "pdf_path = \"C1.pdf\"\n",
    "\n",
    "# Extract data from PDF using defined area\n",
    "tables = extract_data_from_pdf(pdf_path, area)\n",
    "df1 = tables[1]\n",
    "df1.fillna('', inplace=True)\n",
    "\n"
   ]
  },
  {
   "cell_type": "code",
   "execution_count": 233,
   "id": "0f138018-4712-4797-9e96-d0f583adf20e",
   "metadata": {},
   "outputs": [],
   "source": [
    "Date = df1.loc[0]['Duty #10722998-1'].split(' ')[-1]\n",
    "driver = df1.loc[3]['Duty #10722998-1'].split(' ')[-1]\n",
    "reporting_address = (' ').join([s for s in df1.loc[5]['Duty #10722998-1'].split(' ')[2:]])\n",
    "drop_address = (' ').join([s for s in df1.loc[6]['Duty #10722998-1'].split(' ')[2:]])"
   ]
  },
  {
   "cell_type": "code",
   "execution_count": 236,
   "id": "1741aa71-a76e-42b0-8034-88c870d53788",
   "metadata": {},
   "outputs": [],
   "source": [
    "k['Date'] = Date\n",
    "k['driver'] = driver\n",
    "k['reporting_address'] = reporting_address\n",
    "k['drop_address'] = drop_address"
   ]
  },
  {
   "cell_type": "code",
   "execution_count": 283,
   "id": "1ebcbad1-c359-46f7-9459-735b554257f3",
   "metadata": {},
   "outputs": [],
   "source": [
    "k.update(k1)"
   ]
  },
  {
   "cell_type": "code",
   "execution_count": 285,
   "id": "cce5670f-d447-47e5-8031-dff4345f0904",
   "metadata": {},
   "outputs": [],
   "source": [
    "# k"
   ]
  },
  {
   "cell_type": "code",
   "execution_count": 287,
   "id": "f8d99745-f155-4cc2-8a1a-7ca4847d1214",
   "metadata": {},
   "outputs": [
    {
     "data": {
      "text/html": [
       "<div>\n",
       "<style scoped>\n",
       "    .dataframe tbody tr th:only-of-type {\n",
       "        vertical-align: middle;\n",
       "    }\n",
       "\n",
       "    .dataframe tbody tr th {\n",
       "        vertical-align: top;\n",
       "    }\n",
       "\n",
       "    .dataframe thead th {\n",
       "        text-align: right;\n",
       "    }\n",
       "</style>\n",
       "<table border=\"1\" class=\"dataframe\">\n",
       "  <thead>\n",
       "    <tr style=\"text-align: right;\">\n",
       "      <th></th>\n",
       "      <th>Duty Id</th>\n",
       "      <th>Booked By</th>\n",
       "      <th>Passenger</th>\n",
       "      <th>Veh.Group</th>\n",
       "      <th>Veh.Num.</th>\n",
       "      <th>Duty Type</th>\n",
       "      <th>Qty</th>\n",
       "      <th>S.Date</th>\n",
       "      <th>E.Date</th>\n",
       "      <th>S.Time</th>\n",
       "      <th>...</th>\n",
       "      <th>Date</th>\n",
       "      <th>driver</th>\n",
       "      <th>reporting_address</th>\n",
       "      <th>drop_address</th>\n",
       "      <th>Taxable Sub Total</th>\n",
       "      <th>TOTAL</th>\n",
       "      <th>Invoice Number</th>\n",
       "      <th>Invoice Date</th>\n",
       "      <th>PAN</th>\n",
       "      <th>GSTIN</th>\n",
       "    </tr>\n",
       "  </thead>\n",
       "  <tbody>\n",
       "    <tr>\n",
       "      <th>0</th>\n",
       "      <td>#10722998- 1</td>\n",
       "      <td>Harmeet Singh</td>\n",
       "      <td>Dipendra Singh</td>\n",
       "      <td>CRYSTA</td>\n",
       "      <td>PB01N0768</td>\n",
       "      <td>LOCAL 8HRS/80KM</td>\n",
       "      <td>1</td>\n",
       "      <td>11-11</td>\n",
       "      <td>11-11</td>\n",
       "      <td>0915</td>\n",
       "      <td>...</td>\n",
       "      <td>11-11-2022</td>\n",
       "      <td>Satpal</td>\n",
       "      <td>Chandigarh Hotel (Please confirm with guest)</td>\n",
       "      <td>Field work at Chandigarh and drop at hotel</td>\n",
       "      <td>5,296.00</td>\n",
       "      <td>₹ 5,661.00</td>\n",
       "      <td>AF2223-026868</td>\n",
       "      <td>15-03-2023</td>\n",
       "      <td>AAFCI9896L</td>\n",
       "      <td>24AAFCI9896L1ZQ</td>\n",
       "    </tr>\n",
       "  </tbody>\n",
       "</table>\n",
       "<p>1 rows × 34 columns</p>\n",
       "</div>"
      ],
      "text/plain": [
       "        Duty Id      Booked By       Passenger Veh.Group   Veh.Num.  \\\n",
       "0  #10722998- 1  Harmeet Singh  Dipendra Singh    CRYSTA  PB01N0768   \n",
       "\n",
       "         Duty Type Qty S.Date E.Date S.Time  ...        Date  driver  \\\n",
       "0  LOCAL 8HRS/80KM   1  11-11  11-11   0915  ...  11-11-2022  Satpal   \n",
       "\n",
       "                              reporting_address  \\\n",
       "0  Chandigarh Hotel (Please confirm with guest)   \n",
       "\n",
       "                                 drop_address Taxable Sub Total       TOTAL  \\\n",
       "0  Field work at Chandigarh and drop at hotel          5,296.00  ₹ 5,661.00   \n",
       "\n",
       "  Invoice Number Invoice Date         PAN            GSTIN  \n",
       "0  AF2223-026868   15-03-2023  AAFCI9896L  24AAFCI9896L1ZQ  \n",
       "\n",
       "[1 rows x 34 columns]"
      ]
     },
     "execution_count": 287,
     "metadata": {},
     "output_type": "execute_result"
    }
   ],
   "source": [
    "df1 = pd.DataFrame([k])\n",
    "df1.to_excel('cus_1.xlsx')\n",
    "df1"
   ]
  },
  {
   "cell_type": "code",
   "execution_count": null,
   "id": "7c2cf562-9122-4f10-88e4-7c4f5c55c78b",
   "metadata": {},
   "outputs": [],
   "source": []
  }
 ],
 "metadata": {
  "kernelspec": {
   "display_name": "Python 3 (ipykernel)",
   "language": "python",
   "name": "python3"
  },
  "language_info": {
   "codemirror_mode": {
    "name": "ipython",
    "version": 3
   },
   "file_extension": ".py",
   "mimetype": "text/x-python",
   "name": "python",
   "nbconvert_exporter": "python",
   "pygments_lexer": "ipython3",
   "version": "3.9.0"
  }
 },
 "nbformat": 4,
 "nbformat_minor": 5
}
