{
 "cells": [
  {
   "cell_type": "code",
   "execution_count": 1,
   "id": "5fb74730-e67e-490c-87a3-7b344cb7d484",
   "metadata": {},
   "outputs": [],
   "source": [
    "import fitz\n",
    "import pandas as pd\n",
    "import re\n",
    "import os\n",
    "import fitz\n",
    "from PIL import Image\n",
    "import pytesseract"
   ]
  },
  {
   "cell_type": "code",
   "execution_count": 271,
   "id": "4e6a0361-39e6-4c5e-a3f9-67a07c2dadfe",
   "metadata": {},
   "outputs": [],
   "source": [
    "import tabula\n",
    "\n",
    "def extract_tables_from_pdf(pdf_path):\n",
    "    tables = tabula.read_pdf(pdf_path, pages='all')\n",
    "    return tables\n",
    "\n",
    "# Usage\n",
    "tables = extract_tables_from_pdf(\"V1.pdf\")"
   ]
  },
  {
   "cell_type": "code",
   "execution_count": null,
   "id": "71ce91a9-8ff0-4c0f-a61e-4680044ea2b5",
   "metadata": {},
   "outputs": [],
   "source": []
  },
  {
   "cell_type": "code",
   "execution_count": 130,
   "id": "89fb148a-d056-483d-bdcd-bc43a12766cf",
   "metadata": {},
   "outputs": [
    {
     "name": "stdout",
     "output_type": "stream",
     "text": [
      "Invoice No: 678/22-23\n",
      "Date: d 25-03-2022\n"
     ]
    }
   ],
   "source": [
    "df = tables[0]\n",
    "t1 = ''.join([s for s in df['Unnamed: 1'].loc[0].split('.')])\n",
    "invoice_no_pattern = re.compile(r'Invoice No\\s*:\\s*(.*?)Date', re.IGNORECASE)\n",
    "date_pattern = re.compile(r'Date\\s*:\\s*(.*)', re.IGNORECASE)\n",
    "\n",
    "# Find matches in the text\n",
    "invoice_no_match = invoice_no_pattern.search(t1)\n",
    "date_match = date_pattern.search(t1)\n",
    "\n",
    "# Extract invoice number and date if found\n",
    "invoice_no = invoice_no_match.group(1).strip() if invoice_no_match else None\n",
    "date = date_match.group(1).strip() if date_match else None\n",
    "\n",
    "# Print extracted information\n",
    "print(\"Invoice No:\", invoice_no)\n",
    "print(\"Date:\", date)"
   ]
  },
  {
   "cell_type": "code",
   "execution_count": 144,
   "id": "07d1149c-866f-498c-864a-1e561e1d7e25",
   "metadata": {},
   "outputs": [
    {
     "name": "stdout",
     "output_type": "stream",
     "text": [
      "2\n",
      "MR.PUNEET TRIPATHIARLAL TANDEL ON 21-03-22\n",
      "996601\n",
      "\n",
      "\n",
      "800.00\n"
     ]
    }
   ],
   "source": [
    "df.fillna('', inplace=True)\n",
    "\n",
    "ls = list(df.columns)\n"
   ]
  },
  {
   "cell_type": "code",
   "execution_count": 201,
   "id": "d20266a4-2ee2-4eea-a827-56dae68c71d0",
   "metadata": {},
   "outputs": [
    {
     "data": {
      "text/plain": [
       "['GJ 12 BX 0132 SEDAN AC CAR',\n",
       " 'GJ 12 BX 0132 SEDAN AC CAR',\n",
       " 'PICKUP FROM KANDLA AIRPORT AND DROP TO',\n",
       " 'HOTEL NEEMAYA AND HOTEL RENEST ON 21-03-22',\n",
       " 'MR.DILIPKUMAR ISHVARLAL TANDEL',\n",
       " 'MR.PUNEET TRIPATHI']"
      ]
     },
     "execution_count": 201,
     "metadata": {},
     "output_type": "execute_result"
    }
   ],
   "source": [
    "des = df.iloc[5]['Unnamed: 1'].split('\\r')\n",
    "des"
   ]
  },
  {
   "cell_type": "code",
   "execution_count": 217,
   "id": "940c21b8-c09a-4501-b2c0-2b6d6451d74e",
   "metadata": {},
   "outputs": [
    {
     "data": {
      "text/plain": [
       "'27AAOCA9263A1ZL'"
      ]
     },
     "execution_count": 217,
     "metadata": {},
     "output_type": "execute_result"
    }
   ],
   "source": [
    "Party_GST_NUMBER = df['Unnamed: 2'].iloc[3].split(':')[1]\n",
    "Party_GST_NUMBER"
   ]
  },
  {
   "cell_type": "code",
   "execution_count": 157,
   "id": "35fb61a8-3460-469b-9321-2f7e53a31bae",
   "metadata": {},
   "outputs": [
    {
     "data": {
      "text/plain": [
       "'996601'"
      ]
     },
     "execution_count": 157,
     "metadata": {},
     "output_type": "execute_result"
    }
   ],
   "source": [
    "SAC_CODE = df.iloc[5]['Unnamed: 2']\n",
    "SAC_CODE"
   ]
  },
  {
   "cell_type": "code",
   "execution_count": 165,
   "id": "f0301ae6-551a-4d8a-82d5-27b197d687a9",
   "metadata": {},
   "outputs": [
    {
     "data": {
      "text/plain": [
       "'24BUDPR3669E2ZH'"
      ]
     },
     "execution_count": 165,
     "metadata": {},
     "output_type": "execute_result"
    }
   ],
   "source": [
    "GST_Number = df.iloc[13]['Unnamed: 0'].split(':')[-1].strip().split('\\r')[0]\n",
    "GST_Number"
   ]
  },
  {
   "cell_type": "code",
   "execution_count": 202,
   "id": "2a86065f-296a-462c-bca1-cb6c7ce7ade3",
   "metadata": {},
   "outputs": [
    {
     "data": {
      "text/plain": [
       "('CGST  2.5', 'NIL')"
      ]
     },
     "execution_count": 202,
     "metadata": {},
     "output_type": "execute_result"
    }
   ],
   "source": [
    "ts = '' \n",
    "for i in ls:\n",
    "    ts+=df.iloc[9][i].strip()\n",
    "    ts+=''\n",
    "s = ts.split('%')\n",
    "cgst,cval = s[0],s[1]\n",
    "cgst,cval"
   ]
  },
  {
   "cell_type": "code",
   "execution_count": 191,
   "id": "b09a8d1e-e891-40b2-b241-789a5ec261e2",
   "metadata": {},
   "outputs": [
    {
     "data": {
      "text/plain": [
       "('SGST  2.5', 'NIL')"
      ]
     },
     "execution_count": 191,
     "metadata": {},
     "output_type": "execute_result"
    }
   ],
   "source": [
    "ts = '' \n",
    "for i in ls:\n",
    "    ts+=df.iloc[10][i].strip()\n",
    "    ts+=''\n",
    "s = ts.split('%')\n",
    "sgst,sval = s[0],s[1]\n",
    "sgst,sval"
   ]
  },
  {
   "cell_type": "code",
   "execution_count": 200,
   "id": "d3ea4465-e037-4adf-b956-ee19fa8d03cb",
   "metadata": {},
   "outputs": [
    {
     "data": {
      "text/plain": [
       "'1600.00'"
      ]
     },
     "execution_count": 200,
     "metadata": {},
     "output_type": "execute_result"
    }
   ],
   "source": [
    "Total_amount = df['Unnamed: 2'].loc[13]\n",
    "Total_amount"
   ]
  },
  {
   "cell_type": "code",
   "execution_count": 214,
   "id": "b17ce292-5789-4a61-a2d8-2ad2aff0e1a9",
   "metadata": {},
   "outputs": [
    {
     "data": {
      "text/plain": [
       "'M/sAurafox Solutions Private LimitedFlat-202, Krushna Darshan, Survey No.91,Plot No,1-7,Pimpalbhat, Raigad, MH 402201'"
      ]
     },
     "execution_count": 214,
     "metadata": {},
     "output_type": "execute_result"
    }
   ],
   "source": [
    "info = ''\n",
    "for i in df['Unnamed: 0'][0:2]:\n",
    "    info+=i\n",
    "info = ('').join([s for s in info.split('\\r')])\n",
    "info"
   ]
  },
  {
   "cell_type": "code",
   "execution_count": 222,
   "id": "9b62d37d-848c-44dc-846a-3ded8edbb032",
   "metadata": {},
   "outputs": [],
   "source": [
    "df_des = pd.DataFrame(des, columns=['description'])\n",
    "df_des.to_excel('V1_description.xlsx')\n"
   ]
  },
  {
   "cell_type": "code",
   "execution_count": 225,
   "id": "8807e4ec-56ca-4fb3-b81d-c5c52bba0815",
   "metadata": {},
   "outputs": [],
   "source": [
    "k = {\n",
    "   'invoice_no' :invoice_no,\n",
    "    'date':date,\n",
    "    'Party_GST_NUMBER':Party_GST_NUMBER,\n",
    "    'GST_Number':GST_Number,\n",
    "    cgst:cval,\n",
    "    sgst:sval,\n",
    "    'Total_amount':Total_amount,\n",
    "    'info':info\n",
    "    \n",
    "    \n",
    "    \n",
    "}"
   ]
  },
  {
   "cell_type": "code",
   "execution_count": 229,
   "id": "b88b102b-826d-4efc-881b-7fcbec6eedb5",
   "metadata": {},
   "outputs": [],
   "source": [
    "df = pd.DataFrame([k])\n",
    "df.to_excel('V1_out.xlsx')"
   ]
  },
  {
   "cell_type": "code",
   "execution_count": null,
   "id": "ee8ab8b1-14e0-4b13-adf7-7eb73235f56f",
   "metadata": {},
   "outputs": [],
   "source": [
    "\n"
   ]
  },
  {
   "cell_type": "code",
   "execution_count": 235,
   "id": "1252a41d-d243-4014-acf0-14d078298035",
   "metadata": {},
   "outputs": [],
   "source": [
    "def extract_tables_from_pdf(pdf_path):\n",
    "    tables = tabula.read_pdf(pdf_path, pages='all')\n",
    "    return tables\n",
    "\n",
    "# Usage\n",
    "tables = extract_tables_from_pdf(\"V3.pdf\")"
   ]
  },
  {
   "cell_type": "code",
   "execution_count": 236,
   "id": "cca6a31a-ef44-41d1-a9a3-4ca814ae6192",
   "metadata": {},
   "outputs": [],
   "source": [
    "df = tables[0]"
   ]
  },
  {
   "cell_type": "code",
   "execution_count": 247,
   "id": "1be04ded-5f14-4eb8-8db0-8fe52da4a5a3",
   "metadata": {},
   "outputs": [
    {
     "name": "stdout",
     "output_type": "stream",
     "text": [
      "Invoice No: 675/22-23\n",
      "Date: d 25-03-2022\n"
     ]
    },
    {
     "data": {
      "text/plain": [
       "'M/sAurafox Solutions Private LimitedFlat-202, Krushna Darshan, Survey No.91,Plot No,1-7,Pimpalbhat, Raigad, MH 402201'"
      ]
     },
     "execution_count": 247,
     "metadata": {},
     "output_type": "execute_result"
    }
   ],
   "source": [
    "df = tables[0]\n",
    "t1 = ''.join([s for s in df['Unnamed: 1'].loc[0].split('.')])\n",
    "invoice_no_pattern = re.compile(r'Invoice No\\s*:\\s*(.*?)Date', re.IGNORECASE)\n",
    "date_pattern = re.compile(r'Date\\s*:\\s*(.*)', re.IGNORECASE)\n",
    "\n",
    "# Find matches in the text\n",
    "invoice_no_match = invoice_no_pattern.search(t1)\n",
    "date_match = date_pattern.search(t1)\n",
    "\n",
    "# Extract invoice number and date if found\n",
    "invoice_no = invoice_no_match.group(1).strip() if invoice_no_match else None\n",
    "date = date_match.group(1).strip() if date_match else None\n",
    "\n",
    "# Print extracted information\n",
    "print(\"Invoice No:\", invoice_no)\n",
    "print(\"Date:\", date)\n",
    "\n",
    "df.fillna('', inplace=True)\n",
    "ls = list(df.columns)\n",
    "\n",
    "des = df.iloc[5]['Unnamed: 1'].split('\\r')\n",
    "# print('description : ',des)\n",
    "\n",
    "Party_GST_NUMBER = df['Unnamed: 2'].iloc[3].split(':')[1]\n",
    "Party_GST_NUMBER\n",
    "\n",
    "SAC_CODE = df.iloc[5]['Unnamed: 2']\n",
    "SAC_CODE\n",
    "\n",
    "GST_Number = df.iloc[13]['Unnamed: 0'].split(':')[-1].strip().split('\\r')[0]\n",
    "GST_Number\n",
    "\n",
    "ts = '' \n",
    "for i in ls:\n",
    "    ts+=df.iloc[9][i].strip()\n",
    "    ts+=''\n",
    "s = ts.split('%')\n",
    "cgst,cval = s[0],s[1]\n",
    "cgst,cval\n",
    "\n",
    "ts2 = '' \n",
    "for i in ls:\n",
    "    ts2+=df.iloc[10][i].strip()\n",
    "    ts2+=''\n",
    "s = ts2.split('%')\n",
    "sgst,sval = s[0],s[1]\n",
    "sgst,sval\n",
    "\n",
    "Total_amount = df['Unnamed: 2'].loc[13]\n",
    "Total_amount\n",
    "\n",
    "info = ''\n",
    "for i in df['Unnamed: 0'][0:2]:\n",
    "    info+=i\n",
    "info = ('').join([s for s in info.split('\\r')])\n",
    "info"
   ]
  },
  {
   "cell_type": "code",
   "execution_count": 255,
   "id": "7afddf37-7d94-477b-92cd-4ef711e20676",
   "metadata": {},
   "outputs": [],
   "source": [
    "df_des3 = pd.DataFrame(des, columns=['description'])\n",
    "df_des3.to_excel('V3_description.xlsx')\n"
   ]
  },
  {
   "cell_type": "code",
   "execution_count": 262,
   "id": "11bf3323-3636-49ab-aeb6-484a23a54aa0",
   "metadata": {},
   "outputs": [],
   "source": [
    "k = {\n",
    "   'invoice_no' :invoice_no,\n",
    "    'date':date,\n",
    "    'Party_GST_NUMBER':Party_GST_NUMBER,\n",
    "    'GST_Number':GST_Number,\n",
    "    cgst:cval,\n",
    "    sgst:sval,\n",
    "    'Total_amount':Total_amount,\n",
    "    'info':info\n",
    "    \n",
    "}\n",
    "df = pd.DataFrame([k])\n",
    "df.to_excel('V3_out.xlsx')"
   ]
  },
  {
   "cell_type": "code",
   "execution_count": null,
   "id": "d351633d-04f9-48ea-818e-cbc0af413f48",
   "metadata": {},
   "outputs": [],
   "source": []
  },
  {
   "cell_type": "code",
   "execution_count": 268,
   "id": "19f1f7f1-b1ee-42f6-8125-2ffef2e4c08c",
   "metadata": {},
   "outputs": [],
   "source": [
    "df1 = pd.read_excel('V3_out.xlsx',engine = 'openpyxl' )\n",
    "df2 = pd.read_excel('V1_out.xlsx',engine = 'openpyxl' )\n",
    "main_df = pd.concat([df1, df2], ignore_index=True)"
   ]
  },
  {
   "cell_type": "code",
   "execution_count": 270,
   "id": "782f233c-ea98-4f32-a34d-cfecbe44ac58",
   "metadata": {},
   "outputs": [],
   "source": [
    "main_df.to_excel('vendor_data.xlsx')"
   ]
  },
  {
   "cell_type": "code",
   "execution_count": null,
   "id": "8d11b177-1cd3-4e80-bc1b-ec2efb0e75f6",
   "metadata": {},
   "outputs": [],
   "source": []
  }
 ],
 "metadata": {
  "kernelspec": {
   "display_name": "Python 3 (ipykernel)",
   "language": "python",
   "name": "python3"
  },
  "language_info": {
   "codemirror_mode": {
    "name": "ipython",
    "version": 3
   },
   "file_extension": ".py",
   "mimetype": "text/x-python",
   "name": "python",
   "nbconvert_exporter": "python",
   "pygments_lexer": "ipython3",
   "version": "3.9.0"
  }
 },
 "nbformat": 4,
 "nbformat_minor": 5
}
