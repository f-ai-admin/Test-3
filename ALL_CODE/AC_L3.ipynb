{
 "cells": [
  {
   "cell_type": "code",
   "execution_count": 1,
   "id": "493b9502-22ff-4336-99c7-a54cb20285e8",
   "metadata": {},
   "outputs": [],
   "source": [
    "def user_input(acc_nm):\n",
    "\n",
    "    if acc_nm ==1:\n",
    "        ledger_name = input(\"Enter account 1 ledger name\")\n",
    "        sub_ledger_name = input(\"Enter account 1 sub ledger name\")\n",
    "        \n",
    "        a =  list(config['accounts'].keys())\n",
    "        b = [s.lower() for s in a]\n",
    "        c = sub_ledger_name.lower().split()[0]\n",
    "        acc = c\n",
    "        if c in b:\n",
    "            d = config['accounts'][c]['type']\n",
    "            subgroup = list(d.keys())[0]\n",
    "            group   = list(d.values())[0]['type']\n",
    "            # print(subgroup,group)\n",
    "    \n",
    "            return subgroup, group, acc,ledger_name,sub_ledger_name\n",
    "\n",
    "    if acc_nm ==2:\n",
    "\n",
    "        ledger_name = input(\"Enter account 2 ledger name\")\n",
    "        sub_ledger_name = input(\"Enter account 2 sub ledger name\")\n",
    "                \n",
    "        a =  list(config['accounts'].keys())\n",
    "        b = [s.lower() for s in a]\n",
    "        c = sub_ledger_name.lower().split()[0]\n",
    "        acc = c\n",
    "        if c in b:\n",
    "            d = config['accounts'][c]['type']\n",
    "            subgroup = list(d.keys())[0]\n",
    "            group   = list(d.values())[0]['type']\n",
    "            # print(subgroup,group)\n",
    "    \n",
    "            return subgroup, group, acc,ledger_name,sub_ledger_name\n",
    "        "
   ]
  },
  {
   "cell_type": "code",
   "execution_count": 2,
   "id": "5b0eea50-538b-4cf5-9186-976755ce4b16",
   "metadata": {},
   "outputs": [],
   "source": [
    "# user_input(1)"
   ]
  },
  {
   "cell_type": "code",
   "execution_count": 3,
   "id": "7060f82e-4058-4388-95b1-9321f7eee0da",
   "metadata": {},
   "outputs": [],
   "source": [
    "config = {\n",
    "    'account_types': {\n",
    "        'ASSET': {'balance_type': 'DEBIT'},\n",
    "        'INCOME': {'balance_type': 'CREDIT'},\n",
    "        'LIABILITY': {'balance_type': 'CREDIT'},\n",
    "        'EXPENSE': {'balance_type': 'DEBIT'},\n",
    "        'CAPITAL':{'balance_type': 'CREDIT'},\n",
    "        'REVENUE':{'balance_type': 'DEBIT'}\n",
    "    },\n",
    "\n",
    "    'accounts': {\n",
    "        'cash': {'type':{'CurrentAsset':{'type':'ASSET'}}},\n",
    "        'cash equivalents': {'type':{'CurrentAsset':{'type':'ASSET'}}},\n",
    "        'short term Deposits': {'type':{'CurrentAsset':{'type':'ASSET'}}},\n",
    "        'accounts receivables': {'type':{'CurrentAsset':{'type':'ASSET'}}},\n",
    "        'inventory': {'type':{'CurrentAsset':{'type':'ASSET'}}},\n",
    "        'marketable securities':{'type':{'CurrentAsset':{'type':'ASSET'}}},\n",
    "        'office supplies':{'type':{'CurrentAsset':{'type':'ASSET'}}},\n",
    "        'prepaid expenses':{'type':{'CurrentAsset':{'type':'ASSET'}}},\n",
    "\n",
    "        'land':{'type':{'FixedAsset':{'type':'ASSET'}}},\n",
    "        'building':{'type':{'FixedAsset':{'type':'ASSET'}}},\n",
    "        'machinery':{'type':{'FixedAsset':{'type':'ASSET'}}},\n",
    "        'equipment':{'type':{'FixedAsset':{'type':'ASSET'}}},\n",
    "        'patents':{'type':{'FixedAsset':{'type':'ASSET'}}},\n",
    "        'trademarks':{'type':{'FixedAsset':{'type':'ASSET'}}},\n",
    "        'goodwill':{'type':{'FixedAsset':{'type':'ASSET'}}},\n",
    "        'brand':{'type':{'FixedAsset':{'type':'ASSET'}}},\n",
    "        'copyrights':{'type':{'FixedAsset':{'type':'ASSET'}}},\n",
    "        'trade secrets':{'type':{'FixedAsset':{'type':'ASSET'}}},\n",
    "        'licenses and permits':{'type':{'FixedAsset':{'type':'ASSET'}}},\n",
    "        'corporate intellectual property':{'type':{'FixedAsset':{'type':'ASSET'}}},\n",
    "\n",
    "    }\n",
    "\n",
    "\n",
    "       \n",
    "}"
   ]
  },
  {
   "cell_type": "code",
   "execution_count": null,
   "id": "94ae11dd-e066-4d94-bc66-644edf83af44",
   "metadata": {},
   "outputs": [],
   "source": []
  },
  {
   "cell_type": "code",
   "execution_count": 4,
   "id": "dd172ec4-45ba-4d20-95b2-0a749481b4cf",
   "metadata": {},
   "outputs": [],
   "source": [
    "account = {}\n",
    "for i in config['accounts'].keys():\n",
    "    account[i]=0\n",
    "\n",
    "\n",
    "info = {\n",
    "    'subgroup' : [],\n",
    "    'group'    : [],\n",
    "    'acc'     : [],\n",
    "    'ledger_name':[],\n",
    "    'sub_ledger_name':[],\n",
    "    'category' : [],\n",
    "    'amount':[],\n",
    "    'amount_type':[]\n",
    "    \n",
    "}\n"
   ]
  },
  {
   "cell_type": "code",
   "execution_count": 5,
   "id": "3f4e2918-9a64-4b2a-abb9-9a9df4110fef",
   "metadata": {},
   "outputs": [],
   "source": [
    "def identify_account_ledger_category(account_type):\n",
    "    if account_type in ['ASSET', 'LIABILITY']:\n",
    "        return 'Real'\n",
    "    elif account_type == 'CAPITAL':\n",
    "        return 'Personal'\n",
    "    elif account_type in ['INCOME', 'EXPENSE']:\n",
    "        return 'Nominal'\n",
    "    else:\n",
    "        return 'Uncategorized'\n",
    "    \n",
    "def identify_ledger_category(account_type):\n",
    "    if account_type == 'ASSET':\n",
    "        return 'Assets'\n",
    "    elif account_type == 'LIABILITY':\n",
    "        return 'Liabilities'\n",
    "    elif account_type == 'CAPITAL':\n",
    "        return 'Capital'\n",
    "    elif account_type == 'INCOME':\n",
    "        return 'Revenue'\n",
    "    elif account_type == 'EXPENSE':\n",
    "        return 'Expenses'\n",
    "    else:\n",
    "        return 'Uncategorized'\n"
   ]
  },
  {
   "cell_type": "code",
   "execution_count": 6,
   "id": "39df79df-d14f-4106-8207-cef75146bea0",
   "metadata": {},
   "outputs": [],
   "source": [
    "def identify_category(subgroup,group,account):\n",
    "    if subgroup==\"CurrentAsset\":\n",
    "        category = identify_ledger_category(config['accounts'][account]['type']['CurrentAsset']['type'])\n",
    "        narration   = identify_account_ledger_category(category)\n",
    "        return category ,narration\n",
    "\n",
    "    if subgroup==\"FixedAsset\":\n",
    "        category = identify_ledger_category(config['accounts'][account]['type']['FixedAsset']['type'])\n",
    "        narration   = identify_account_ledger_category(category)\n",
    "        return category ,narration"
   ]
  },
  {
   "cell_type": "code",
   "execution_count": 7,
   "id": "74d93a7e-f50e-4488-950c-843b121ece7a",
   "metadata": {},
   "outputs": [
    {
     "data": {
      "text/plain": [
       "('Assets', 'Uncategorized')"
      ]
     },
     "execution_count": 7,
     "metadata": {},
     "output_type": "execute_result"
    }
   ],
   "source": [
    "identify_category('CurrentAsset','df2','cash')"
   ]
  },
  {
   "cell_type": "code",
   "execution_count": 8,
   "id": "17ff1cf1-edad-42d0-a49b-ae2d6caf5f52",
   "metadata": {},
   "outputs": [],
   "source": [
    "class DoubleEntryAccounting:\n",
    "    def __init__(self,acc_key):\n",
    "        self.accounts = acc_key\n",
    "\n",
    "    def create_account(self, account_name, initial_balance=0):\n",
    "        self.accounts[account_name] = initial_balance\n",
    "       \n",
    "    def record_transaction(self, debit_account, credit_account, amount):\n",
    "    \n",
    "        # Debit the asset account\n",
    "        self.accounts[debit_account] += amount\n",
    "        debit = 'debit'\n",
    "        # print(self.accounts[debit_account] , debit )\n",
    "\n",
    "        # Credit the asset account\n",
    "        self.accounts[credit_account] -= amount\n",
    "        credit = 'credit'\n",
    "        # print(self.accounts[credit_account] , credit)\n",
    "\n",
    "        return (self.accounts[debit_account] , debit) , (self.accounts[credit_account] , credit)\n",
    "\n",
    "    "
   ]
  },
  {
   "cell_type": "code",
   "execution_count": 27,
   "id": "01d7014c-3324-4508-bbe8-647ec10ef575",
   "metadata": {},
   "outputs": [],
   "source": [
    "info = {\n",
    "    'C1'    : [],\n",
    "    'C2' : [],\n",
    "    'C3'    : [],\n",
    "    'C4':[],\n",
    "    'C5':[],\n",
    "    'amount':[],\n",
    "    'amount_type':[]\n",
    "    \n",
    "}\n",
    "account = {}\n",
    "for i in config['accounts'].keys():\n",
    "    account[i]=0\n"
   ]
  },
  {
   "cell_type": "code",
   "execution_count": 29,
   "id": "0a24f0a5-18c6-47e1-9e35-6ae1eebc79b3",
   "metadata": {},
   "outputs": [
    {
     "name": "stdin",
     "output_type": "stream",
     "text": [
      "Enter account 1 ledger name hdfc\n",
      "Enter account 1 sub ledger name cash\n",
      "Enter account 2 ledger name kotak\n",
      "Enter account 2 sub ledger name land\n"
     ]
    }
   ],
   "source": [
    "sys = DoubleEntryAccounting(account)\n",
    "\n",
    "subgroup1, group1, acc1,ledger_name1,sub_ledger_name1 = user_input(1)\n",
    "subgroup2, group2, acc2 ,ledger_name2,sub_ledger_name2 = user_input(2)\n",
    "\n",
    "\n",
    "if (ledger_name1 in info['C5']) | (ledger_name2 in info['C5']) :\n",
    "    print(\"****bank already exist!*****\")\n",
    "else:\n",
    "    sys.create_account(acc1,100000)\n",
    "    sys.create_account(acc2,100000)\n",
    "    \n",
    "    # info['ledger_name'].append(ledger_name1)\n",
    "    info['C2'].append(subgroup1)\n",
    "    info['C1'].append(group1)\n",
    "    info['C3'].append(acc1)\n",
    "    info['C5'].append(ledger_name1)\n",
    "    info['C4'].append(sub_ledger_name1)\n",
    "\n",
    "    # info['ledger_name'].append(ledger_name2)\n",
    "    info['C2'].append(subgroup2)\n",
    "    info['C1'].append(group2)\n",
    "    info['C3'].append(acc2)\n",
    "    info['C5'].append(ledger_name2)\n",
    "    info['C4'].append(sub_ledger_name2)\n",
    "\n",
    "    \n",
    "    category1, narration1 = identify_category(subgroup1,group1,acc1)\n",
    "    category2, narration2  = identify_category(subgroup2,group2,acc2)\n",
    "    # info['narration'].append(narration1)\n",
    "    # info['narration'].append(narration2)\n",
    "    # # info['category'].append(category1)\n",
    "    # info['category'].append(category2)\n",
    "    \n",
    "    \n",
    "    if category1 == 'Assets' and category2 == 'Assets':\n",
    "        s1,s2 = sys.record_transaction(acc1, acc2, amount=10000)\n",
    "        # print(\"*************\",s1,s2)\n",
    "        amount1 = s1[0]\n",
    "        amount_type1 = s1[1]\n",
    "        info['amount'].append(amount1)\n",
    "        info['amount_type'].append(amount_type1)\n",
    "        \n",
    "        amount2 = s2[0]\n",
    "        amount_type2 = s2[1]\n",
    "        info['amount'].append(amount2)\n",
    "        info['amount_type'].append(amount_type2)\n",
    "\n"
   ]
  },
  {
   "cell_type": "code",
   "execution_count": 49,
   "id": "9105e192-9851-4f2b-b6d8-fab5ac604f4e",
   "metadata": {},
   "outputs": [],
   "source": [
    "C = {\n",
    "    'Group':'C1',\n",
    "    'Subgroup':'C2',\n",
    "    'Ledger':'C3',\n",
    "    'Sub ledger':'C4',\n",
    "    'Ledger Name':'C5',\n",
    "}"
   ]
  },
  {
   "cell_type": "code",
   "execution_count": 26,
   "id": "7e65d6da-0aa6-4faa-9fe4-f4ee380132cb",
   "metadata": {},
   "outputs": [
    {
     "data": {
      "text/plain": [
       "{'group': 'C1',\n",
       " 'subgroup': 'C2',\n",
       " 'account_name': 'C3',\n",
       " 'sub_ledger_name': 'C4',\n",
       " 'ledger_name': 'C5'}"
      ]
     },
     "execution_count": 26,
     "metadata": {},
     "output_type": "execute_result"
    }
   ],
   "source": [
    "C"
   ]
  },
  {
   "cell_type": "code",
   "execution_count": 30,
   "id": "0a150958-bdbd-48fa-bc38-a407c69891b6",
   "metadata": {},
   "outputs": [
    {
     "data": {
      "text/html": [
       "<div>\n",
       "<style scoped>\n",
       "    .dataframe tbody tr th:only-of-type {\n",
       "        vertical-align: middle;\n",
       "    }\n",
       "\n",
       "    .dataframe tbody tr th {\n",
       "        vertical-align: top;\n",
       "    }\n",
       "\n",
       "    .dataframe thead th {\n",
       "        text-align: right;\n",
       "    }\n",
       "</style>\n",
       "<table border=\"1\" class=\"dataframe\">\n",
       "  <thead>\n",
       "    <tr style=\"text-align: right;\">\n",
       "      <th></th>\n",
       "      <th>C1</th>\n",
       "      <th>C2</th>\n",
       "      <th>C3</th>\n",
       "      <th>C4</th>\n",
       "      <th>C5</th>\n",
       "      <th>amount</th>\n",
       "      <th>amount_type</th>\n",
       "    </tr>\n",
       "  </thead>\n",
       "  <tbody>\n",
       "    <tr>\n",
       "      <th>0</th>\n",
       "      <td>ASSET</td>\n",
       "      <td>CurrentAsset</td>\n",
       "      <td>cash</td>\n",
       "      <td>cash</td>\n",
       "      <td>hdfc</td>\n",
       "      <td>110000</td>\n",
       "      <td>debit</td>\n",
       "    </tr>\n",
       "    <tr>\n",
       "      <th>1</th>\n",
       "      <td>ASSET</td>\n",
       "      <td>FixedAsset</td>\n",
       "      <td>land</td>\n",
       "      <td>land</td>\n",
       "      <td>kotak</td>\n",
       "      <td>90000</td>\n",
       "      <td>credit</td>\n",
       "    </tr>\n",
       "  </tbody>\n",
       "</table>\n",
       "</div>"
      ],
      "text/plain": [
       "      C1            C2    C3    C4     C5  amount amount_type\n",
       "0  ASSET  CurrentAsset  cash  cash   hdfc  110000       debit\n",
       "1  ASSET    FixedAsset  land  land  kotak   90000      credit"
      ]
     },
     "execution_count": 30,
     "metadata": {},
     "output_type": "execute_result"
    }
   ],
   "source": [
    "import pandas as pd\n",
    "pd.DataFrame(info)"
   ]
  },
  {
   "cell_type": "code",
   "execution_count": null,
   "id": "15025505-6d5c-40a9-a63b-e646ee43d063",
   "metadata": {},
   "outputs": [],
   "source": []
  },
  {
   "cell_type": "code",
   "execution_count": null,
   "id": "0a8c5153-5001-42bb-b57c-c8075356bbdf",
   "metadata": {},
   "outputs": [],
   "source": []
  }
 ],
 "metadata": {
  "kernelspec": {
   "display_name": "Python 3 (ipykernel)",
   "language": "python",
   "name": "python3"
  },
  "language_info": {
   "codemirror_mode": {
    "name": "ipython",
    "version": 3
   },
   "file_extension": ".py",
   "mimetype": "text/x-python",
   "name": "python",
   "nbconvert_exporter": "python",
   "pygments_lexer": "ipython3",
   "version": "3.9.0"
  }
 },
 "nbformat": 4,
 "nbformat_minor": 5
}
