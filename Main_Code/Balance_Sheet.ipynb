{
 "cells": [
  {
   "cell_type": "code",
   "execution_count": 65,
   "id": "815d79d8-b3fd-4cd7-9d8e-2fac1d10454d",
   "metadata": {},
   "outputs": [],
   "source": [
    "import pandas as pd"
   ]
  },
  {
   "cell_type": "code",
   "execution_count": 66,
   "id": "8d9a49f4-52fc-473b-80b6-11ea6df6d637",
   "metadata": {},
   "outputs": [],
   "source": [
    "data = pd.read_excel('Purchase_Ledger_Entry2.xlsx',engine='openpyxl')"
   ]
  },
  {
   "cell_type": "code",
   "execution_count": 67,
   "id": "74c92e6d-bbd5-414e-ac1c-34f6906193b7",
   "metadata": {},
   "outputs": [],
   "source": [
    "trial_balance = pd.pivot_table(data, index=['J4 - Ledger_Name'], \n",
    "                               values=['J6 - Dr Amount', 'J7 - Cr Amount'], \n",
    "                               aggfunc='sum').fillna(0)\n",
    "\n",
    "trial_balance['Balance'] = trial_balance['J6 - Dr Amount'] - trial_balance['J7 - Cr Amount']\n"
   ]
  },
  {
   "cell_type": "code",
   "execution_count": 68,
   "id": "a9e4598d-b983-4c7f-bab4-1f55a794196e",
   "metadata": {},
   "outputs": [],
   "source": [
    "# trial_balance.to_excel('pv.xlsx')"
   ]
  },
  {
   "cell_type": "code",
   "execution_count": 69,
   "id": "278d00f8-0703-4bcc-a8b0-80514924dcdc",
   "metadata": {},
   "outputs": [],
   "source": [
    "# trial_balance"
   ]
  },
  {
   "cell_type": "code",
   "execution_count": 70,
   "id": "bbba9e54-4956-44a6-938e-cdd5572bd05b",
   "metadata": {},
   "outputs": [
    {
     "name": "stdout",
     "output_type": "stream",
     "text": [
      "sum of debit 7851875\n",
      "sum of credit 7501600\n"
     ]
    }
   ],
   "source": [
    "print(\"sum of debit\", trial_balance['J6 - Dr Amount'].sum())\n",
    "print(\"sum of credit\", trial_balance['J7 - Cr Amount'].sum())"
   ]
  },
  {
   "cell_type": "code",
   "execution_count": 71,
   "id": "5e027d7c-473a-41c1-8581-3b61c66c95a6",
   "metadata": {},
   "outputs": [
    {
     "name": "stdout",
     "output_type": "stream",
     "text": [
      "Account Summary:\n"
     ]
    },
    {
     "data": {
      "text/html": [
       "<div>\n",
       "<style scoped>\n",
       "    .dataframe tbody tr th:only-of-type {\n",
       "        vertical-align: middle;\n",
       "    }\n",
       "\n",
       "    .dataframe tbody tr th {\n",
       "        vertical-align: top;\n",
       "    }\n",
       "\n",
       "    .dataframe thead th {\n",
       "        text-align: right;\n",
       "    }\n",
       "</style>\n",
       "<table border=\"1\" class=\"dataframe\">\n",
       "  <thead>\n",
       "    <tr style=\"text-align: right;\">\n",
       "      <th></th>\n",
       "      <th></th>\n",
       "      <th>J6 - Dr Amount</th>\n",
       "      <th>J7 - Cr Amount</th>\n",
       "      <th>Balance</th>\n",
       "    </tr>\n",
       "    <tr>\n",
       "      <th>J4 - Ledger_Name</th>\n",
       "      <th>J2 - Date</th>\n",
       "      <th></th>\n",
       "      <th></th>\n",
       "      <th></th>\n",
       "    </tr>\n",
       "  </thead>\n",
       "  <tbody>\n",
       "    <tr>\n",
       "      <th>AC</th>\n",
       "      <th>2024-01-23</th>\n",
       "      <td>80000</td>\n",
       "      <td>0</td>\n",
       "      <td>80000</td>\n",
       "    </tr>\n",
       "    <tr>\n",
       "      <th>Accounts Payable</th>\n",
       "      <th>2024-02-10</th>\n",
       "      <td>100000</td>\n",
       "      <td>0</td>\n",
       "      <td>100000</td>\n",
       "    </tr>\n",
       "    <tr>\n",
       "      <th>Advertising Revenue</th>\n",
       "      <th>2024-02-18</th>\n",
       "      <td>100000</td>\n",
       "      <td>0</td>\n",
       "      <td>100000</td>\n",
       "    </tr>\n",
       "    <tr>\n",
       "      <th>Amazon</th>\n",
       "      <th>2024-01-15</th>\n",
       "      <td>44800</td>\n",
       "      <td>44800</td>\n",
       "      <td>0</td>\n",
       "    </tr>\n",
       "    <tr>\n",
       "      <th>Angel Investors Group</th>\n",
       "      <th>2024-02-06</th>\n",
       "      <td>360000</td>\n",
       "      <td>360000</td>\n",
       "      <td>0</td>\n",
       "    </tr>\n",
       "    <tr>\n",
       "      <th>...</th>\n",
       "      <th>...</th>\n",
       "      <td>...</td>\n",
       "      <td>...</td>\n",
       "      <td>...</td>\n",
       "    </tr>\n",
       "    <tr>\n",
       "      <th rowspan=\"2\" valign=\"top\">tax igst 28%</th>\n",
       "      <th>2024-01-19</th>\n",
       "      <td>7000</td>\n",
       "      <td>0</td>\n",
       "      <td>7000</td>\n",
       "    </tr>\n",
       "    <tr>\n",
       "      <th>2024-01-23</th>\n",
       "      <td>11200</td>\n",
       "      <td>0</td>\n",
       "      <td>11200</td>\n",
       "    </tr>\n",
       "    <tr>\n",
       "      <th rowspan=\"2\" valign=\"top\">tax igst 5%</th>\n",
       "      <th>2024-01-17</th>\n",
       "      <td>1125</td>\n",
       "      <td>0</td>\n",
       "      <td>1125</td>\n",
       "    </tr>\n",
       "    <tr>\n",
       "      <th>2024-02-10</th>\n",
       "      <td>5000</td>\n",
       "      <td>0</td>\n",
       "      <td>5000</td>\n",
       "    </tr>\n",
       "    <tr>\n",
       "      <th>tax igst 8%</th>\n",
       "      <th>2024-02-08</th>\n",
       "      <td>16000</td>\n",
       "      <td>0</td>\n",
       "      <td>16000</td>\n",
       "    </tr>\n",
       "  </tbody>\n",
       "</table>\n",
       "<p>90 rows × 3 columns</p>\n",
       "</div>"
      ],
      "text/plain": [
       "                                  J6 - Dr Amount  J7 - Cr Amount  Balance\n",
       "J4 - Ledger_Name      J2 - Date                                          \n",
       "AC                    2024-01-23           80000               0    80000\n",
       "Accounts Payable      2024-02-10          100000               0   100000\n",
       "Advertising Revenue   2024-02-18          100000               0   100000\n",
       "Amazon                2024-01-15           44800           44800        0\n",
       "Angel Investors Group 2024-02-06          360000          360000        0\n",
       "...                                          ...             ...      ...\n",
       "tax igst 28%          2024-01-19            7000               0     7000\n",
       "                      2024-01-23           11200               0    11200\n",
       "tax igst 5%           2024-01-17            1125               0     1125\n",
       "                      2024-02-10            5000               0     5000\n",
       "tax igst 8%           2024-02-08           16000               0    16000\n",
       "\n",
       "[90 rows x 3 columns]"
      ]
     },
     "execution_count": 71,
     "metadata": {},
     "output_type": "execute_result"
    }
   ],
   "source": [
    "data2 = pd.pivot_table(data, index=['J4 - Ledger_Name','J2 - Date'], \n",
    "                               values=['J6 - Dr Amount', 'J7 - Cr Amount'], \n",
    "                               aggfunc='sum').fillna(0)\n",
    "data2['Balance'] = (data2['J6 - Dr Amount'] - data2['J7 - Cr Amount'])\n",
    "\n",
    "account_summary = data2.groupby(['J4 - Ledger_Name','J2 - Date']).agg({'J6 - Dr Amount': 'sum', 'J7 - Cr Amount': 'sum', 'Balance': 'sum'})\n",
    "\n",
    "# account_summary = account_summary.sort_values(by='Balance', ascending=False)\n",
    "\n",
    "# Display the summary\n",
    "print(\"Account Summary:\")\n",
    "account_summary"
   ]
  },
  {
   "cell_type": "code",
   "execution_count": 72,
   "id": "d53c68c5-3d5f-44ce-80ba-e5469003935e",
   "metadata": {},
   "outputs": [],
   "source": [
    "dr = trial_balance.groupby('J4 - Ledger_Name')['J6 - Dr Amount'].sum()\n",
    "ledger = list(dr.keys())\n",
    "amount = list(dr.values)\n",
    "mapp_dr = {}\n",
    "for i in range(len(ledger)):\n",
    "    mapp_dr[ledger[i].lower()] = amount[i]"
   ]
  },
  {
   "cell_type": "code",
   "execution_count": 73,
   "id": "6aa69b43-ce13-40c3-bee4-dc4d38cd2382",
   "metadata": {},
   "outputs": [],
   "source": [
    "# dr"
   ]
  },
  {
   "cell_type": "code",
   "execution_count": 74,
   "id": "a4204d8b-9b59-4065-a0e6-bb90e0861416",
   "metadata": {},
   "outputs": [],
   "source": [
    "cr = trial_balance.groupby('J4 - Ledger_Name')['J7 - Cr Amount'].sum()\n",
    "ledger = list(cr.keys())\n",
    "amount = list(cr.values)\n",
    "mapp_cr = {}\n",
    "for i in range(len(ledger)):\n",
    "    mapp_cr[ledger[i].lower()] = amount[i]"
   ]
  },
  {
   "cell_type": "code",
   "execution_count": 75,
   "id": "92d3c521-f2c5-42b6-8a42-7e0bc92dcdf0",
   "metadata": {},
   "outputs": [],
   "source": [
    "# cr"
   ]
  },
  {
   "cell_type": "markdown",
   "id": "e632129e-4610-48fc-a223-6afa4b81b31d",
   "metadata": {},
   "source": [
    "Ledger Account wise sum"
   ]
  },
  {
   "cell_type": "code",
   "execution_count": 76,
   "id": "c4944792-3227-440d-9d7d-a2ded7932d09",
   "metadata": {},
   "outputs": [],
   "source": [
    "bl = trial_balance.groupby('J4 - Ledger_Name')['Balance'].sum()\n",
    "ledger = list(bl.keys())\n",
    "amount = list(bl.values)\n",
    "mapp_bl = {}\n",
    "for i in range(len(ledger)):\n",
    "    mapp_bl[ledger[i].lower()] = amount[i]"
   ]
  },
  {
   "cell_type": "code",
   "execution_count": 77,
   "id": "18d391b4-6fe2-49dc-ad53-1db6e4eb14c6",
   "metadata": {},
   "outputs": [],
   "source": [
    "# mapp_bl"
   ]
  },
  {
   "cell_type": "code",
   "execution_count": 78,
   "id": "e8d115d7-67df-4b90-9e4d-8865298a272e",
   "metadata": {},
   "outputs": [],
   "source": [
    "df = pd.read_excel('main_df_p.xlsx',engine='openpyxl')\n",
    "df = df[df['C5'].notnull()]"
   ]
  },
  {
   "cell_type": "code",
   "execution_count": 79,
   "id": "696ef7bc-6b43-463a-9869-ad5fb45374da",
   "metadata": {},
   "outputs": [],
   "source": [
    "df['Total Balance'] = df['C5'].map(mapp_bl)\n",
    "# df['Debit Sum'] = df['C5'].map(mapp_dr)\n",
    "# df['Credit Sum'] = df['C5'].map(mapp_cr)\n",
    "df = df.dropna(subset=['Total Balance'])"
   ]
  },
  {
   "cell_type": "code",
   "execution_count": null,
   "id": "b8d1469a-e4c3-476f-972c-9a6b7acceb92",
   "metadata": {},
   "outputs": [],
   "source": [
    "\n"
   ]
  },
  {
   "cell_type": "code",
   "execution_count": 90,
   "id": "5c1713c3-d0b7-4aff-970b-f3cf72fbb49b",
   "metadata": {},
   "outputs": [],
   "source": [
    "from openpyxl import Workbook\n",
    "from openpyxl.styles import Border,Side, Font,Alignment\n",
    "import os\n",
    "\n",
    "wb = Workbook()\n",
    "ws = wb.active\n",
    "\n",
    "asset_df = df[df['C1'] == 'ASSET']\n",
    "as_list = list(asset_df['C2'].unique())\n",
    "\n",
    "data = []\n",
    "org_data = ['Construction Company',\" \", 'Closing Balance']\n",
    "bs_sheet = ['Balance Sheet as at ',\" \", 'Current Period']\n",
    "Date  = ['31-03-2024',\" \",'05/01/15 to 05/01/16']\n",
    "\n",
    "data.append(org_data)\n",
    "data.append(bs_sheet)\n",
    "data.append(Date)\n",
    "data.append(['','',''])\n",
    "st = [\"Asset\", \"Notes \", \" \"]\n",
    "data.append(st)\n",
    "note = 0\n",
    "for i in range(len(as_list)):\n",
    "    # data.append([\"\",\"\",\"\"])\n",
    "    c2_data = []\n",
    "    c2_data.append([as_list[i], \"\",\" \"])\n",
    "    # c2_data.append([\"\", \"\",\"\"])\n",
    "\n",
    "    c2_1 = asset_df[asset_df['C2'] == as_list[i]]\n",
    "    summary = c2_1.groupby('C4')['Total Balance'].sum()\n",
    "    sum_value = asset_df[asset_df['C2'] == as_list[i]]['Total Balance'].sum()\n",
    "\n",
    "    for index, value in summary.items():\n",
    "        if float(value)>20000:\n",
    "            note +=1\n",
    "            c2_data.append([index,note, value])\n",
    "\n",
    "        else:\n",
    "            c2_data.append([index,\" \", value])\n",
    "\n",
    "    c2_data.append([\"Total \" + as_list[i] , \" \", sum_value])\n",
    "    data.extend(c2_data)\n",
    "    data.append([\"\",\"\",\"\"])\n"
   ]
  },
  {
   "cell_type": "code",
   "execution_count": 91,
   "id": "c0dbe7d1-8cef-49ef-92ef-bc2e23e1fd10",
   "metadata": {},
   "outputs": [],
   "source": [
    "liability_df = df[df['C1'] == 'LIABILITY']\n",
    "as_list = list(liability_df['C2'].unique())\n",
    "data.append(['','',''])\n",
    "st = [\"Liability\", \"Notes \", \" \"]\n",
    "data.append(st)\n",
    "\n",
    "for i in range(len(as_list)):\n",
    "    # data.append([\"\",\"\",\"\"])\n",
    "    c2_data = []\n",
    "    c2_data.append([as_list[i], \"\",\" \"])\n",
    "    # c2_data.append([\"\", \"\",\"\"])\n",
    "\n",
    "    c2_1 = liability_df[liability_df['C2'] == as_list[i]]\n",
    "    summary = c2_1.groupby('C4')['Total Balance'].sum()\n",
    "    sum_value = liability_df[liability_df['C2'] == as_list[i]]['Total Balance'].sum()\n",
    "\n",
    "   \n",
    "    for index, value in summary.items():\n",
    "        if float(value)>20000:\n",
    "            note +=1\n",
    "            c2_data.append([index,note, value])\n",
    "\n",
    "        else:\n",
    "            c2_data.append([index,\" \", value])\n",
    "\n",
    "    c2_data.append([\"Total \" + as_list[i] , \" \", sum_value])\n",
    "    data.extend(c2_data)\n",
    "    data.append([\"\",\"\",\"\"])"
   ]
  },
  {
   "cell_type": "code",
   "execution_count": 92,
   "id": "7259c7ba-2238-4ec0-bf7c-b8e10b5acbce",
   "metadata": {},
   "outputs": [],
   "source": [
    "capital_df = df[df['C1'] == 'Capital']\n",
    "\n",
    "\n",
    "data.append([\"\",\"\",\"\"])\n",
    "c2_data = [[\"Capital\", \"Notes \", \" \"]]\n",
    "# c2_data.append([\"\", \"\",\"\"])\n",
    "\n",
    "summary = capital_df.groupby('C4')['Total Balance'].sum()\n",
    "sum_value = capital_df['Total Balance'].sum()\n",
    "\n",
    "for index, value in summary.items():\n",
    "    if float(value)>20000:\n",
    "        note +=1\n",
    "        c2_data.append([index,note, value])\n",
    "\n",
    "    else:\n",
    "        c2_data.append([index,\" \", value])\n",
    "\n",
    "c2_data.append([ \"Total \" + \"Equity\" , \" \", sum_value])\n",
    "data.extend(c2_data)\n",
    "data.append([\"\",\"\",\"\"])"
   ]
  },
  {
   "cell_type": "code",
   "execution_count": 93,
   "id": "7e265fbc-ec5c-4d3c-9933-86f75640708d",
   "metadata": {},
   "outputs": [
    {
     "name": "stdout",
     "output_type": "stream",
     "text": [
      "['Total CurrentAsset', ' ', -3605800]\n",
      "['Total FixedAsset', ' ', 400000]\n",
      "['Total Current_Liability', ' ', 233700]\n",
      "['Total Long_Term_Liability', ' ', 400000]\n",
      "['Total Equity', ' ', 1770000]\n"
     ]
    }
   ],
   "source": [
    "border_style = Border(top=Side(style='thin'))\n",
    "font_style = Font(color=\"FF0000\")\n",
    "\n",
    "for i, row in enumerate(data):\n",
    "    ws.append(row)\n",
    "    if 'Total' in row[0] :\n",
    "        print(row)\n",
    "        # ws.cell(row=i + 1, column=1).border = border_style\n",
    "        # ws.cell(row=i + 1, column=2).border = border_style\n",
    "        ws.cell(row=i + 1, column=3).border = border_style\n",
    "        # ws.cell(row=i + 1, column=1).font = font_style\n",
    "        # ws.cell(row=i + 1, column=2).font = font_style\n",
    "        # ws.cell(row=i + 1, column=3).font = font_style\n",
    "\n",
    "for row in ws.iter_rows():\n",
    "        for cell in row:\n",
    "            if cell.column == 1:\n",
    "                cell.alignment = Alignment(horizontal='left', vertical='bottom')\n",
    "\n",
    "            elif cell.column == 2:\n",
    "                cell.alignment = Alignment(horizontal='center', vertical='bottom')\n",
    "        \n",
    "            elif cell.column == 3:\n",
    "                cell.alignment = Alignment(horizontal='right', vertical='bottom')\n",
    "        \n",
    "for column in ws.columns:\n",
    "    max_length = 0\n",
    "    for cell in column:\n",
    "        try:\n",
    "            if len(str(cell.value)) > max_length:\n",
    "                max_length = len(cell.value)\n",
    "        except:\n",
    "            pass\n",
    "    adjusted_width = (max_length + 1) * 1\n",
    "    ws.column_dimensions[column[0].column_letter].width = adjusted_width\n",
    "\n",
    "os.makedirs('Balance_Sheet',exist_ok = True)\n",
    "wb.save(\"Balance_Sheet/balance_sheet1.xlsx\")"
   ]
  },
  {
   "cell_type": "code",
   "execution_count": 85,
   "id": "34711113-35c8-48a3-b097-e0e1611d8658",
   "metadata": {},
   "outputs": [],
   "source": [
    "# df"
   ]
  },
  {
   "cell_type": "code",
   "execution_count": null,
   "id": "796d6fee-58f6-4114-8a8e-0a1822222c8f",
   "metadata": {},
   "outputs": [],
   "source": []
  },
  {
   "cell_type": "code",
   "execution_count": null,
   "id": "d0eeb040-fb0f-4e3c-a245-a5054fb5215d",
   "metadata": {},
   "outputs": [],
   "source": []
  }
 ],
 "metadata": {
  "kernelspec": {
   "display_name": "Python 3 (ipykernel)",
   "language": "python",
   "name": "python3"
  },
  "language_info": {
   "codemirror_mode": {
    "name": "ipython",
    "version": 3
   },
   "file_extension": ".py",
   "mimetype": "text/x-python",
   "name": "python",
   "nbconvert_exporter": "python",
   "pygments_lexer": "ipython3",
   "version": "3.9.0"
  }
 },
 "nbformat": 4,
 "nbformat_minor": 5
}
