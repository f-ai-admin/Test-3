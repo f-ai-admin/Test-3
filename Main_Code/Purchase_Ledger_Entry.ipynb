{
 "cells": [
  {
   "cell_type": "code",
   "execution_count": 1,
   "id": "de30ea2d-f152-4a67-8839-1b87bb8aecca",
   "metadata": {},
   "outputs": [],
   "source": [
    "import sys\n",
    "import os\n",
    "path = os.path.abspath(os.path.join('C:\\\\Users\\\\user\\\\', 'Downloads', 'Convert_pdf_file_into_the_excel_file', 'Rule_Setup', 'Accounting_Library'))\n",
    "sys.path.append(path)"
   ]
  },
  {
   "cell_type": "code",
   "execution_count": 2,
   "id": "caac1a9a-53a1-424e-aa1e-d94ef2d4a9b4",
   "metadata": {},
   "outputs": [],
   "source": [
    "# path"
   ]
  },
  {
   "cell_type": "code",
   "execution_count": 3,
   "id": "d38f3b07-710f-4b2f-9dc7-19c79eafc5f2",
   "metadata": {},
   "outputs": [
    {
     "name": "stdout",
     "output_type": "stream",
     "text": [
      "path ~\\Downloads\\Convert_pdf_file_into_the_excel_file\\Rule_Setup\\Accounting_Library\\B_Setup\\B_1_Ledger_Setup\\\n",
      "account config file generated successfully\n"
     ]
    }
   ],
   "source": [
    "from A_Rule_Engine.A_1_Ledger_Library import AccountConfiguration\n",
    "from A_Rule_Engine.A_2_Purchase_Journal_Entry import JournalEntryProcessor\n",
    "import pandas as pd"
   ]
  },
  {
   "cell_type": "code",
   "execution_count": 4,
   "id": "99bcefa7-8f35-43c8-ba89-c10f0ed05aa9",
   "metadata": {},
   "outputs": [],
   "source": [
    "entry_df = pd.read_excel(path+'\\E_Process_2_Accounting\\E_Step_1_Common_Template\\Purchase_Common_Template.xlsx',engine='openpyxl')\n",
    "config_df = pd.read_excel(path+'\\B_Setup\\B_1_Ledger_Setup\\Output_Ledger_Library.xlsx',engine='openpyxl')"
   ]
  },
  {
   "cell_type": "code",
   "execution_count": 5,
   "id": "d1c5483f-b1e7-4979-bf00-046866405844",
   "metadata": {},
   "outputs": [],
   "source": [
    "# print(path+'\\B_Setup\\B_1_Ledger_Setup\\Output_Ledger_Library.xlsx',)"
   ]
  },
  {
   "cell_type": "code",
   "execution_count": 6,
   "id": "6ae997f6-23d7-4cfe-a396-22be516ab87a",
   "metadata": {},
   "outputs": [],
   "source": [
    "k  = {\n",
    "    'J1 - Journal Number':[],\n",
    "    'J2 - Date' :  [],\n",
    "    'J3 - Invoice_Ref_Number' : [],\n",
    "    'J4 - Ledger_Name' : [],\n",
    "    'J6 - Dr Amount' : [],\n",
    "    'J7 - Cr Amount' : [],\n",
    "    'J9 - Description/Narration' : [],\n",
    "}\n"
   ]
  },
  {
   "cell_type": "code",
   "execution_count": 7,
   "id": "f683fd50-8d19-4466-9d45-0ad162ecfd38",
   "metadata": {},
   "outputs": [],
   "source": [
    "journal_entry = JournalEntryProcessor(entry_df,config_df)"
   ]
  },
  {
   "cell_type": "code",
   "execution_count": 9,
   "id": "fcf868d0-7965-4e21-8ca1-c7d023c67bf2",
   "metadata": {},
   "outputs": [
    {
     "name": "stdout",
     "output_type": "stream",
     "text": [
      "Entry Number - 0\n",
      "Ledger Name -  Laptop\n",
      "Ledger Name laptop already present\n",
      "Ledger Name -  tax igst 12%\n",
      "Ledger Name tax igst 12% already present\n",
      "Ledger Name -  tax cgst 12%\n",
      "Ledger Name tax cgst 12% already present\n",
      "Ledger Name -  Amazon\n",
      "Ledger Name amazon already present\n",
      "Ledger Name -  Amazon\n",
      "Ledger Name amazon already present\n",
      "Ledger Name -  To Bank\n",
      "Ledger Name to bank already present\n",
      "==========================================================================\n",
      "\n",
      "Entry Number - 1\n",
      "Ledger Name -  Keyboard\n",
      "Ledger Name keyboard already present\n",
      "Ledger Name -  tax igst 5%\n",
      "Ledger Name tax igst 5% already present\n",
      "Ledger Name -  tax cgst 5%\n",
      "Ledger Name tax cgst 5% already present\n",
      "Ledger Name -  Flipkart\n",
      "Ledger Name flipkart already present\n",
      "Ledger Name -  Flipkart\n",
      "Ledger Name flipkart already present\n",
      "Ledger Name -  To Bank\n",
      "Ledger Name to bank already present\n",
      "==========================================================================\n",
      "\n",
      "Entry Number - 2\n",
      "Ledger Name -  Oxometer\n",
      "Ledger Name oxometer already present\n",
      "Ledger Name -  tax igst 28%\n",
      "Ledger Name tax igst 28% already present\n",
      "Ledger Name -  tax cgst 28%\n",
      "Ledger Name tax cgst 28% already present\n",
      "Ledger Name -  One Mg\n",
      "Ledger Name one mg already present\n",
      "Ledger Name -  One Mg\n",
      "Ledger Name one mg already present\n",
      "Ledger Name -  To Bank\n",
      "Ledger Name to bank already present\n",
      "==========================================================================\n",
      "\n",
      "Entry Number - 3\n",
      "Ledger Name -  Cooler\n",
      "Ledger Name cooler already present\n",
      "Ledger Name -  tax igst 12%\n",
      "Ledger Name tax igst 12% already present\n",
      "Ledger Name -  tax cgst 12%\n",
      "Ledger Name tax cgst 12% already present\n",
      "Ledger Name -  Reliance digital\n",
      "Ledger Name reliance digital already present\n",
      "Ledger Name -  Reliance digital\n",
      "Ledger Name reliance digital already present\n",
      "Ledger Name -  To Bank\n",
      "Ledger Name to bank already present\n",
      "==========================================================================\n",
      "\n",
      "Entry Number - 4\n",
      "Ledger Name -  AC\n",
      "Ledger Name ac already present\n",
      "Ledger Name -  tax igst 28%\n",
      "Ledger Name tax igst 28% already present\n",
      "Ledger Name -  tax cgst 28%\n",
      "Ledger Name tax cgst 28% already present\n",
      "Ledger Name -  Croma\n",
      "Ledger Name croma already present\n",
      "Ledger Name -  Croma\n",
      "Ledger Name croma already present\n",
      "Ledger Name -  To Bank\n",
      "Ledger Name to bank already present\n",
      "==========================================================================\n",
      "\n",
      "Entry Number - 5\n",
      "Ledger Name -  FAn\n",
      "Ledger Name fan already present\n",
      "Ledger Name -  tax igst 12%\n",
      "Ledger Name tax igst 12% already present\n",
      "Ledger Name -  tax cgst 12%\n",
      "Ledger Name tax cgst 12% already present\n",
      "Ledger Name -  Usha\n",
      "Ledger Name usha already present\n",
      "Ledger Name -  Usha\n",
      "Ledger Name usha already present\n",
      "Ledger Name -  To Bank\n",
      "Ledger Name to bank already present\n",
      "==========================================================================\n",
      "\n",
      "Entry Number - 6\n",
      "Ledger Name -  Fridge\n",
      "Ledger Name fridge already present\n",
      "Ledger Name -  tax igst 12%\n",
      "Ledger Name tax igst 12% already present\n",
      "Ledger Name -  tax cgst 12%\n",
      "Ledger Name tax cgst 12% already present\n",
      "Ledger Name -  Whirlpool\n",
      "Ledger Name whirlpool already present\n",
      "Ledger Name -  Whirlpool\n",
      "Ledger Name whirlpool already present\n",
      "Ledger Name -  To Bank\n",
      "Ledger Name to bank already present\n",
      "==========================================================================\n",
      "\n",
      "Entry Number - 7\n",
      "Ledger Name -  TV\n",
      "Ledger Name tv already present\n",
      "Ledger Name -  tax igst 18%\n",
      "Ledger Name tax igst 18% already present\n",
      "Ledger Name -  tax cgst 18%\n",
      "Ledger Name tax cgst 18% already present\n",
      "Ledger Name -  LG\n",
      "Ledger Name lg already present\n",
      "Ledger Name -  LG\n",
      "Ledger Name lg already present\n",
      "Ledger Name -  To Bank\n",
      "Ledger Name to bank already present\n",
      "==========================================================================\n",
      "\n",
      "Entry Number - 8\n",
      "Ledger Name -  Music System\n",
      "Ledger Name music system already present\n",
      "Ledger Name -  tax igst 18%\n",
      "Ledger Name tax igst 18% already present\n",
      "Ledger Name -  tax cgst 18%\n",
      "Ledger Name tax cgst 18% already present\n",
      "Ledger Name -  Sony\n",
      "Ledger Name sony already present\n",
      "Ledger Name -  Sony\n",
      "Ledger Name sony already present\n",
      "Ledger Name -  To Bank\n",
      "Ledger Name to bank already present\n",
      "==========================================================================\n",
      "\n",
      "Entry Number - 9\n",
      "Ledger Name -  Investment\n",
      "Ledger Name investment already present\n",
      "Ledger Name -  tax igst 10%\n",
      "Ledger Name tax igst 10% already present\n",
      "Ledger Name -  tax cgst 10%\n",
      "Ledger Name tax cgst 10% already present\n",
      "Ledger Name -  Investment Fund\n",
      "Ledger Name investment fund already present\n",
      "Ledger Name -  Investment Fund\n",
      "Ledger Name investment fund already present\n",
      "Ledger Name -  To Bank\n",
      "Ledger Name to bank already present\n",
      "==========================================================================\n",
      "\n",
      "Entry Number - 10\n",
      "Ledger Name -  Equity Funding\n",
      "Ledger Name equity funding already present\n",
      "Ledger Name -  tax igst 15%\n",
      "Ledger Name tax igst 15% already present\n",
      "Ledger Name -  tax cgst 15%\n"
     ]
    },
    {
     "name": "stdin",
     "output_type": "stream",
     "text": [
      "Enter C3 (Account Name):  Taxes\n",
      "Enter C4 (Sub ledger):  gst\n"
     ]
    },
    {
     "name": "stdout",
     "output_type": "stream",
     "text": [
      "Ledger Name -  Venture Capital Inc.\n"
     ]
    },
    {
     "name": "stdin",
     "output_type": "stream",
     "text": [
      "Enter C3 (Account Name):  AccountsReceivables\n",
      "Enter C4 (Sub ledger):  AccountsReceivables\n"
     ]
    },
    {
     "name": "stdout",
     "output_type": "stream",
     "text": [
      "Ledger Name -  Venture Capital Inc.\n",
      "Ledger Name venture capital inc. already present\n",
      "Ledger Name -  To Bank\n",
      "Ledger Name to bank already present\n",
      "==========================================================================\n",
      "\n",
      "Entry Number - 11\n",
      "Ledger Name -  Seed Funding\n"
     ]
    },
    {
     "name": "stdin",
     "output_type": "stream",
     "text": [
      "Enter C3 (Account Name):  AccountsReceivables\n",
      "Enter C4 (Sub ledger):  AccountsReceivables\n"
     ]
    },
    {
     "name": "stdout",
     "output_type": "stream",
     "text": [
      "Ledger Name -  tax igst 20%\n"
     ]
    },
    {
     "name": "stdin",
     "output_type": "stream",
     "text": [
      "Enter C3 (Account Name):  AccountsReceivables\n",
      "Enter C4 (Sub ledger):  AccountsReceivables\n"
     ]
    },
    {
     "name": "stdout",
     "output_type": "stream",
     "text": [
      "Ledger Name -  tax cgst 20%\n"
     ]
    },
    {
     "name": "stdin",
     "output_type": "stream",
     "text": [
      "Enter C3 (Account Name):  AccountsReceivables\n",
      "Enter C4 (Sub ledger):  AccountsReceivables\n"
     ]
    },
    {
     "name": "stdout",
     "output_type": "stream",
     "text": [
      "Ledger Name -  Angel Investors Group\n"
     ]
    },
    {
     "name": "stdin",
     "output_type": "stream",
     "text": [
      "Enter C3 (Account Name):  AccountsReceivables\n",
      "Enter C4 (Sub ledger):  AccountsReceivables\n"
     ]
    },
    {
     "name": "stdout",
     "output_type": "stream",
     "text": [
      "Ledger Name -  Angel Investors Group\n",
      "Ledger Name angel investors group already present\n",
      "Ledger Name -  To Bank\n",
      "Ledger Name to bank already present\n",
      "==========================================================================\n",
      "\n",
      "Entry Number - 12\n",
      "Ledger Name -  Business Loan\n"
     ]
    },
    {
     "name": "stdin",
     "output_type": "stream",
     "text": [
      "Enter C3 (Account Name):  AccountsReceivables\n",
      "Enter C4 (Sub ledger):  AccountsReceivables\n"
     ]
    },
    {
     "name": "stdout",
     "output_type": "stream",
     "text": [
      "Ledger Name -  tax igst 8%\n"
     ]
    },
    {
     "name": "stdin",
     "output_type": "stream",
     "text": [
      "Enter C3 (Account Name):  AccountsReceivables\n",
      "Enter C4 (Sub ledger):  AccountsReceivables\n"
     ]
    },
    {
     "name": "stdout",
     "output_type": "stream",
     "text": [
      "Ledger Name -  tax cgst 8%\n"
     ]
    },
    {
     "name": "stdin",
     "output_type": "stream",
     "text": [
      "Enter C3 (Account Name):  AccountsReceivables\n",
      "Enter C4 (Sub ledger):  AccountsReceivables\n"
     ]
    },
    {
     "name": "stdout",
     "output_type": "stream",
     "text": [
      "Ledger Name -  Bank of America\n"
     ]
    },
    {
     "name": "stdin",
     "output_type": "stream",
     "text": [
      "Enter C3 (Account Name):  AccountsReceivables\n",
      "Enter C4 (Sub ledger):  AccountsReceivables\n"
     ]
    },
    {
     "name": "stdout",
     "output_type": "stream",
     "text": [
      "Ledger Name -  Bank of America\n",
      "Ledger Name bank of america already present\n",
      "Ledger Name -  To Bank\n",
      "Ledger Name to bank already present\n",
      "==========================================================================\n",
      "\n",
      "Entry Number - 13\n",
      "Ledger Name -  Accounts Payable\n"
     ]
    },
    {
     "name": "stdin",
     "output_type": "stream",
     "text": [
      "Enter C3 (Account Name):  AccountsReceivables\n",
      "Enter C4 (Sub ledger):  AccountsReceivables\n"
     ]
    },
    {
     "name": "stdout",
     "output_type": "stream",
     "text": [
      "Ledger Name -  tax igst 5%\n",
      "Ledger Name tax igst 5% already present\n",
      "Ledger Name -  tax cgst 5%\n",
      "Ledger Name tax cgst 5% already present\n",
      "Ledger Name -  Suppliers Inc.\n"
     ]
    },
    {
     "name": "stdin",
     "output_type": "stream",
     "text": [
      "Enter C3 (Account Name):  AccountsReceivables\n",
      "Enter C4 (Sub ledger):  AccountsReceivables\n"
     ]
    },
    {
     "name": "stdout",
     "output_type": "stream",
     "text": [
      "Ledger Name -  Suppliers Inc.\n",
      "Ledger Name suppliers inc. already present\n",
      "Ledger Name -  To Bank\n",
      "Ledger Name to bank already present\n",
      "==========================================================================\n",
      "\n",
      "Entry Number - 14\n",
      "Ledger Name -  Rent Payable\n"
     ]
    },
    {
     "name": "stdin",
     "output_type": "stream",
     "text": [
      "Enter C3 (Account Name):  AccountsReceivables\n",
      "Enter C4 (Sub ledger):  AccountsReceivables\n"
     ]
    },
    {
     "name": "stdout",
     "output_type": "stream",
     "text": [
      "Ledger Name -  tax igst 12%\n",
      "Ledger Name tax igst 12% already present\n",
      "Ledger Name -  tax cgst 12%\n",
      "Ledger Name tax cgst 12% already present\n",
      "Ledger Name -  Rent Agency Ltd.\n"
     ]
    },
    {
     "name": "stdin",
     "output_type": "stream",
     "text": [
      "Enter C3 (Account Name):  AccountsReceivables\n",
      "Enter C4 (Sub ledger):  AccountsReceivables\n"
     ]
    },
    {
     "name": "stdout",
     "output_type": "stream",
     "text": [
      "Ledger Name -  Rent Agency Ltd.\n",
      "Ledger Name rent agency ltd. already present\n",
      "Ledger Name -  To Bank\n",
      "Ledger Name to bank already present\n",
      "==========================================================================\n",
      "\n",
      "Entry Number - 15\n",
      "Ledger Name -  Sales Revenue\n"
     ]
    },
    {
     "name": "stdin",
     "output_type": "stream",
     "text": [
      "Enter C3 (Account Name):  AccountsReceivables\n",
      "Enter C4 (Sub ledger):  AccountsReceivables\n"
     ]
    },
    {
     "name": "stdout",
     "output_type": "stream",
     "text": [
      "Ledger Name -  tax igst 18%\n",
      "Ledger Name tax igst 18% already present\n",
      "Ledger Name -  tax cgst 18%\n",
      "Ledger Name tax cgst 18% already present\n",
      "Ledger Name -  Walmart\n"
     ]
    },
    {
     "name": "stdin",
     "output_type": "stream",
     "text": [
      "Enter C3 (Account Name):  AccountsReceivables\n",
      "Enter C4 (Sub ledger):  AccountsReceivables\n"
     ]
    },
    {
     "name": "stdout",
     "output_type": "stream",
     "text": [
      "Ledger Name -  Walmart\n",
      "Ledger Name walmart already present\n",
      "Ledger Name -  To Bank\n",
      "Ledger Name to bank already present\n",
      "==========================================================================\n",
      "\n",
      "Entry Number - 16\n",
      "Ledger Name -  Service Revenue\n"
     ]
    },
    {
     "name": "stdin",
     "output_type": "stream",
     "text": [
      "Enter C3 (Account Name):  AccountsReceivables\n",
      "Enter C4 (Sub ledger):  AccountsReceivables\n"
     ]
    },
    {
     "name": "stdout",
     "output_type": "stream",
     "text": [
      "Ledger Name -  tax igst 15%\n",
      "Ledger Name tax igst 15% already present\n",
      "Ledger Name -  tax cgst 15%\n",
      "Ledger Name tax cgst 15% already present\n",
      "Ledger Name -  Target\n"
     ]
    },
    {
     "name": "stdin",
     "output_type": "stream",
     "text": [
      "Enter C3 (Account Name):  AccountsReceivables\n",
      "Enter C4 (Sub ledger):  AccountsReceivables\n"
     ]
    },
    {
     "name": "stdout",
     "output_type": "stream",
     "text": [
      "Ledger Name -  Target\n",
      "Ledger Name target already present\n",
      "Ledger Name -  To Bank\n",
      "Ledger Name to bank already present\n",
      "==========================================================================\n",
      "\n",
      "Entry Number - 17\n",
      "Ledger Name -  Advertising Revenue\n"
     ]
    },
    {
     "name": "stdin",
     "output_type": "stream",
     "text": [
      "Enter C3 (Account Name):  AccountsReceivables\n",
      "Enter C4 (Sub ledger):  AccountsReceivables\n"
     ]
    },
    {
     "name": "stdout",
     "output_type": "stream",
     "text": [
      "Ledger Name -  tax igst 10%\n",
      "Ledger Name tax igst 10% already present\n",
      "Ledger Name -  tax cgst 10%\n",
      "Ledger Name tax cgst 10% already present\n",
      "Ledger Name -  Best Buy\n"
     ]
    },
    {
     "name": "stdin",
     "output_type": "stream",
     "text": [
      "Enter C3 (Account Name):  AccountsReceivables\n",
      "Enter C4 (Sub ledger):  AccountsReceivables'\n"
     ]
    },
    {
     "name": "stdout",
     "output_type": "stream",
     "text": [
      "Ledger Name -  Best Buy\n",
      "Ledger Name best buy already present\n",
      "Ledger Name -  To Bank\n",
      "Ledger Name to bank already present\n",
      "==========================================================================\n",
      "\n"
     ]
    }
   ],
   "source": [
    "journal_entry.process_entries(k)"
   ]
  },
  {
   "cell_type": "code",
   "execution_count": 10,
   "id": "2120c157-1d01-4f12-8fb5-2caad56f3410",
   "metadata": {},
   "outputs": [
    {
     "data": {
      "text/html": [
       "<div>\n",
       "<style scoped>\n",
       "    .dataframe tbody tr th:only-of-type {\n",
       "        vertical-align: middle;\n",
       "    }\n",
       "\n",
       "    .dataframe tbody tr th {\n",
       "        vertical-align: top;\n",
       "    }\n",
       "\n",
       "    .dataframe thead th {\n",
       "        text-align: right;\n",
       "    }\n",
       "</style>\n",
       "<table border=\"1\" class=\"dataframe\">\n",
       "  <thead>\n",
       "    <tr style=\"text-align: right;\">\n",
       "      <th></th>\n",
       "      <th>J1 - Journal Number</th>\n",
       "      <th>J2 - Date</th>\n",
       "      <th>J3 - Invoice_Ref_Number</th>\n",
       "      <th>J4 - Ledger_Name</th>\n",
       "      <th>J6 - Dr Amount</th>\n",
       "      <th>J7 - Cr Amount</th>\n",
       "      <th>J9 - Description/Narration</th>\n",
       "    </tr>\n",
       "  </thead>\n",
       "  <tbody>\n",
       "    <tr>\n",
       "      <th>0</th>\n",
       "      <td>P001</td>\n",
       "      <td>2024-01-15</td>\n",
       "      <td>AF2223-026868</td>\n",
       "      <td>Laptop</td>\n",
       "      <td>10000</td>\n",
       "      <td>0</td>\n",
       "      <td>purchase</td>\n",
       "    </tr>\n",
       "    <tr>\n",
       "      <th>1</th>\n",
       "      <td>P001</td>\n",
       "      <td>2024-01-15</td>\n",
       "      <td>AF2223-026868</td>\n",
       "      <td>tax igst 12%</td>\n",
       "      <td>600</td>\n",
       "      <td>0</td>\n",
       "      <td>purchase</td>\n",
       "    </tr>\n",
       "    <tr>\n",
       "      <th>2</th>\n",
       "      <td>P001</td>\n",
       "      <td>2024-01-15</td>\n",
       "      <td>AF2223-026868</td>\n",
       "      <td>tax cgst 12%</td>\n",
       "      <td>600</td>\n",
       "      <td>0</td>\n",
       "      <td>purchase</td>\n",
       "    </tr>\n",
       "    <tr>\n",
       "      <th>3</th>\n",
       "      <td>P001</td>\n",
       "      <td>2024-01-15</td>\n",
       "      <td>AF2223-026868</td>\n",
       "      <td>Amazon</td>\n",
       "      <td>0</td>\n",
       "      <td>11200</td>\n",
       "      <td>purchase</td>\n",
       "    </tr>\n",
       "    <tr>\n",
       "      <th>4</th>\n",
       "      <td>P0000</td>\n",
       "      <td>2024-01-15</td>\n",
       "      <td>AF2223-026868</td>\n",
       "      <td>Amazon</td>\n",
       "      <td>11200</td>\n",
       "      <td>0</td>\n",
       "      <td>purchase</td>\n",
       "    </tr>\n",
       "    <tr>\n",
       "      <th>...</th>\n",
       "      <td>...</td>\n",
       "      <td>...</td>\n",
       "      <td>...</td>\n",
       "      <td>...</td>\n",
       "      <td>...</td>\n",
       "      <td>...</td>\n",
       "      <td>...</td>\n",
       "    </tr>\n",
       "    <tr>\n",
       "      <th>165</th>\n",
       "      <td>P0018</td>\n",
       "      <td>2024-02-18</td>\n",
       "      <td>AF2223-026885</td>\n",
       "      <td>tax igst 10%</td>\n",
       "      <td>10000</td>\n",
       "      <td>0</td>\n",
       "      <td>purchase</td>\n",
       "    </tr>\n",
       "    <tr>\n",
       "      <th>166</th>\n",
       "      <td>P0018</td>\n",
       "      <td>2024-02-18</td>\n",
       "      <td>AF2223-026885</td>\n",
       "      <td>tax cgst 10%</td>\n",
       "      <td>10000</td>\n",
       "      <td>0</td>\n",
       "      <td>purchase</td>\n",
       "    </tr>\n",
       "    <tr>\n",
       "      <th>167</th>\n",
       "      <td>P0018</td>\n",
       "      <td>2024-02-18</td>\n",
       "      <td>AF2223-026885</td>\n",
       "      <td>Best Buy</td>\n",
       "      <td>0</td>\n",
       "      <td>110000</td>\n",
       "      <td>purchase</td>\n",
       "    </tr>\n",
       "    <tr>\n",
       "      <th>168</th>\n",
       "      <td>P001717</td>\n",
       "      <td>2024-02-18</td>\n",
       "      <td>AF2223-026885</td>\n",
       "      <td>Best Buy</td>\n",
       "      <td>110000</td>\n",
       "      <td>0</td>\n",
       "      <td>purchase</td>\n",
       "    </tr>\n",
       "    <tr>\n",
       "      <th>169</th>\n",
       "      <td>P001818</td>\n",
       "      <td>2024-02-18</td>\n",
       "      <td>AF2223-026885</td>\n",
       "      <td>To Bank</td>\n",
       "      <td>0</td>\n",
       "      <td>110000</td>\n",
       "      <td>purchase</td>\n",
       "    </tr>\n",
       "  </tbody>\n",
       "</table>\n",
       "<p>170 rows × 7 columns</p>\n",
       "</div>"
      ],
      "text/plain": [
       "    J1 - Journal Number  J2 - Date J3 - Invoice_Ref_Number J4 - Ledger_Name  \\\n",
       "0                  P001 2024-01-15           AF2223-026868           Laptop   \n",
       "1                  P001 2024-01-15           AF2223-026868     tax igst 12%   \n",
       "2                  P001 2024-01-15           AF2223-026868     tax cgst 12%   \n",
       "3                  P001 2024-01-15           AF2223-026868           Amazon   \n",
       "4                 P0000 2024-01-15           AF2223-026868           Amazon   \n",
       "..                  ...        ...                     ...              ...   \n",
       "165               P0018 2024-02-18           AF2223-026885     tax igst 10%   \n",
       "166               P0018 2024-02-18           AF2223-026885     tax cgst 10%   \n",
       "167               P0018 2024-02-18           AF2223-026885         Best Buy   \n",
       "168             P001717 2024-02-18           AF2223-026885         Best Buy   \n",
       "169             P001818 2024-02-18           AF2223-026885          To Bank   \n",
       "\n",
       "     J6 - Dr Amount  J7 - Cr Amount J9 - Description/Narration  \n",
       "0             10000               0                   purchase  \n",
       "1               600               0                   purchase  \n",
       "2               600               0                   purchase  \n",
       "3                 0           11200                   purchase  \n",
       "4             11200               0                   purchase  \n",
       "..              ...             ...                        ...  \n",
       "165           10000               0                   purchase  \n",
       "166           10000               0                   purchase  \n",
       "167               0          110000                   purchase  \n",
       "168          110000               0                   purchase  \n",
       "169               0          110000                   purchase  \n",
       "\n",
       "[170 rows x 7 columns]"
      ]
     },
     "execution_count": 10,
     "metadata": {},
     "output_type": "execute_result"
    }
   ],
   "source": [
    "df = pd.DataFrame(k)\n",
    "df"
   ]
  },
  {
   "cell_type": "code",
   "execution_count": 11,
   "id": "489703da-36a0-42d3-ac8c-a21a95787ccb",
   "metadata": {},
   "outputs": [],
   "source": [
    "file_save_path = 'C:\\\\Users\\\\user\\\\Downloads\\\\Convert_pdf_file_into_the_excel_file\\\\Rule_Setup\\\\Accounting_Library\\\\E_Process_2_Accounting\\\\E_Step_2_Journal_Entry\\\\'\n",
    "df.to_excel(file_save_path+'Purchase_Journal_Entry_Output.xlsx')"
   ]
  },
  {
   "cell_type": "code",
   "execution_count": null,
   "id": "267a9d51-94b4-45e1-99b2-11dac5b9611f",
   "metadata": {},
   "outputs": [],
   "source": []
  }
 ],
 "metadata": {
  "kernelspec": {
   "display_name": "Python 3 (ipykernel)",
   "language": "python",
   "name": "python3"
  },
  "language_info": {
   "codemirror_mode": {
    "name": "ipython",
    "version": 3
   },
   "file_extension": ".py",
   "mimetype": "text/x-python",
   "name": "python",
   "nbconvert_exporter": "python",
   "pygments_lexer": "ipython3",
   "version": "3.9.0"
  }
 },
 "nbformat": 4,
 "nbformat_minor": 5
}
