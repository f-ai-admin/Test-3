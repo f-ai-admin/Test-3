{
  "nbformat": 4,
  "nbformat_minor": 0,
  "metadata": {
    "colab": {
      "provenance": []
    },
    "kernelspec": {
      "name": "python3",
      "display_name": "Python 3"
    },
    "language_info": {
      "name": "python"
    }
  },
  "cells": [
    {
      "cell_type": "markdown",
      "source": [
        "# Reading text from pdf file"
      ],
      "metadata": {
        "id": "j1Oo_ceFNOsF"
      }
    },
    {
      "cell_type": "code",
      "source": [
        "!pip install pytesseract\n",
        "!apt-get install tesseract-ocr\n"
      ],
      "metadata": {
        "colab": {
          "base_uri": "https://localhost:8080/"
        },
        "id": "gpbC26IO0XL-",
        "outputId": "ae93175c-90ef-4c30-ab03-6037e7d82256"
      },
      "execution_count": null,
      "outputs": [
        {
          "output_type": "stream",
          "name": "stdout",
          "text": [
            "Collecting pytesseract\n",
            "  Downloading pytesseract-0.3.10-py3-none-any.whl (14 kB)\n",
            "Requirement already satisfied: packaging>=21.3 in /usr/local/lib/python3.10/dist-packages (from pytesseract) (23.2)\n",
            "Requirement already satisfied: Pillow>=8.0.0 in /usr/local/lib/python3.10/dist-packages (from pytesseract) (9.4.0)\n",
            "Installing collected packages: pytesseract\n",
            "Successfully installed pytesseract-0.3.10\n",
            "Reading package lists... Done\n",
            "Building dependency tree... Done\n",
            "Reading state information... Done\n",
            "The following additional packages will be installed:\n",
            "  tesseract-ocr-eng tesseract-ocr-osd\n",
            "The following NEW packages will be installed:\n",
            "  tesseract-ocr tesseract-ocr-eng tesseract-ocr-osd\n",
            "0 upgraded, 3 newly installed, 0 to remove and 30 not upgraded.\n",
            "Need to get 4,816 kB of archives.\n",
            "After this operation, 15.6 MB of additional disk space will be used.\n",
            "Get:1 http://archive.ubuntu.com/ubuntu jammy/universe amd64 tesseract-ocr-eng all 1:4.00~git30-7274cfa-1.1 [1,591 kB]\n",
            "Get:2 http://archive.ubuntu.com/ubuntu jammy/universe amd64 tesseract-ocr-osd all 1:4.00~git30-7274cfa-1.1 [2,990 kB]\n",
            "Get:3 http://archive.ubuntu.com/ubuntu jammy/universe amd64 tesseract-ocr amd64 4.1.1-2.1build1 [236 kB]\n",
            "Fetched 4,816 kB in 0s (10.8 MB/s)\n",
            "Selecting previously unselected package tesseract-ocr-eng.\n",
            "(Reading database ... 121658 files and directories currently installed.)\n",
            "Preparing to unpack .../tesseract-ocr-eng_1%3a4.00~git30-7274cfa-1.1_all.deb ...\n",
            "Unpacking tesseract-ocr-eng (1:4.00~git30-7274cfa-1.1) ...\n",
            "Selecting previously unselected package tesseract-ocr-osd.\n",
            "Preparing to unpack .../tesseract-ocr-osd_1%3a4.00~git30-7274cfa-1.1_all.deb ...\n",
            "Unpacking tesseract-ocr-osd (1:4.00~git30-7274cfa-1.1) ...\n",
            "Selecting previously unselected package tesseract-ocr.\n",
            "Preparing to unpack .../tesseract-ocr_4.1.1-2.1build1_amd64.deb ...\n",
            "Unpacking tesseract-ocr (4.1.1-2.1build1) ...\n",
            "Setting up tesseract-ocr-eng (1:4.00~git30-7274cfa-1.1) ...\n",
            "Setting up tesseract-ocr-osd (1:4.00~git30-7274cfa-1.1) ...\n",
            "Setting up tesseract-ocr (4.1.1-2.1build1) ...\n",
            "Processing triggers for man-db (2.10.2-1) ...\n"
          ]
        }
      ]
    },
    {
      "cell_type": "code",
      "source": [
        "!pip install pdf2image"
      ],
      "metadata": {
        "colab": {
          "base_uri": "https://localhost:8080/"
        },
        "id": "Q9fazEZl2uz7",
        "outputId": "0ad6a6b4-909a-460d-c005-ea7f00e8d439"
      },
      "execution_count": null,
      "outputs": [
        {
          "output_type": "stream",
          "name": "stdout",
          "text": [
            "Collecting pdf2image\n",
            "  Downloading pdf2image-1.17.0-py3-none-any.whl (11 kB)\n",
            "Requirement already satisfied: pillow in /usr/local/lib/python3.10/dist-packages (from pdf2image) (9.4.0)\n",
            "Installing collected packages: pdf2image\n",
            "Successfully installed pdf2image-1.17.0\n"
          ]
        }
      ]
    },
    {
      "cell_type": "code",
      "source": [
        "!apt-get install -y poppler-utils\n",
        "!pip install pdf2image\n"
      ],
      "metadata": {
        "colab": {
          "base_uri": "https://localhost:8080/"
        },
        "id": "-MXIIWvV26F8",
        "outputId": "3f466dbf-bede-4bcb-fb70-fbeac5066226"
      },
      "execution_count": null,
      "outputs": [
        {
          "output_type": "stream",
          "name": "stdout",
          "text": [
            "Reading package lists... Done\n",
            "Building dependency tree... Done\n",
            "Reading state information... Done\n",
            "The following NEW packages will be installed:\n",
            "  poppler-utils\n",
            "0 upgraded, 1 newly installed, 0 to remove and 30 not upgraded.\n",
            "Need to get 186 kB of archives.\n",
            "After this operation, 696 kB of additional disk space will be used.\n",
            "Get:1 http://archive.ubuntu.com/ubuntu jammy-updates/main amd64 poppler-utils amd64 22.02.0-2ubuntu0.3 [186 kB]\n",
            "Fetched 186 kB in 0s (1,015 kB/s)\n",
            "Selecting previously unselected package poppler-utils.\n",
            "(Reading database ... 121705 files and directories currently installed.)\n",
            "Preparing to unpack .../poppler-utils_22.02.0-2ubuntu0.3_amd64.deb ...\n",
            "Unpacking poppler-utils (22.02.0-2ubuntu0.3) ...\n",
            "Setting up poppler-utils (22.02.0-2ubuntu0.3) ...\n",
            "Processing triggers for man-db (2.10.2-1) ...\n",
            "Requirement already satisfied: pdf2image in /usr/local/lib/python3.10/dist-packages (1.17.0)\n",
            "Requirement already satisfied: pillow in /usr/local/lib/python3.10/dist-packages (from pdf2image) (9.4.0)\n"
          ]
        }
      ]
    },
    {
      "cell_type": "code",
      "source": [
        "from pdf2image import convert_from_path\n",
        "\n",
        "# Specify your PDF file path\n",
        "pdf_file_path = '/content/invoice (1).pdf'\n",
        "\n",
        "# Convert PDF to images\n",
        "images = convert_from_path(pdf_file_path)\n",
        "\n",
        "for i, image in enumerate(images):\n",
        "    image.save(f'invoice (1){i + 1}.jpg', 'JPEG')"
      ],
      "metadata": {
        "id": "GUIS-ZrAPwtw"
      },
      "execution_count": null,
      "outputs": []
    },
    {
      "cell_type": "code",
      "source": [
        "import cv2\n",
        "import pytesseract\n",
        "\n",
        "#reading the image\n",
        "image_cv2 = cv2.imread('/content/invoice (1)1.jpg')\n",
        "\n",
        "# Converting to grayscale\n",
        "gray_image = cv2.cvtColor(image_cv2, cv2.COLOR_BGR2GRAY)\n",
        "\n",
        "text = pytesseract.image_to_string(gray_image)\n",
        "\n",
        "print(text)"
      ],
      "metadata": {
        "colab": {
          "base_uri": "https://localhost:8080/"
        },
        "id": "Arh2VCoX06u2",
        "outputId": "4ec620cf-d750-4e61-d75a-519f1395b9a7"
      },
      "execution_count": null,
      "outputs": [
        {
          "output_type": "stream",
          "name": "stdout",
          "text": [
            "amazon.in\n",
            "\n",
            "Sold By:\n",
            "\n",
            "VRP TELEMATICS PRIVATE LIMITED\n",
            "\n",
            "* Building No. 5, BGR Warehousing Complex,\n",
            "Near Shiv Sagar Hotel, Village Vahuli, Bhiwandi,\n",
            "Thane\n",
            "\n",
            "BHIWANDI, MAHARASHTRA, 421302\n",
            "\n",
            "IN\n",
            "\n",
            "PAN No: AACCV5763A\n",
            "GST Registration No: 27AACCV5763A1ZF\n",
            "\n",
            "Order Number: 404-9917575-7586714\n",
            "Order Date: 21.12.2023\n",
            "\n",
            "Tax Invoice/Bill of Supply/Cash Memo\n",
            "(Original for Recipient)\n",
            "\n",
            "Billing Address :\n",
            "\n",
            "Nataline Ambrose\n",
            "\n",
            "Infant jesus cottage room no 2 chikuwadi, malwani\n",
            "church malad west\n",
            "\n",
            "Mumbai, MAHARASHTRA, 400095\n",
            "\n",
            "IN\n",
            "\n",
            "State/UT Code: 27\n",
            "\n",
            "Shipping Address :\n",
            "\n",
            "Nataline Ambrose\n",
            "\n",
            "Nataline Ambrose\n",
            "\n",
            "Infant jesus cottage room no 2 chikuwadi, malwani\n",
            "church malad west\n",
            "\n",
            "Mumbai, MAHARASHTRA, 400095\n",
            "\n",
            "IN\n",
            "\n",
            "State/UT Code: 27\n",
            "\n",
            "Place of supply: MAHARASHTRA\n",
            "\n",
            "Place of delivery: MAHARASHTRA\n",
            "\n",
            "Invoice Number : BOM7-321133\n",
            "Invoice Details : MH-BOM7-1283324145-2324\n",
            "Invoice Date : 21.12.2023\n",
            "\n",
            " \n",
            "\n",
            " \n",
            "\n",
            " \n",
            "\n",
            " \n",
            "\n",
            " \n",
            "\n",
            " \n",
            "\n",
            " \n",
            "\n",
            " \n",
            "\n",
            " \n",
            "\n",
            "Amount in Words:\n",
            "Two Hundred Eighty-four only\n",
            "\n",
            "SI. pn Unit Net Tax |Tax |Tax Total\n",
            "Nollae euon Price |@Y/amount|Rate|Type |Amount|Amount\n",
            "y |YouBella Jewellery Earrings for women Crystal Earrings for Girls and\n",
            "Women (Black) | BO7W9KXP9Q ( BO7W9KXP9Q ) 2275.72] 1 |%275.72]1.5%|CGST] %4.14 }%284.00\n",
            "HSN:71179010\n",
            "1.5%|SGST] %4.14\n",
            "TOTAL: %8.28/%284.00)\n",
            "\n",
            " \n",
            "\n",
            " \n",
            "\n",
            "For VRP TELEMATICS PRIVATE LIMITED:\n",
            "\n",
            "Authorized Signatory\n",
            "\n",
            " \n",
            "\n",
            "Whether tax is payable under reverse charge - No\n",
            "\n",
            " \n",
            "\n",
            "Payment Transaction ID:\n",
            "i93rLOIZV3FmYJ438bISXkEba4sNQUUHInt hrs\n",
            "\n",
            " \n",
            "\n",
            " \n",
            "\n",
            "Date & Time: 21/12/2023, 22:46:11\n",
            "\n",
            "Invoice Value: Mode of Payment:\n",
            "284.00 UPI\n",
            "\n",
            " \n",
            "\n",
            " \n",
            "\n",
            " \n",
            "\n",
            " \n",
            "\n",
            " \n",
            "\f\n"
          ]
        }
      ]
    },
    {
      "cell_type": "markdown",
      "source": [
        "# Segregating the data into column names and values\n"
      ],
      "metadata": {
        "id": "Rb5hElPlUnz-"
      }
    },
    {
      "cell_type": "code",
      "source": [
        "start = text.find('Order Number:')\n",
        "end = text.find('Order Date', start)\n",
        "order_info = text[start:end]"
      ],
      "metadata": {
        "id": "_7neSX0i5EMu"
      },
      "execution_count": null,
      "outputs": []
    },
    {
      "cell_type": "code",
      "source": [
        "order_info_cleaned = order_info.replace('\\n', ' ')\n",
        "order_info_cleaned"
      ],
      "metadata": {
        "colab": {
          "base_uri": "https://localhost:8080/",
          "height": 35
        },
        "id": "YCWzmmxQ5HQE",
        "outputId": "b182a5d6-ecb2-40ae-ab48-d611bf4378a9"
      },
      "execution_count": null,
      "outputs": [
        {
          "output_type": "execute_result",
          "data": {
            "text/plain": [
              "'Order Number: 404-9917575-7586714 '"
            ],
            "application/vnd.google.colaboratory.intrinsic+json": {
              "type": "string"
            }
          },
          "metadata": {},
          "execution_count": 8
        }
      ]
    },
    {
      "cell_type": "code",
      "source": [
        "import pandas as pd\n",
        "\n",
        "# Extract the column head and value\n",
        "if 'Order Number:' in order_info_cleaned:\n",
        "    column_head = 'Order Number'\n",
        "    column_value = order_info_cleaned.split('Order Number:')[1].strip()\n",
        "\n",
        "\n",
        "    df= pd.DataFrame({column_head: [column_value]}, index=['Description'])\n",
        "\n",
        "    print(df)\n",
        "else:\n",
        "    print(\"No Order Number found in the extracted substring.\")"
      ],
      "metadata": {
        "colab": {
          "base_uri": "https://localhost:8080/"
        },
        "id": "K3vh5u5Q5XbC",
        "outputId": "4f9dc056-4f2d-4955-c189-46811764e1d2"
      },
      "execution_count": null,
      "outputs": [
        {
          "output_type": "stream",
          "name": "stdout",
          "text": [
            "                    Order Number\n",
            "Description  404-9917575-7586714\n"
          ]
        }
      ]
    },
    {
      "cell_type": "code",
      "source": [
        "\n",
        "start = text.find('Order Date:')\n",
        "end= text.find('Tax', start)\n",
        "order_date_tax_info = text[start:end]\n",
        "\n",
        "\n",
        "order_date_tax_info_cleaned = order_date_tax_info.replace('\\n', ' ')\n",
        "\n",
        "\n",
        "if 'Order Date:' in order_date_tax_info_cleaned:\n",
        "    column_head_date = 'Order Date'\n",
        "    column_value_date = order_date_tax_info_cleaned.split('Order Date:')[1].strip()\n",
        "\n",
        "\n",
        "    df0= pd.DataFrame({column_head_date: [column_value_date]}, index=['Description'])\n",
        "\n",
        "\n",
        "    print(df0)\n",
        "else:\n",
        "    print(\"No Order Date found in the extracted substring.\")\n"
      ],
      "metadata": {
        "colab": {
          "base_uri": "https://localhost:8080/"
        },
        "id": "fQqDmleq6nI7",
        "outputId": "0fcd840d-a54d-4921-8b60-d509146a6253"
      },
      "execution_count": null,
      "outputs": [
        {
          "output_type": "stream",
          "name": "stdout",
          "text": [
            "             Order Date\n",
            "Description  21.12.2023\n"
          ]
        }
      ]
    },
    {
      "cell_type": "code",
      "source": [
        "start = text.find('Sold By')\n",
        "end = text.find('PAN No', start)\n",
        "Sold = text[start :end]\n",
        "Sold"
      ],
      "metadata": {
        "colab": {
          "base_uri": "https://localhost:8080/",
          "height": 52
        },
        "id": "ki4a9DkMPcJd",
        "outputId": "17399011-0f1d-4ee9-a9c9-e757c776debf"
      },
      "execution_count": null,
      "outputs": [
        {
          "output_type": "execute_result",
          "data": {
            "text/plain": [
              "'Sold By:\\n\\nVRP TELEMATICS PRIVATE LIMITED\\n\\n* Building No. 5, BGR Warehousing Complex,\\nNear Shiv Sagar Hotel, Village Vahuli, Bhiwandi,\\nThane\\n\\nBHIWANDI, MAHARASHTRA, 421302\\n\\nIN\\n\\n'"
            ],
            "application/vnd.google.colaboratory.intrinsic+json": {
              "type": "string"
            }
          },
          "metadata": {},
          "execution_count": 11
        }
      ]
    },
    {
      "cell_type": "code",
      "source": [
        "SoldBy= Sold.replace('\\n', ' ')\n",
        "print(SoldBy)\n"
      ],
      "metadata": {
        "colab": {
          "base_uri": "https://localhost:8080/"
        },
        "id": "KDLOXT8dQ339",
        "outputId": "3fedaf69-cf13-42b4-9165-e3a493e189c4"
      },
      "execution_count": null,
      "outputs": [
        {
          "output_type": "stream",
          "name": "stdout",
          "text": [
            "Sold By:  VRP TELEMATICS PRIVATE LIMITED  * Building No. 5, BGR Warehousing Complex, Near Shiv Sagar Hotel, Village Vahuli, Bhiwandi, Thane  BHIWANDI, MAHARASHTRA, 421302  IN  \n"
          ]
        }
      ]
    },
    {
      "cell_type": "code",
      "source": [
        "import pandas as pd\n",
        "\n",
        "if 'Sold By:' in SoldBy:\n",
        "\n",
        "   column_value = SoldBy.split('Sold By:', 1)[1].strip()\n",
        "\n",
        "\n",
        "   df1 = pd.DataFrame({'Sold By': [column_value]},index=['Description'])\n",
        "\n",
        "   print(df1)\n",
        "else:\n",
        "   print(\"No Sold By found in the extracted substring.\")\n"
      ],
      "metadata": {
        "colab": {
          "base_uri": "https://localhost:8080/"
        },
        "id": "JfJPJM5PR92q",
        "outputId": "6be20eab-771e-4b7d-f09b-536bbd9451ea"
      },
      "execution_count": null,
      "outputs": [
        {
          "output_type": "stream",
          "name": "stdout",
          "text": [
            "                                                       Sold By\n",
            "Description  VRP TELEMATICS PRIVATE LIMITED  * Building No....\n"
          ]
        }
      ]
    },
    {
      "cell_type": "code",
      "source": [
        "start = text.find('Billing Address :')\n",
        "end = text.find('State/', start)\n",
        "Bill = text[start :end]\n",
        "Bill"
      ],
      "metadata": {
        "colab": {
          "base_uri": "https://localhost:8080/",
          "height": 52
        },
        "outputId": "bf2bb9f7-ad69-4a7b-d530-9b01fb456d19",
        "id": "Tm7S4z2DVaCi"
      },
      "execution_count": null,
      "outputs": [
        {
          "output_type": "execute_result",
          "data": {
            "text/plain": [
              "'Billing Address :\\n\\nNataline Ambrose\\n\\nInfant jesus cottage room no 2 chikuwadi, malwani\\nchurch malad west\\n\\nMumbai, MAHARASHTRA, 400095\\n\\nIN\\n\\n'"
            ],
            "application/vnd.google.colaboratory.intrinsic+json": {
              "type": "string"
            }
          },
          "metadata": {},
          "execution_count": 14
        }
      ]
    },
    {
      "cell_type": "code",
      "source": [
        "Bill_add= Bill.replace('\\n', ' ')\n",
        "print(Bill_add)\n"
      ],
      "metadata": {
        "colab": {
          "base_uri": "https://localhost:8080/"
        },
        "outputId": "bc9f261d-a771-4cc6-e46d-bc6994a53922",
        "id": "bTUQ3uQ5VaCl"
      },
      "execution_count": null,
      "outputs": [
        {
          "output_type": "stream",
          "name": "stdout",
          "text": [
            "Billing Address :  Nataline Ambrose  Infant jesus cottage room no 2 chikuwadi, malwani church malad west  Mumbai, MAHARASHTRA, 400095  IN  \n"
          ]
        }
      ]
    },
    {
      "cell_type": "code",
      "source": [
        "import pandas as pd\n",
        "\n",
        "\n",
        "if 'Billing Address :' in Bill_add:\n",
        "\n",
        "    Bill = Bill_add.replace('\\n', ' ')\n",
        "    column_head = 'Billing Address'\n",
        "    column_value = Bill.split('Billing Address :')[1].strip()\n",
        "\n",
        "    df2 = pd.DataFrame({column_head: [column_value]},index=['Description'])\n",
        "\n",
        "\n",
        "    print(df2)\n",
        "else:\n",
        "    print(\"No billing address found in the extracted substring.\")\n",
        "df2.head()"
      ],
      "metadata": {
        "colab": {
          "base_uri": "https://localhost:8080/",
          "height": 115
        },
        "outputId": "8234762d-eb76-444a-96fa-25278fd0a709",
        "id": "SrvEn17CVaCm"
      },
      "execution_count": null,
      "outputs": [
        {
          "output_type": "stream",
          "name": "stdout",
          "text": [
            "                                               Billing Address\n",
            "Description  Nataline Ambrose  Infant jesus cottage room no...\n"
          ]
        },
        {
          "output_type": "execute_result",
          "data": {
            "text/plain": [
              "                                               Billing Address\n",
              "Description  Nataline Ambrose  Infant jesus cottage room no..."
            ],
            "text/html": [
              "\n",
              "  <div id=\"df-2675e7c0-b7db-4af8-a760-7be62c67600f\" class=\"colab-df-container\">\n",
              "    <div>\n",
              "<style scoped>\n",
              "    .dataframe tbody tr th:only-of-type {\n",
              "        vertical-align: middle;\n",
              "    }\n",
              "\n",
              "    .dataframe tbody tr th {\n",
              "        vertical-align: top;\n",
              "    }\n",
              "\n",
              "    .dataframe thead th {\n",
              "        text-align: right;\n",
              "    }\n",
              "</style>\n",
              "<table border=\"1\" class=\"dataframe\">\n",
              "  <thead>\n",
              "    <tr style=\"text-align: right;\">\n",
              "      <th></th>\n",
              "      <th>Billing Address</th>\n",
              "    </tr>\n",
              "  </thead>\n",
              "  <tbody>\n",
              "    <tr>\n",
              "      <th>Description</th>\n",
              "      <td>Nataline Ambrose  Infant jesus cottage room no...</td>\n",
              "    </tr>\n",
              "  </tbody>\n",
              "</table>\n",
              "</div>\n",
              "    <div class=\"colab-df-buttons\">\n",
              "\n",
              "  <div class=\"colab-df-container\">\n",
              "    <button class=\"colab-df-convert\" onclick=\"convertToInteractive('df-2675e7c0-b7db-4af8-a760-7be62c67600f')\"\n",
              "            title=\"Convert this dataframe to an interactive table.\"\n",
              "            style=\"display:none;\">\n",
              "\n",
              "  <svg xmlns=\"http://www.w3.org/2000/svg\" height=\"24px\" viewBox=\"0 -960 960 960\">\n",
              "    <path d=\"M120-120v-720h720v720H120Zm60-500h600v-160H180v160Zm220 220h160v-160H400v160Zm0 220h160v-160H400v160ZM180-400h160v-160H180v160Zm440 0h160v-160H620v160ZM180-180h160v-160H180v160Zm440 0h160v-160H620v160Z\"/>\n",
              "  </svg>\n",
              "    </button>\n",
              "\n",
              "  <style>\n",
              "    .colab-df-container {\n",
              "      display:flex;\n",
              "      gap: 12px;\n",
              "    }\n",
              "\n",
              "    .colab-df-convert {\n",
              "      background-color: #E8F0FE;\n",
              "      border: none;\n",
              "      border-radius: 50%;\n",
              "      cursor: pointer;\n",
              "      display: none;\n",
              "      fill: #1967D2;\n",
              "      height: 32px;\n",
              "      padding: 0 0 0 0;\n",
              "      width: 32px;\n",
              "    }\n",
              "\n",
              "    .colab-df-convert:hover {\n",
              "      background-color: #E2EBFA;\n",
              "      box-shadow: 0px 1px 2px rgba(60, 64, 67, 0.3), 0px 1px 3px 1px rgba(60, 64, 67, 0.15);\n",
              "      fill: #174EA6;\n",
              "    }\n",
              "\n",
              "    .colab-df-buttons div {\n",
              "      margin-bottom: 4px;\n",
              "    }\n",
              "\n",
              "    [theme=dark] .colab-df-convert {\n",
              "      background-color: #3B4455;\n",
              "      fill: #D2E3FC;\n",
              "    }\n",
              "\n",
              "    [theme=dark] .colab-df-convert:hover {\n",
              "      background-color: #434B5C;\n",
              "      box-shadow: 0px 1px 3px 1px rgba(0, 0, 0, 0.15);\n",
              "      filter: drop-shadow(0px 1px 2px rgba(0, 0, 0, 0.3));\n",
              "      fill: #FFFFFF;\n",
              "    }\n",
              "  </style>\n",
              "\n",
              "    <script>\n",
              "      const buttonEl =\n",
              "        document.querySelector('#df-2675e7c0-b7db-4af8-a760-7be62c67600f button.colab-df-convert');\n",
              "      buttonEl.style.display =\n",
              "        google.colab.kernel.accessAllowed ? 'block' : 'none';\n",
              "\n",
              "      async function convertToInteractive(key) {\n",
              "        const element = document.querySelector('#df-2675e7c0-b7db-4af8-a760-7be62c67600f');\n",
              "        const dataTable =\n",
              "          await google.colab.kernel.invokeFunction('convertToInteractive',\n",
              "                                                    [key], {});\n",
              "        if (!dataTable) return;\n",
              "\n",
              "        const docLinkHtml = 'Like what you see? Visit the ' +\n",
              "          '<a target=\"_blank\" href=https://colab.research.google.com/notebooks/data_table.ipynb>data table notebook</a>'\n",
              "          + ' to learn more about interactive tables.';\n",
              "        element.innerHTML = '';\n",
              "        dataTable['output_type'] = 'display_data';\n",
              "        await google.colab.output.renderOutput(dataTable, element);\n",
              "        const docLink = document.createElement('div');\n",
              "        docLink.innerHTML = docLinkHtml;\n",
              "        element.appendChild(docLink);\n",
              "      }\n",
              "    </script>\n",
              "  </div>\n",
              "\n",
              "\n",
              "    </div>\n",
              "  </div>\n"
            ]
          },
          "metadata": {},
          "execution_count": 16
        }
      ]
    },
    {
      "cell_type": "code",
      "source": [
        "\n",
        "startinvoice = text.find('Invoice Number :')\n",
        "end_invoice_date = text.find('Invoice Details :', startinvoice)\n",
        "invoice_info = text[startinvoice:end_invoice_date]\n",
        "\n",
        "invoice_info_cleaned = invoice_info.replace('\\n', ' ')\n",
        "\n",
        "if 'Invoice Number :' in invoice_info_cleaned:\n",
        "    column_head_invoice = 'Invoice Number'\n",
        "    column_value_invoice = invoice_info_cleaned.split('Invoice Number :')[1].strip()\n",
        "\n",
        "\n",
        "    df3 = pd.DataFrame({column_head_invoice: [column_value_invoice]}, index=['Description'])\n",
        "\n",
        "\n",
        "    print(df3)\n",
        "else:\n",
        "    print(\"No Invoice Number found in the extracted substring.\")"
      ],
      "metadata": {
        "colab": {
          "base_uri": "https://localhost:8080/"
        },
        "id": "yb4sNp3d9TP8",
        "outputId": "76840e3a-3715-4d40-f538-0b0bba465a66"
      },
      "execution_count": null,
      "outputs": [
        {
          "output_type": "stream",
          "name": "stdout",
          "text": [
            "            Invoice Number\n",
            "Description    BOM7-321133\n"
          ]
        }
      ]
    },
    {
      "cell_type": "code",
      "source": [
        "\n",
        "start_invoice_details = text.find('Invoice Details :')\n",
        "end_invoice_date = text.find('Invoice Date', start_invoice_details)\n",
        "invoice_details_info = text[start_invoice_details:end_invoice_date]\n",
        "\n",
        "invoice_details_info_cleaned = invoice_details_info.replace('\\n', ' ')\n",
        "\n",
        "if 'Invoice Details :' in invoice_details_info_cleaned:\n",
        "    column_head_invoice_details = 'Invoice Details'\n",
        "    column_value_invoice_details = invoice_details_info_cleaned.split('Invoice Details :')[1].strip()\n",
        "\n",
        "\n",
        "    df4 = pd.DataFrame({column_head_invoice_details: [column_value_invoice_details]}, index=['Description'])\n",
        "\n",
        "\n",
        "    print(df4)\n",
        "else:\n",
        "    print(\"No Invoice Details found in the extracted substring.\")"
      ],
      "metadata": {
        "colab": {
          "base_uri": "https://localhost:8080/"
        },
        "id": "DSt1Tn9y9wb5",
        "outputId": "ec244c8c-4649-4def-f89e-14e56a964401"
      },
      "execution_count": null,
      "outputs": [
        {
          "output_type": "stream",
          "name": "stdout",
          "text": [
            "                     Invoice Details\n",
            "Description  MH-BOM7-1283324145-2324\n"
          ]
        }
      ]
    },
    {
      "cell_type": "code",
      "source": [
        "startinvoice_date = text.find('Invoice Date :')\n",
        "end_description = text.find('Amount', startinvoice_date)\n",
        "invoice_date_info = text[startinvoice_date:end_description]\n",
        "\n",
        "invoice_date_info_cleaned = invoice_date_info.replace('\\n', ' ')\n",
        "\n",
        "\n",
        "if 'Invoice Date :' in invoice_date_info_cleaned:\n",
        "    column_head_invoice_date = 'Invoice Date'\n",
        "    column_value_invoice_date = invoice_date_info_cleaned.split('Invoice Date :')[1].strip()\n",
        "\n",
        "    df5= pd.DataFrame({column_head_invoice_date: [column_value_invoice_date]}, index=['Description'])\n",
        "\n",
        "    print(df5)\n",
        "else:\n",
        "    print(\"No Invoice Date found in the extracted substring.\")"
      ],
      "metadata": {
        "colab": {
          "base_uri": "https://localhost:8080/"
        },
        "id": "Eqx_hFOA_M0Z",
        "outputId": "d0584f5e-a134-4074-a442-adf04bf096a3"
      },
      "execution_count": null,
      "outputs": [
        {
          "output_type": "stream",
          "name": "stdout",
          "text": [
            "            Invoice Date\n",
            "Description   21.12.2023\n"
          ]
        }
      ]
    },
    {
      "cell_type": "code",
      "source": [
        "startyoubella = text.find('YouBella')\n",
        "end_amount_in_words = text.find('| BO7W9KXP9Q ( BO7W9KXP9Q )', startyoubella)\n",
        "youbella_info = text[startyoubella:end_amount_in_words]\n",
        "\n",
        "\n",
        "youbella_info_cleaned = youbella_info.replace('\\n', ' ')\n",
        "\n",
        "\n",
        "if 'YouBella' in youbella_info_cleaned:\n",
        "    column_head_youbella = 'Description'\n",
        "    column_value_youbella = youbella_info_cleaned.strip()\n",
        "\n",
        "    df6 = pd.DataFrame({column_head_youbella: [column_value_youbella]}, index=['Description'])\n",
        "    print(df6)\n",
        "else:\n",
        "    print(\"No YouBella found in the extracted substring.\")\n",
        "df6.head()"
      ],
      "metadata": {
        "colab": {
          "base_uri": "https://localhost:8080/",
          "height": 115
        },
        "id": "8Bp-S1fZCVnf",
        "outputId": "6b6a510b-fa6f-451b-899c-840c0233a519"
      },
      "execution_count": null,
      "outputs": [
        {
          "output_type": "stream",
          "name": "stdout",
          "text": [
            "                                                   Description\n",
            "Description  YouBella Jewellery Earrings for women Crystal ...\n"
          ]
        },
        {
          "output_type": "execute_result",
          "data": {
            "text/plain": [
              "                                                   Description\n",
              "Description  YouBella Jewellery Earrings for women Crystal ..."
            ],
            "text/html": [
              "\n",
              "  <div id=\"df-c9dfaacc-5b08-4122-abc1-c98cc1e58362\" class=\"colab-df-container\">\n",
              "    <div>\n",
              "<style scoped>\n",
              "    .dataframe tbody tr th:only-of-type {\n",
              "        vertical-align: middle;\n",
              "    }\n",
              "\n",
              "    .dataframe tbody tr th {\n",
              "        vertical-align: top;\n",
              "    }\n",
              "\n",
              "    .dataframe thead th {\n",
              "        text-align: right;\n",
              "    }\n",
              "</style>\n",
              "<table border=\"1\" class=\"dataframe\">\n",
              "  <thead>\n",
              "    <tr style=\"text-align: right;\">\n",
              "      <th></th>\n",
              "      <th>Description</th>\n",
              "    </tr>\n",
              "  </thead>\n",
              "  <tbody>\n",
              "    <tr>\n",
              "      <th>Description</th>\n",
              "      <td>YouBella Jewellery Earrings for women Crystal ...</td>\n",
              "    </tr>\n",
              "  </tbody>\n",
              "</table>\n",
              "</div>\n",
              "    <div class=\"colab-df-buttons\">\n",
              "\n",
              "  <div class=\"colab-df-container\">\n",
              "    <button class=\"colab-df-convert\" onclick=\"convertToInteractive('df-c9dfaacc-5b08-4122-abc1-c98cc1e58362')\"\n",
              "            title=\"Convert this dataframe to an interactive table.\"\n",
              "            style=\"display:none;\">\n",
              "\n",
              "  <svg xmlns=\"http://www.w3.org/2000/svg\" height=\"24px\" viewBox=\"0 -960 960 960\">\n",
              "    <path d=\"M120-120v-720h720v720H120Zm60-500h600v-160H180v160Zm220 220h160v-160H400v160Zm0 220h160v-160H400v160ZM180-400h160v-160H180v160Zm440 0h160v-160H620v160ZM180-180h160v-160H180v160Zm440 0h160v-160H620v160Z\"/>\n",
              "  </svg>\n",
              "    </button>\n",
              "\n",
              "  <style>\n",
              "    .colab-df-container {\n",
              "      display:flex;\n",
              "      gap: 12px;\n",
              "    }\n",
              "\n",
              "    .colab-df-convert {\n",
              "      background-color: #E8F0FE;\n",
              "      border: none;\n",
              "      border-radius: 50%;\n",
              "      cursor: pointer;\n",
              "      display: none;\n",
              "      fill: #1967D2;\n",
              "      height: 32px;\n",
              "      padding: 0 0 0 0;\n",
              "      width: 32px;\n",
              "    }\n",
              "\n",
              "    .colab-df-convert:hover {\n",
              "      background-color: #E2EBFA;\n",
              "      box-shadow: 0px 1px 2px rgba(60, 64, 67, 0.3), 0px 1px 3px 1px rgba(60, 64, 67, 0.15);\n",
              "      fill: #174EA6;\n",
              "    }\n",
              "\n",
              "    .colab-df-buttons div {\n",
              "      margin-bottom: 4px;\n",
              "    }\n",
              "\n",
              "    [theme=dark] .colab-df-convert {\n",
              "      background-color: #3B4455;\n",
              "      fill: #D2E3FC;\n",
              "    }\n",
              "\n",
              "    [theme=dark] .colab-df-convert:hover {\n",
              "      background-color: #434B5C;\n",
              "      box-shadow: 0px 1px 3px 1px rgba(0, 0, 0, 0.15);\n",
              "      filter: drop-shadow(0px 1px 2px rgba(0, 0, 0, 0.3));\n",
              "      fill: #FFFFFF;\n",
              "    }\n",
              "  </style>\n",
              "\n",
              "    <script>\n",
              "      const buttonEl =\n",
              "        document.querySelector('#df-c9dfaacc-5b08-4122-abc1-c98cc1e58362 button.colab-df-convert');\n",
              "      buttonEl.style.display =\n",
              "        google.colab.kernel.accessAllowed ? 'block' : 'none';\n",
              "\n",
              "      async function convertToInteractive(key) {\n",
              "        const element = document.querySelector('#df-c9dfaacc-5b08-4122-abc1-c98cc1e58362');\n",
              "        const dataTable =\n",
              "          await google.colab.kernel.invokeFunction('convertToInteractive',\n",
              "                                                    [key], {});\n",
              "        if (!dataTable) return;\n",
              "\n",
              "        const docLinkHtml = 'Like what you see? Visit the ' +\n",
              "          '<a target=\"_blank\" href=https://colab.research.google.com/notebooks/data_table.ipynb>data table notebook</a>'\n",
              "          + ' to learn more about interactive tables.';\n",
              "        element.innerHTML = '';\n",
              "        dataTable['output_type'] = 'display_data';\n",
              "        await google.colab.output.renderOutput(dataTable, element);\n",
              "        const docLink = document.createElement('div');\n",
              "        docLink.innerHTML = docLinkHtml;\n",
              "        element.appendChild(docLink);\n",
              "      }\n",
              "    </script>\n",
              "  </div>\n",
              "\n",
              "\n",
              "    </div>\n",
              "  </div>\n"
            ]
          },
          "metadata": {},
          "execution_count": 20
        }
      ]
    },
    {
      "cell_type": "code",
      "source": [
        "startplace_of_supply = text.find('Place of supply:')\n",
        "end_place_of_delivery = text.find('Place of delivery', startplace_of_supply)\n",
        "place_of_supply_info = text[startplace_of_supply:end_place_of_delivery]\n",
        "\n",
        "place_of_supply_info_cleaned = place_of_supply_info.replace('\\n', ' ')\n",
        "\n",
        "if 'Place of supply:' in place_of_supply_info_cleaned:\n",
        "    column_head_place_of_supply = 'Place of supply'\n",
        "    column_value_place_of_supply = place_of_supply_info_cleaned.split('Place of supply:')[1].strip()\n",
        "\n",
        "    df7 = pd.DataFrame({column_head_place_of_supply: [column_value_place_of_supply]}, index=['Description'])\n",
        "\n",
        "\n",
        "    print(df7)\n",
        "else:\n",
        "    print(\"No Place of supply found in the extracted substring.\")"
      ],
      "metadata": {
        "colab": {
          "base_uri": "https://localhost:8080/"
        },
        "id": "Uf4mbs2DDKdA",
        "outputId": "968e28e3-291f-4594-e559-4023113d8fb5"
      },
      "execution_count": null,
      "outputs": [
        {
          "output_type": "stream",
          "name": "stdout",
          "text": [
            "            Place of supply\n",
            "Description     MAHARASHTRA\n"
          ]
        }
      ]
    },
    {
      "cell_type": "code",
      "source": [
        "startplace_of_delivery = text.find('Place of delivery:')\n",
        "end_invoice_number = text.find('Invoice Number : BOM7-321133', startplace_of_delivery)\n",
        "delivery_info = text[startplace_of_delivery:end_invoice_number]\n",
        "\n",
        "\n",
        "delivery_info_cleaned = delivery_info.replace('\\n', ' ')\n",
        "\n",
        "if 'Place of delivery:' in delivery_info_cleaned:\n",
        "    column_head_place_of_delivery = 'Place of delivery'\n",
        "    column_value_place_of_delivery = delivery_info_cleaned.split('Place of delivery:')[1].strip()\n",
        "\n",
        "\n",
        "    df8= pd.DataFrame({column_head_place_of_delivery: [column_value_place_of_delivery]}, index=['Description'])\n",
        "\n",
        "\n",
        "    print(df8)\n",
        "else:\n",
        "    print(\"No Place of delivery found in the extracted substring.\")"
      ],
      "metadata": {
        "colab": {
          "base_uri": "https://localhost:8080/"
        },
        "id": "tOtcW4tP8CdZ",
        "outputId": "efafa115-b343-4fe6-e7d3-e506ffff595e"
      },
      "execution_count": null,
      "outputs": [
        {
          "output_type": "stream",
          "name": "stdout",
          "text": [
            "            Place of delivery\n",
            "Description       MAHARASHTRA\n"
          ]
        }
      ]
    },
    {
      "cell_type": "code",
      "source": [
        "payment_methods = [\n",
        "    \"Credit Cards\",\n",
        "    \"Debit Cards\",\n",
        "    \"Net Banking\",\n",
        "    \"Amazon Pay Balance\",\n",
        "    \"EMI\",\n",
        "    \"UPI\",\n",
        "    \"Cash on Delivery (COD)\"\n",
        "]\n",
        "\n",
        "found_pay = None\n",
        "\n",
        "for payment in payment_methods:\n",
        "    if payment.lower() in text.lower():\n",
        "        found_pay = payment\n",
        "        break\n",
        "\n",
        "if found_pay:\n",
        "    column_head = 'Payment method'\n",
        "    column_value = found_pay\n",
        "    df12 = pd.DataFrame({column_head: [column_value]},index=['Description'])\n",
        "    print(df12)\n",
        "else:\n",
        "    print(\"No payment method found in the text.\")\n"
      ],
      "metadata": {
        "colab": {
          "base_uri": "https://localhost:8080/"
        },
        "id": "y7Uw0vPlEV4Z",
        "outputId": "6840bedd-210f-48fd-d5e1-81e942094f72"
      },
      "execution_count": null,
      "outputs": [
        {
          "output_type": "stream",
          "name": "stdout",
          "text": [
            "            Payment method\n",
            "Description            UPI\n"
          ]
        }
      ]
    },
    {
      "cell_type": "code",
      "source": [
        "startdate_time = text.find('Date & Time:')\n",
        "end_invoice = text.find('Invoice', startdate_time)\n",
        "date_time_info = text[startdate_time:end_invoice]\n",
        "\n",
        "date_time_info_cleaned = date_time_info.replace('\\n', ' ')\n",
        "\n",
        "if 'Date & Time:' in date_time_info_cleaned:\n",
        "    column_head_date_time = 'Date & Time of Transaction'\n",
        "    column_value_date_time = date_time_info_cleaned.split('Date & Time:')[1].strip()\n",
        "\n",
        "    df9 = pd.DataFrame({column_head_date_time: [column_value_date_time]}, index=['Description'])\n",
        "\n",
        "    print(df9)\n",
        "else:\n",
        "    print(\"No Date & Time found in the extracted substring.\")\n"
      ],
      "metadata": {
        "colab": {
          "base_uri": "https://localhost:8080/"
        },
        "id": "bGNKbHmjFbW8",
        "outputId": "39811cb8-bdcb-4ff8-fd04-21a3f6ff09b8"
      },
      "execution_count": null,
      "outputs": [
        {
          "output_type": "stream",
          "name": "stdout",
          "text": [
            "            Date & Time of Transaction\n",
            "Description       21/12/2023, 22:46:11\n"
          ]
        }
      ]
    },
    {
      "cell_type": "markdown",
      "source": [
        "# Merging the four data frames into one and making an excel file\n"
      ],
      "metadata": {
        "id": "xtfM-l09m3hF"
      }
    },
    {
      "cell_type": "code",
      "source": [
        "merged_df = pd.merge(df, df0, how='outer', left_index=True, right_index=True)\n",
        "merged_df = pd.merge(merged_df, df1, how='outer', left_index=True, right_index=True)\n",
        "merged_df = pd.merge(merged_df, df2, how='outer', left_index=True, right_index=True)\n",
        "merged_df = pd.merge(merged_df, df8, how='outer', left_index=True, right_index=True)\n",
        "merged_df = pd.merge(merged_df, df9, how='outer', left_index=True, right_index=True)\n",
        "merged_df = pd.merge(merged_df, df12, how='outer', left_index=True, right_index=True)\n",
        "merged_df = pd.merge(merged_df, df7, how='outer', left_index=True, right_index=True)\n",
        "merged_df = pd.merge(merged_df, df3, how='outer', left_index=True, right_index=True)\n",
        "merged_df = pd.merge(merged_df, df4, how='outer', left_index=True, right_index=True)\n",
        "merged_df = pd.merge(merged_df, df5, how='outer', left_index=True, right_index=True)\n",
        "\n",
        "print(merged_df)"
      ],
      "metadata": {
        "colab": {
          "base_uri": "https://localhost:8080/"
        },
        "id": "az161E20fqwo",
        "outputId": "6204f3f4-08f2-43c1-c58a-3965934bb622"
      },
      "execution_count": null,
      "outputs": [
        {
          "output_type": "stream",
          "name": "stdout",
          "text": [
            "                    Order Number  Order Date  \\\n",
            "Description  404-9917575-7586714  21.12.2023   \n",
            "\n",
            "                                                       Sold By  \\\n",
            "Description  VRP TELEMATICS PRIVATE LIMITED  * Building No....   \n",
            "\n",
            "                                               Billing Address  \\\n",
            "Description  Nataline Ambrose  Infant jesus cottage room no...   \n",
            "\n",
            "            Place of delivery Date & Time of Transaction Payment method  \\\n",
            "Description       MAHARASHTRA       21/12/2023, 22:46:11            UPI   \n",
            "\n",
            "            Place of supply Invoice Number          Invoice Details  \\\n",
            "Description     MAHARASHTRA    BOM7-321133  MH-BOM7-1283324145-2324   \n",
            "\n",
            "            Invoice Date  \n",
            "Description   21.12.2023  \n"
          ]
        }
      ]
    },
    {
      "cell_type": "code",
      "source": [
        "merged_df\n"
      ],
      "metadata": {
        "colab": {
          "base_uri": "https://localhost:8080/",
          "height": 239
        },
        "id": "BnrpJcD8ge4r",
        "outputId": "79c4bdc5-6f9c-454b-fde8-e3eda699d0e7"
      },
      "execution_count": null,
      "outputs": [
        {
          "output_type": "execute_result",
          "data": {
            "text/plain": [
              "                    Order Number  Order Date  \\\n",
              "Description  404-9917575-7586714  21.12.2023   \n",
              "\n",
              "                                                       Sold By  \\\n",
              "Description  VRP TELEMATICS PRIVATE LIMITED  * Building No....   \n",
              "\n",
              "                                               Billing Address  \\\n",
              "Description  Nataline Ambrose  Infant jesus cottage room no...   \n",
              "\n",
              "            Place of delivery Date & Time of Transaction Payment method  \\\n",
              "Description       MAHARASHTRA       21/12/2023, 22:46:11            UPI   \n",
              "\n",
              "            Place of supply Invoice Number          Invoice Details  \\\n",
              "Description     MAHARASHTRA    BOM7-321133  MH-BOM7-1283324145-2324   \n",
              "\n",
              "            Invoice Date  \n",
              "Description   21.12.2023  "
            ],
            "text/html": [
              "\n",
              "  <div id=\"df-8b77259f-0f24-415f-aae0-7dcb25d9336f\" class=\"colab-df-container\">\n",
              "    <div>\n",
              "<style scoped>\n",
              "    .dataframe tbody tr th:only-of-type {\n",
              "        vertical-align: middle;\n",
              "    }\n",
              "\n",
              "    .dataframe tbody tr th {\n",
              "        vertical-align: top;\n",
              "    }\n",
              "\n",
              "    .dataframe thead th {\n",
              "        text-align: right;\n",
              "    }\n",
              "</style>\n",
              "<table border=\"1\" class=\"dataframe\">\n",
              "  <thead>\n",
              "    <tr style=\"text-align: right;\">\n",
              "      <th></th>\n",
              "      <th>Order Number</th>\n",
              "      <th>Order Date</th>\n",
              "      <th>Sold By</th>\n",
              "      <th>Billing Address</th>\n",
              "      <th>Place of delivery</th>\n",
              "      <th>Date &amp; Time of Transaction</th>\n",
              "      <th>Payment method</th>\n",
              "      <th>Place of supply</th>\n",
              "      <th>Invoice Number</th>\n",
              "      <th>Invoice Details</th>\n",
              "      <th>Invoice Date</th>\n",
              "    </tr>\n",
              "  </thead>\n",
              "  <tbody>\n",
              "    <tr>\n",
              "      <th>Description</th>\n",
              "      <td>404-9917575-7586714</td>\n",
              "      <td>21.12.2023</td>\n",
              "      <td>VRP TELEMATICS PRIVATE LIMITED  * Building No....</td>\n",
              "      <td>Nataline Ambrose  Infant jesus cottage room no...</td>\n",
              "      <td>MAHARASHTRA</td>\n",
              "      <td>21/12/2023, 22:46:11</td>\n",
              "      <td>UPI</td>\n",
              "      <td>MAHARASHTRA</td>\n",
              "      <td>BOM7-321133</td>\n",
              "      <td>MH-BOM7-1283324145-2324</td>\n",
              "      <td>21.12.2023</td>\n",
              "    </tr>\n",
              "  </tbody>\n",
              "</table>\n",
              "</div>\n",
              "    <div class=\"colab-df-buttons\">\n",
              "\n",
              "  <div class=\"colab-df-container\">\n",
              "    <button class=\"colab-df-convert\" onclick=\"convertToInteractive('df-8b77259f-0f24-415f-aae0-7dcb25d9336f')\"\n",
              "            title=\"Convert this dataframe to an interactive table.\"\n",
              "            style=\"display:none;\">\n",
              "\n",
              "  <svg xmlns=\"http://www.w3.org/2000/svg\" height=\"24px\" viewBox=\"0 -960 960 960\">\n",
              "    <path d=\"M120-120v-720h720v720H120Zm60-500h600v-160H180v160Zm220 220h160v-160H400v160Zm0 220h160v-160H400v160ZM180-400h160v-160H180v160Zm440 0h160v-160H620v160ZM180-180h160v-160H180v160Zm440 0h160v-160H620v160Z\"/>\n",
              "  </svg>\n",
              "    </button>\n",
              "\n",
              "  <style>\n",
              "    .colab-df-container {\n",
              "      display:flex;\n",
              "      gap: 12px;\n",
              "    }\n",
              "\n",
              "    .colab-df-convert {\n",
              "      background-color: #E8F0FE;\n",
              "      border: none;\n",
              "      border-radius: 50%;\n",
              "      cursor: pointer;\n",
              "      display: none;\n",
              "      fill: #1967D2;\n",
              "      height: 32px;\n",
              "      padding: 0 0 0 0;\n",
              "      width: 32px;\n",
              "    }\n",
              "\n",
              "    .colab-df-convert:hover {\n",
              "      background-color: #E2EBFA;\n",
              "      box-shadow: 0px 1px 2px rgba(60, 64, 67, 0.3), 0px 1px 3px 1px rgba(60, 64, 67, 0.15);\n",
              "      fill: #174EA6;\n",
              "    }\n",
              "\n",
              "    .colab-df-buttons div {\n",
              "      margin-bottom: 4px;\n",
              "    }\n",
              "\n",
              "    [theme=dark] .colab-df-convert {\n",
              "      background-color: #3B4455;\n",
              "      fill: #D2E3FC;\n",
              "    }\n",
              "\n",
              "    [theme=dark] .colab-df-convert:hover {\n",
              "      background-color: #434B5C;\n",
              "      box-shadow: 0px 1px 3px 1px rgba(0, 0, 0, 0.15);\n",
              "      filter: drop-shadow(0px 1px 2px rgba(0, 0, 0, 0.3));\n",
              "      fill: #FFFFFF;\n",
              "    }\n",
              "  </style>\n",
              "\n",
              "    <script>\n",
              "      const buttonEl =\n",
              "        document.querySelector('#df-8b77259f-0f24-415f-aae0-7dcb25d9336f button.colab-df-convert');\n",
              "      buttonEl.style.display =\n",
              "        google.colab.kernel.accessAllowed ? 'block' : 'none';\n",
              "\n",
              "      async function convertToInteractive(key) {\n",
              "        const element = document.querySelector('#df-8b77259f-0f24-415f-aae0-7dcb25d9336f');\n",
              "        const dataTable =\n",
              "          await google.colab.kernel.invokeFunction('convertToInteractive',\n",
              "                                                    [key], {});\n",
              "        if (!dataTable) return;\n",
              "\n",
              "        const docLinkHtml = 'Like what you see? Visit the ' +\n",
              "          '<a target=\"_blank\" href=https://colab.research.google.com/notebooks/data_table.ipynb>data table notebook</a>'\n",
              "          + ' to learn more about interactive tables.';\n",
              "        element.innerHTML = '';\n",
              "        dataTable['output_type'] = 'display_data';\n",
              "        await google.colab.output.renderOutput(dataTable, element);\n",
              "        const docLink = document.createElement('div');\n",
              "        docLink.innerHTML = docLinkHtml;\n",
              "        element.appendChild(docLink);\n",
              "      }\n",
              "    </script>\n",
              "  </div>\n",
              "\n",
              "\n",
              "  <div id=\"id_a7908bc7-9395-425c-86f6-baffa075711d\">\n",
              "    <style>\n",
              "      .colab-df-generate {\n",
              "        background-color: #E8F0FE;\n",
              "        border: none;\n",
              "        border-radius: 50%;\n",
              "        cursor: pointer;\n",
              "        display: none;\n",
              "        fill: #1967D2;\n",
              "        height: 32px;\n",
              "        padding: 0 0 0 0;\n",
              "        width: 32px;\n",
              "      }\n",
              "\n",
              "      .colab-df-generate:hover {\n",
              "        background-color: #E2EBFA;\n",
              "        box-shadow: 0px 1px 2px rgba(60, 64, 67, 0.3), 0px 1px 3px 1px rgba(60, 64, 67, 0.15);\n",
              "        fill: #174EA6;\n",
              "      }\n",
              "\n",
              "      [theme=dark] .colab-df-generate {\n",
              "        background-color: #3B4455;\n",
              "        fill: #D2E3FC;\n",
              "      }\n",
              "\n",
              "      [theme=dark] .colab-df-generate:hover {\n",
              "        background-color: #434B5C;\n",
              "        box-shadow: 0px 1px 3px 1px rgba(0, 0, 0, 0.15);\n",
              "        filter: drop-shadow(0px 1px 2px rgba(0, 0, 0, 0.3));\n",
              "        fill: #FFFFFF;\n",
              "      }\n",
              "    </style>\n",
              "    <button class=\"colab-df-generate\" onclick=\"generateWithVariable('merged_df')\"\n",
              "            title=\"Generate code using this dataframe.\"\n",
              "            style=\"display:none;\">\n",
              "\n",
              "  <svg xmlns=\"http://www.w3.org/2000/svg\" height=\"24px\"viewBox=\"0 0 24 24\"\n",
              "       width=\"24px\">\n",
              "    <path d=\"M7,19H8.4L18.45,9,17,7.55,7,17.6ZM5,21V16.75L18.45,3.32a2,2,0,0,1,2.83,0l1.4,1.43a1.91,1.91,0,0,1,.58,1.4,1.91,1.91,0,0,1-.58,1.4L9.25,21ZM18.45,9,17,7.55Zm-12,3A5.31,5.31,0,0,0,4.9,8.1,5.31,5.31,0,0,0,1,6.5,5.31,5.31,0,0,0,4.9,4.9,5.31,5.31,0,0,0,6.5,1,5.31,5.31,0,0,0,8.1,4.9,5.31,5.31,0,0,0,12,6.5,5.46,5.46,0,0,0,6.5,12Z\"/>\n",
              "  </svg>\n",
              "    </button>\n",
              "    <script>\n",
              "      (() => {\n",
              "      const buttonEl =\n",
              "        document.querySelector('#id_a7908bc7-9395-425c-86f6-baffa075711d button.colab-df-generate');\n",
              "      buttonEl.style.display =\n",
              "        google.colab.kernel.accessAllowed ? 'block' : 'none';\n",
              "\n",
              "      buttonEl.onclick = () => {\n",
              "        google.colab.notebook.generateWithVariable('merged_df');\n",
              "      }\n",
              "      })();\n",
              "    </script>\n",
              "  </div>\n",
              "\n",
              "    </div>\n",
              "  </div>\n"
            ]
          },
          "metadata": {},
          "execution_count": 26
        }
      ]
    },
    {
      "cell_type": "code",
      "source": [
        "import pandas as pd\n",
        "\n",
        "merged_df.to_excel('merged_data.xlsx', index=False)  # Set index=False to exclude index\n",
        "\n",
        "print(\"Success\")\n"
      ],
      "metadata": {
        "colab": {
          "base_uri": "https://localhost:8080/"
        },
        "id": "rQwyuK-yhWsE",
        "outputId": "e3b91a0a-ca99-4b47-8e87-37b297b69ce3"
      },
      "execution_count": null,
      "outputs": [
        {
          "output_type": "stream",
          "name": "stdout",
          "text": [
            "Success\n"
          ]
        }
      ]
    },
    {
      "cell_type": "markdown",
      "source": [
        "# Extracting the product description in the tabel using camelot\n"
      ],
      "metadata": {
        "id": "iaxuW5bFGmK6"
      }
    },
    {
      "cell_type": "code",
      "source": [
        "!apt-get install -y ghostscript\n",
        "!pip install camelot-py\n",
        "!pip install ghostscript\n"
      ],
      "metadata": {
        "colab": {
          "base_uri": "https://localhost:8080/"
        },
        "id": "1LG0d-XBGni7",
        "outputId": "57733e14-343c-40ff-95a8-b91afd47af01"
      },
      "execution_count": null,
      "outputs": [
        {
          "output_type": "stream",
          "name": "stdout",
          "text": [
            "Reading package lists... Done\n",
            "Building dependency tree... Done\n",
            "Reading state information... Done\n",
            "The following additional packages will be installed:\n",
            "  fonts-droid-fallback fonts-noto-mono fonts-urw-base35 libgs9 libgs9-common libidn12 libijs-0.35\n",
            "  libjbig2dec0 poppler-data\n",
            "Suggested packages:\n",
            "  fonts-noto fonts-freefont-otf | fonts-freefont-ttf fonts-texgyre ghostscript-x\n",
            "  fonts-japanese-mincho | fonts-ipafont-mincho fonts-japanese-gothic | fonts-ipafont-gothic\n",
            "  fonts-arphic-ukai fonts-arphic-uming fonts-nanum\n",
            "The following NEW packages will be installed:\n",
            "  fonts-droid-fallback fonts-noto-mono fonts-urw-base35 ghostscript libgs9 libgs9-common libidn12\n",
            "  libijs-0.35 libjbig2dec0 poppler-data\n",
            "0 upgraded, 10 newly installed, 0 to remove and 30 not upgraded.\n",
            "Need to get 16.7 MB of archives.\n",
            "After this operation, 63.0 MB of additional disk space will be used.\n",
            "Get:1 http://archive.ubuntu.com/ubuntu jammy/main amd64 fonts-droid-fallback all 1:6.0.1r16-1.1build1 [1,805 kB]\n",
            "Get:2 http://archive.ubuntu.com/ubuntu jammy/main amd64 poppler-data all 0.4.11-1 [2,171 kB]\n",
            "Get:3 http://archive.ubuntu.com/ubuntu jammy/main amd64 fonts-noto-mono all 20201225-1build1 [397 kB]\n",
            "Get:4 http://archive.ubuntu.com/ubuntu jammy/main amd64 fonts-urw-base35 all 20200910-1 [6,367 kB]\n",
            "Get:5 http://archive.ubuntu.com/ubuntu jammy-updates/main amd64 libgs9-common all 9.55.0~dfsg1-0ubuntu5.6 [751 kB]\n",
            "Get:6 http://archive.ubuntu.com/ubuntu jammy-updates/main amd64 libidn12 amd64 1.38-4ubuntu1 [60.0 kB]\n",
            "Get:7 http://archive.ubuntu.com/ubuntu jammy/main amd64 libijs-0.35 amd64 0.35-15build2 [16.5 kB]\n",
            "Get:8 http://archive.ubuntu.com/ubuntu jammy/main amd64 libjbig2dec0 amd64 0.19-3build2 [64.7 kB]\n",
            "Get:9 http://archive.ubuntu.com/ubuntu jammy-updates/main amd64 libgs9 amd64 9.55.0~dfsg1-0ubuntu5.6 [5,031 kB]\n",
            "Get:10 http://archive.ubuntu.com/ubuntu jammy-updates/main amd64 ghostscript amd64 9.55.0~dfsg1-0ubuntu5.6 [49.4 kB]\n",
            "Fetched 16.7 MB in 1s (24.4 MB/s)\n",
            "Selecting previously unselected package fonts-droid-fallback.\n",
            "(Reading database ... 121735 files and directories currently installed.)\n",
            "Preparing to unpack .../0-fonts-droid-fallback_1%3a6.0.1r16-1.1build1_all.deb ...\n",
            "Unpacking fonts-droid-fallback (1:6.0.1r16-1.1build1) ...\n",
            "Selecting previously unselected package poppler-data.\n",
            "Preparing to unpack .../1-poppler-data_0.4.11-1_all.deb ...\n",
            "Unpacking poppler-data (0.4.11-1) ...\n",
            "Selecting previously unselected package fonts-noto-mono.\n",
            "Preparing to unpack .../2-fonts-noto-mono_20201225-1build1_all.deb ...\n",
            "Unpacking fonts-noto-mono (20201225-1build1) ...\n",
            "Selecting previously unselected package fonts-urw-base35.\n",
            "Preparing to unpack .../3-fonts-urw-base35_20200910-1_all.deb ...\n",
            "Unpacking fonts-urw-base35 (20200910-1) ...\n",
            "Selecting previously unselected package libgs9-common.\n",
            "Preparing to unpack .../4-libgs9-common_9.55.0~dfsg1-0ubuntu5.6_all.deb ...\n",
            "Unpacking libgs9-common (9.55.0~dfsg1-0ubuntu5.6) ...\n",
            "Selecting previously unselected package libidn12:amd64.\n",
            "Preparing to unpack .../5-libidn12_1.38-4ubuntu1_amd64.deb ...\n",
            "Unpacking libidn12:amd64 (1.38-4ubuntu1) ...\n",
            "Selecting previously unselected package libijs-0.35:amd64.\n",
            "Preparing to unpack .../6-libijs-0.35_0.35-15build2_amd64.deb ...\n",
            "Unpacking libijs-0.35:amd64 (0.35-15build2) ...\n",
            "Selecting previously unselected package libjbig2dec0:amd64.\n",
            "Preparing to unpack .../7-libjbig2dec0_0.19-3build2_amd64.deb ...\n",
            "Unpacking libjbig2dec0:amd64 (0.19-3build2) ...\n",
            "Selecting previously unselected package libgs9:amd64.\n",
            "Preparing to unpack .../8-libgs9_9.55.0~dfsg1-0ubuntu5.6_amd64.deb ...\n",
            "Unpacking libgs9:amd64 (9.55.0~dfsg1-0ubuntu5.6) ...\n",
            "Selecting previously unselected package ghostscript.\n",
            "Preparing to unpack .../9-ghostscript_9.55.0~dfsg1-0ubuntu5.6_amd64.deb ...\n",
            "Unpacking ghostscript (9.55.0~dfsg1-0ubuntu5.6) ...\n",
            "Setting up fonts-noto-mono (20201225-1build1) ...\n",
            "Setting up libijs-0.35:amd64 (0.35-15build2) ...\n",
            "Setting up fonts-urw-base35 (20200910-1) ...\n",
            "Setting up poppler-data (0.4.11-1) ...\n",
            "Setting up libjbig2dec0:amd64 (0.19-3build2) ...\n",
            "Setting up libidn12:amd64 (1.38-4ubuntu1) ...\n",
            "Setting up fonts-droid-fallback (1:6.0.1r16-1.1build1) ...\n",
            "Setting up libgs9-common (9.55.0~dfsg1-0ubuntu5.6) ...\n",
            "Setting up libgs9:amd64 (9.55.0~dfsg1-0ubuntu5.6) ...\n",
            "Setting up ghostscript (9.55.0~dfsg1-0ubuntu5.6) ...\n",
            "Processing triggers for fontconfig (2.13.1-4.2ubuntu5) ...\n",
            "Processing triggers for libc-bin (2.35-0ubuntu3.4) ...\n",
            "/sbin/ldconfig.real: /usr/local/lib/libtbbmalloc_proxy.so.2 is not a symbolic link\n",
            "\n",
            "/sbin/ldconfig.real: /usr/local/lib/libtbbbind_2_0.so.3 is not a symbolic link\n",
            "\n",
            "/sbin/ldconfig.real: /usr/local/lib/libtbbbind.so.3 is not a symbolic link\n",
            "\n",
            "/sbin/ldconfig.real: /usr/local/lib/libtbbbind_2_5.so.3 is not a symbolic link\n",
            "\n",
            "/sbin/ldconfig.real: /usr/local/lib/libtbbmalloc.so.2 is not a symbolic link\n",
            "\n",
            "/sbin/ldconfig.real: /usr/local/lib/libtbb.so.12 is not a symbolic link\n",
            "\n",
            "Processing triggers for man-db (2.10.2-1) ...\n",
            "Collecting camelot-py\n",
            "  Downloading camelot_py-0.11.0-py3-none-any.whl (40 kB)\n",
            "\u001b[2K     \u001b[90m━━━━━━━━━━━━━━━━━━━━━━━━━━━━━━━━━━━━━━━━\u001b[0m \u001b[32m41.0/41.0 kB\u001b[0m \u001b[31m912.4 kB/s\u001b[0m eta \u001b[36m0:00:00\u001b[0m\n",
            "\u001b[?25hRequirement already satisfied: chardet>=3.0.4 in /usr/local/lib/python3.10/dist-packages (from camelot-py) (5.2.0)\n",
            "Requirement already satisfied: click>=6.7 in /usr/local/lib/python3.10/dist-packages (from camelot-py) (8.1.7)\n",
            "Requirement already satisfied: numpy>=1.13.3 in /usr/local/lib/python3.10/dist-packages (from camelot-py) (1.23.5)\n",
            "Requirement already satisfied: openpyxl>=2.5.8 in /usr/local/lib/python3.10/dist-packages (from camelot-py) (3.1.2)\n",
            "Requirement already satisfied: pandas>=0.23.4 in /usr/local/lib/python3.10/dist-packages (from camelot-py) (1.5.3)\n",
            "Collecting pdfminer.six>=20200726 (from camelot-py)\n",
            "  Downloading pdfminer.six-20231228-py3-none-any.whl (5.6 MB)\n",
            "\u001b[2K     \u001b[90m━━━━━━━━━━━━━━━━━━━━━━━━━━━━━━━━━━━━━━━━\u001b[0m \u001b[32m5.6/5.6 MB\u001b[0m \u001b[31m13.2 MB/s\u001b[0m eta \u001b[36m0:00:00\u001b[0m\n",
            "\u001b[?25hCollecting pypdf>=3.0.0 (from camelot-py)\n",
            "  Downloading pypdf-4.0.0-py3-none-any.whl (283 kB)\n",
            "\u001b[2K     \u001b[90m━━━━━━━━━━━━━━━━━━━━━━━━━━━━━━━━━━━━━━━━\u001b[0m \u001b[32m283.9/283.9 kB\u001b[0m \u001b[31m22.0 MB/s\u001b[0m eta \u001b[36m0:00:00\u001b[0m\n",
            "\u001b[?25hRequirement already satisfied: tabulate>=0.8.9 in /usr/local/lib/python3.10/dist-packages (from camelot-py) (0.9.0)\n",
            "Requirement already satisfied: et-xmlfile in /usr/local/lib/python3.10/dist-packages (from openpyxl>=2.5.8->camelot-py) (1.1.0)\n",
            "Requirement already satisfied: python-dateutil>=2.8.1 in /usr/local/lib/python3.10/dist-packages (from pandas>=0.23.4->camelot-py) (2.8.2)\n",
            "Requirement already satisfied: pytz>=2020.1 in /usr/local/lib/python3.10/dist-packages (from pandas>=0.23.4->camelot-py) (2023.3.post1)\n",
            "Requirement already satisfied: charset-normalizer>=2.0.0 in /usr/local/lib/python3.10/dist-packages (from pdfminer.six>=20200726->camelot-py) (3.3.2)\n",
            "Requirement already satisfied: cryptography>=36.0.0 in /usr/local/lib/python3.10/dist-packages (from pdfminer.six>=20200726->camelot-py) (41.0.7)\n",
            "Requirement already satisfied: cffi>=1.12 in /usr/local/lib/python3.10/dist-packages (from cryptography>=36.0.0->pdfminer.six>=20200726->camelot-py) (1.16.0)\n",
            "Requirement already satisfied: six>=1.5 in /usr/local/lib/python3.10/dist-packages (from python-dateutil>=2.8.1->pandas>=0.23.4->camelot-py) (1.16.0)\n",
            "Requirement already satisfied: pycparser in /usr/local/lib/python3.10/dist-packages (from cffi>=1.12->cryptography>=36.0.0->pdfminer.six>=20200726->camelot-py) (2.21)\n",
            "Installing collected packages: pypdf, pdfminer.six, camelot-py\n",
            "Successfully installed camelot-py-0.11.0 pdfminer.six-20231228 pypdf-4.0.0\n",
            "Collecting ghostscript\n",
            "  Downloading ghostscript-0.7-py2.py3-none-any.whl (25 kB)\n",
            "Requirement already satisfied: setuptools>=38.6.0 in /usr/local/lib/python3.10/dist-packages (from ghostscript) (67.7.2)\n",
            "Installing collected packages: ghostscript\n",
            "Successfully installed ghostscript-0.7\n"
          ]
        }
      ]
    },
    {
      "cell_type": "code",
      "source": [
        "import camelot\n",
        "\n",
        "pdf_path = '/content/invoice (1).pdf'\n",
        "\n",
        "tables = camelot.read_pdf(pdf_path, flavor='lattice', pages='all')\n",
        "\n",
        "# Display remaining tables\n",
        "for i, table in enumerate(tables):\n",
        "    print(f\"Table {i + 1}:\\n{table.df}\\n\")\n",
        "table.df"
      ],
      "metadata": {
        "colab": {
          "base_uri": "https://localhost:8080/",
          "height": 781
        },
        "id": "5opUkIJLU9El",
        "outputId": "22b1c562-d155-43b7-f584-c1086c1d13a6"
      },
      "execution_count": null,
      "outputs": [
        {
          "output_type": "stream",
          "name": "stdout",
          "text": [
            "Table 1:\n",
            "                                                   0  \\\n",
            "0                                            Sl.\\nNo   \n",
            "1                                                  1   \n",
            "2                                             TOTAL:   \n",
            "3     Amount in Words:\\nTwo Hundred Eighty-four only   \n",
            "4  For VRP TELEMATICS PRIVATE LIMITED:\\nAuthorize...   \n",
            "\n",
            "                                                   1            2    3  \\\n",
            "0                                        Description  Unit\\nPrice  Qty   \n",
            "1  YouBella Jewellery Earrings for women Crystal ...      ₹275.72    1   \n",
            "2                                                                        \n",
            "3                                                                        \n",
            "4                                                                        \n",
            "\n",
            "             4                  5          6             7              8  \n",
            "0  Net\\nAmount          Tax\\nRate  Tax\\nType   Tax\\nAmount  Total\\nAmount  \n",
            "1               ₹275.72 1.5% CGST  1.5% SGST  ₹4.14\\n₹4.14        ₹284.00  \n",
            "2                                                           ₹8.28 ₹284.00  \n",
            "3                                                                          \n",
            "4                                                                          \n",
            "\n"
          ]
        },
        {
          "output_type": "execute_result",
          "data": {
            "text/plain": [
              "                                                   0  \\\n",
              "0                                            Sl.\\nNo   \n",
              "1                                                  1   \n",
              "2                                             TOTAL:   \n",
              "3     Amount in Words:\\nTwo Hundred Eighty-four only   \n",
              "4  For VRP TELEMATICS PRIVATE LIMITED:\\nAuthorize...   \n",
              "\n",
              "                                                   1            2    3  \\\n",
              "0                                        Description  Unit\\nPrice  Qty   \n",
              "1  YouBella Jewellery Earrings for women Crystal ...      ₹275.72    1   \n",
              "2                                                                        \n",
              "3                                                                        \n",
              "4                                                                        \n",
              "\n",
              "             4                  5          6             7              8  \n",
              "0  Net\\nAmount          Tax\\nRate  Tax\\nType   Tax\\nAmount  Total\\nAmount  \n",
              "1               ₹275.72 1.5% CGST  1.5% SGST  ₹4.14\\n₹4.14        ₹284.00  \n",
              "2                                                           ₹8.28 ₹284.00  \n",
              "3                                                                          \n",
              "4                                                                          "
            ],
            "text/html": [
              "\n",
              "  <div id=\"df-af28b83e-1ca2-4535-a1e2-f46ca8d4bcbf\" class=\"colab-df-container\">\n",
              "    <div>\n",
              "<style scoped>\n",
              "    .dataframe tbody tr th:only-of-type {\n",
              "        vertical-align: middle;\n",
              "    }\n",
              "\n",
              "    .dataframe tbody tr th {\n",
              "        vertical-align: top;\n",
              "    }\n",
              "\n",
              "    .dataframe thead th {\n",
              "        text-align: right;\n",
              "    }\n",
              "</style>\n",
              "<table border=\"1\" class=\"dataframe\">\n",
              "  <thead>\n",
              "    <tr style=\"text-align: right;\">\n",
              "      <th></th>\n",
              "      <th>0</th>\n",
              "      <th>1</th>\n",
              "      <th>2</th>\n",
              "      <th>3</th>\n",
              "      <th>4</th>\n",
              "      <th>5</th>\n",
              "      <th>6</th>\n",
              "      <th>7</th>\n",
              "      <th>8</th>\n",
              "    </tr>\n",
              "  </thead>\n",
              "  <tbody>\n",
              "    <tr>\n",
              "      <th>0</th>\n",
              "      <td>Sl.\\nNo</td>\n",
              "      <td>Description</td>\n",
              "      <td>Unit\\nPrice</td>\n",
              "      <td>Qty</td>\n",
              "      <td>Net\\nAmount</td>\n",
              "      <td>Tax\\nRate</td>\n",
              "      <td>Tax\\nType</td>\n",
              "      <td>Tax\\nAmount</td>\n",
              "      <td>Total\\nAmount</td>\n",
              "    </tr>\n",
              "    <tr>\n",
              "      <th>1</th>\n",
              "      <td>1</td>\n",
              "      <td>YouBella Jewellery Earrings for women Crystal ...</td>\n",
              "      <td>₹275.72</td>\n",
              "      <td>1</td>\n",
              "      <td></td>\n",
              "      <td>₹275.72 1.5% CGST</td>\n",
              "      <td>1.5% SGST</td>\n",
              "      <td>₹4.14\\n₹4.14</td>\n",
              "      <td>₹284.00</td>\n",
              "    </tr>\n",
              "    <tr>\n",
              "      <th>2</th>\n",
              "      <td>TOTAL:</td>\n",
              "      <td></td>\n",
              "      <td></td>\n",
              "      <td></td>\n",
              "      <td></td>\n",
              "      <td></td>\n",
              "      <td></td>\n",
              "      <td></td>\n",
              "      <td>₹8.28 ₹284.00</td>\n",
              "    </tr>\n",
              "    <tr>\n",
              "      <th>3</th>\n",
              "      <td>Amount in Words:\\nTwo Hundred Eighty-four only</td>\n",
              "      <td></td>\n",
              "      <td></td>\n",
              "      <td></td>\n",
              "      <td></td>\n",
              "      <td></td>\n",
              "      <td></td>\n",
              "      <td></td>\n",
              "      <td></td>\n",
              "    </tr>\n",
              "    <tr>\n",
              "      <th>4</th>\n",
              "      <td>For VRP TELEMATICS PRIVATE LIMITED:\\nAuthorize...</td>\n",
              "      <td></td>\n",
              "      <td></td>\n",
              "      <td></td>\n",
              "      <td></td>\n",
              "      <td></td>\n",
              "      <td></td>\n",
              "      <td></td>\n",
              "      <td></td>\n",
              "    </tr>\n",
              "  </tbody>\n",
              "</table>\n",
              "</div>\n",
              "    <div class=\"colab-df-buttons\">\n",
              "\n",
              "  <div class=\"colab-df-container\">\n",
              "    <button class=\"colab-df-convert\" onclick=\"convertToInteractive('df-af28b83e-1ca2-4535-a1e2-f46ca8d4bcbf')\"\n",
              "            title=\"Convert this dataframe to an interactive table.\"\n",
              "            style=\"display:none;\">\n",
              "\n",
              "  <svg xmlns=\"http://www.w3.org/2000/svg\" height=\"24px\" viewBox=\"0 -960 960 960\">\n",
              "    <path d=\"M120-120v-720h720v720H120Zm60-500h600v-160H180v160Zm220 220h160v-160H400v160Zm0 220h160v-160H400v160ZM180-400h160v-160H180v160Zm440 0h160v-160H620v160ZM180-180h160v-160H180v160Zm440 0h160v-160H620v160Z\"/>\n",
              "  </svg>\n",
              "    </button>\n",
              "\n",
              "  <style>\n",
              "    .colab-df-container {\n",
              "      display:flex;\n",
              "      gap: 12px;\n",
              "    }\n",
              "\n",
              "    .colab-df-convert {\n",
              "      background-color: #E8F0FE;\n",
              "      border: none;\n",
              "      border-radius: 50%;\n",
              "      cursor: pointer;\n",
              "      display: none;\n",
              "      fill: #1967D2;\n",
              "      height: 32px;\n",
              "      padding: 0 0 0 0;\n",
              "      width: 32px;\n",
              "    }\n",
              "\n",
              "    .colab-df-convert:hover {\n",
              "      background-color: #E2EBFA;\n",
              "      box-shadow: 0px 1px 2px rgba(60, 64, 67, 0.3), 0px 1px 3px 1px rgba(60, 64, 67, 0.15);\n",
              "      fill: #174EA6;\n",
              "    }\n",
              "\n",
              "    .colab-df-buttons div {\n",
              "      margin-bottom: 4px;\n",
              "    }\n",
              "\n",
              "    [theme=dark] .colab-df-convert {\n",
              "      background-color: #3B4455;\n",
              "      fill: #D2E3FC;\n",
              "    }\n",
              "\n",
              "    [theme=dark] .colab-df-convert:hover {\n",
              "      background-color: #434B5C;\n",
              "      box-shadow: 0px 1px 3px 1px rgba(0, 0, 0, 0.15);\n",
              "      filter: drop-shadow(0px 1px 2px rgba(0, 0, 0, 0.3));\n",
              "      fill: #FFFFFF;\n",
              "    }\n",
              "  </style>\n",
              "\n",
              "    <script>\n",
              "      const buttonEl =\n",
              "        document.querySelector('#df-af28b83e-1ca2-4535-a1e2-f46ca8d4bcbf button.colab-df-convert');\n",
              "      buttonEl.style.display =\n",
              "        google.colab.kernel.accessAllowed ? 'block' : 'none';\n",
              "\n",
              "      async function convertToInteractive(key) {\n",
              "        const element = document.querySelector('#df-af28b83e-1ca2-4535-a1e2-f46ca8d4bcbf');\n",
              "        const dataTable =\n",
              "          await google.colab.kernel.invokeFunction('convertToInteractive',\n",
              "                                                    [key], {});\n",
              "        if (!dataTable) return;\n",
              "\n",
              "        const docLinkHtml = 'Like what you see? Visit the ' +\n",
              "          '<a target=\"_blank\" href=https://colab.research.google.com/notebooks/data_table.ipynb>data table notebook</a>'\n",
              "          + ' to learn more about interactive tables.';\n",
              "        element.innerHTML = '';\n",
              "        dataTable['output_type'] = 'display_data';\n",
              "        await google.colab.output.renderOutput(dataTable, element);\n",
              "        const docLink = document.createElement('div');\n",
              "        docLink.innerHTML = docLinkHtml;\n",
              "        element.appendChild(docLink);\n",
              "      }\n",
              "    </script>\n",
              "  </div>\n",
              "\n",
              "\n",
              "<div id=\"df-6617ffa7-a9be-47c0-aa21-8bf65a823388\">\n",
              "  <button class=\"colab-df-quickchart\" onclick=\"quickchart('df-6617ffa7-a9be-47c0-aa21-8bf65a823388')\"\n",
              "            title=\"Suggest charts\"\n",
              "            style=\"display:none;\">\n",
              "\n",
              "<svg xmlns=\"http://www.w3.org/2000/svg\" height=\"24px\"viewBox=\"0 0 24 24\"\n",
              "     width=\"24px\">\n",
              "    <g>\n",
              "        <path d=\"M19 3H5c-1.1 0-2 .9-2 2v14c0 1.1.9 2 2 2h14c1.1 0 2-.9 2-2V5c0-1.1-.9-2-2-2zM9 17H7v-7h2v7zm4 0h-2V7h2v10zm4 0h-2v-4h2v4z\"/>\n",
              "    </g>\n",
              "</svg>\n",
              "  </button>\n",
              "\n",
              "<style>\n",
              "  .colab-df-quickchart {\n",
              "      --bg-color: #E8F0FE;\n",
              "      --fill-color: #1967D2;\n",
              "      --hover-bg-color: #E2EBFA;\n",
              "      --hover-fill-color: #174EA6;\n",
              "      --disabled-fill-color: #AAA;\n",
              "      --disabled-bg-color: #DDD;\n",
              "  }\n",
              "\n",
              "  [theme=dark] .colab-df-quickchart {\n",
              "      --bg-color: #3B4455;\n",
              "      --fill-color: #D2E3FC;\n",
              "      --hover-bg-color: #434B5C;\n",
              "      --hover-fill-color: #FFFFFF;\n",
              "      --disabled-bg-color: #3B4455;\n",
              "      --disabled-fill-color: #666;\n",
              "  }\n",
              "\n",
              "  .colab-df-quickchart {\n",
              "    background-color: var(--bg-color);\n",
              "    border: none;\n",
              "    border-radius: 50%;\n",
              "    cursor: pointer;\n",
              "    display: none;\n",
              "    fill: var(--fill-color);\n",
              "    height: 32px;\n",
              "    padding: 0;\n",
              "    width: 32px;\n",
              "  }\n",
              "\n",
              "  .colab-df-quickchart:hover {\n",
              "    background-color: var(--hover-bg-color);\n",
              "    box-shadow: 0 1px 2px rgba(60, 64, 67, 0.3), 0 1px 3px 1px rgba(60, 64, 67, 0.15);\n",
              "    fill: var(--button-hover-fill-color);\n",
              "  }\n",
              "\n",
              "  .colab-df-quickchart-complete:disabled,\n",
              "  .colab-df-quickchart-complete:disabled:hover {\n",
              "    background-color: var(--disabled-bg-color);\n",
              "    fill: var(--disabled-fill-color);\n",
              "    box-shadow: none;\n",
              "  }\n",
              "\n",
              "  .colab-df-spinner {\n",
              "    border: 2px solid var(--fill-color);\n",
              "    border-color: transparent;\n",
              "    border-bottom-color: var(--fill-color);\n",
              "    animation:\n",
              "      spin 1s steps(1) infinite;\n",
              "  }\n",
              "\n",
              "  @keyframes spin {\n",
              "    0% {\n",
              "      border-color: transparent;\n",
              "      border-bottom-color: var(--fill-color);\n",
              "      border-left-color: var(--fill-color);\n",
              "    }\n",
              "    20% {\n",
              "      border-color: transparent;\n",
              "      border-left-color: var(--fill-color);\n",
              "      border-top-color: var(--fill-color);\n",
              "    }\n",
              "    30% {\n",
              "      border-color: transparent;\n",
              "      border-left-color: var(--fill-color);\n",
              "      border-top-color: var(--fill-color);\n",
              "      border-right-color: var(--fill-color);\n",
              "    }\n",
              "    40% {\n",
              "      border-color: transparent;\n",
              "      border-right-color: var(--fill-color);\n",
              "      border-top-color: var(--fill-color);\n",
              "    }\n",
              "    60% {\n",
              "      border-color: transparent;\n",
              "      border-right-color: var(--fill-color);\n",
              "    }\n",
              "    80% {\n",
              "      border-color: transparent;\n",
              "      border-right-color: var(--fill-color);\n",
              "      border-bottom-color: var(--fill-color);\n",
              "    }\n",
              "    90% {\n",
              "      border-color: transparent;\n",
              "      border-bottom-color: var(--fill-color);\n",
              "    }\n",
              "  }\n",
              "</style>\n",
              "\n",
              "  <script>\n",
              "    async function quickchart(key) {\n",
              "      const quickchartButtonEl =\n",
              "        document.querySelector('#' + key + ' button');\n",
              "      quickchartButtonEl.disabled = true;  // To prevent multiple clicks.\n",
              "      quickchartButtonEl.classList.add('colab-df-spinner');\n",
              "      try {\n",
              "        const charts = await google.colab.kernel.invokeFunction(\n",
              "            'suggestCharts', [key], {});\n",
              "      } catch (error) {\n",
              "        console.error('Error during call to suggestCharts:', error);\n",
              "      }\n",
              "      quickchartButtonEl.classList.remove('colab-df-spinner');\n",
              "      quickchartButtonEl.classList.add('colab-df-quickchart-complete');\n",
              "    }\n",
              "    (() => {\n",
              "      let quickchartButtonEl =\n",
              "        document.querySelector('#df-6617ffa7-a9be-47c0-aa21-8bf65a823388 button');\n",
              "      quickchartButtonEl.style.display =\n",
              "        google.colab.kernel.accessAllowed ? 'block' : 'none';\n",
              "    })();\n",
              "  </script>\n",
              "</div>\n",
              "\n",
              "    </div>\n",
              "  </div>\n"
            ]
          },
          "metadata": {},
          "execution_count": 29
        }
      ]
    },
    {
      "cell_type": "code",
      "source": [
        "start = 'S'\n",
        "end = 'TOTAL:'\n",
        "\n",
        "extracted_tables = []\n",
        "\n",
        "for i, table in enumerate(tables):\n",
        "    # Finding the index of the row containing the start keyword\n",
        "    start_indices = table.df.index[table.df.apply(lambda row: start in ' '.join(map(str, row)), axis=1)].tolist()\n",
        "\n",
        "    if start_indices:\n",
        "        start_index = start_indices[0]\n",
        "\n",
        "        # Finding the index of the row containing the end keyword\n",
        "        end_indices = table.df.index[table.df.apply(lambda row: end in ' '.join(map(str, row)), axis=1)].tolist()\n",
        "\n",
        "        if end_indices:\n",
        "            end_index = end_indices[0]\n",
        "\n",
        "            # Extract rows between the start and the end\n",
        "            extracted_row = table.df.loc[start_index:end_index - 1]\n",
        "\n",
        "            # Make the first row as column headers\n",
        "            extracted_row.columns = extracted_row.iloc[0]\n",
        "\n",
        "            # Append the extracted DataFrame to the list\n",
        "            extracted_tables.append(extracted_row.iloc[1:].reset_index(drop=True))\n",
        "\n",
        "            # Display the extracted row\n",
        "            print(f\"Table {i + 1}, Extracted Row:\\n{extracted_row}\\n\")\n",
        "        else:\n",
        "            print(f\"Table {i + 1}, End keyword '{end}' not found.\")\n",
        "    else:\n",
        "        print(f\"Table {i + 1}, Start keyword '{start}' not found.\")\n",
        "\n",
        "# Display the list of extracted DataFrames\n",
        "for i, extracted_table in enumerate(extracted_tables):\n",
        "    print(f\"Extracted Table {i + 1}:\\n{extracted_table}\\n\")\n",
        "extracted_table"
      ],
      "metadata": {
        "colab": {
          "base_uri": "https://localhost:8080/",
          "height": 427
        },
        "id": "f-FoI_GYCS5j",
        "outputId": "920a4ec8-8679-45ae-c403-57db48567802"
      },
      "execution_count": null,
      "outputs": [
        {
          "output_type": "stream",
          "name": "stdout",
          "text": [
            "Table 1, Extracted Row:\n",
            "0  Sl.\\nNo                                        Description  Unit\\nPrice  \\\n",
            "0  Sl.\\nNo                                        Description  Unit\\nPrice   \n",
            "1        1  YouBella Jewellery Earrings for women Crystal ...      ₹275.72   \n",
            "\n",
            "0  Qty  Net\\nAmount          Tax\\nRate  Tax\\nType   Tax\\nAmount  Total\\nAmount  \n",
            "0  Qty  Net\\nAmount          Tax\\nRate  Tax\\nType   Tax\\nAmount  Total\\nAmount  \n",
            "1    1               ₹275.72 1.5% CGST  1.5% SGST  ₹4.14\\n₹4.14        ₹284.00  \n",
            "\n",
            "Extracted Table 1:\n",
            "0 Sl.\\nNo                                        Description Unit\\nPrice Qty  \\\n",
            "0       1  YouBella Jewellery Earrings for women Crystal ...     ₹275.72   1   \n",
            "\n",
            "0 Net\\nAmount          Tax\\nRate  Tax\\nType   Tax\\nAmount Total\\nAmount  \n",
            "0              ₹275.72 1.5% CGST  1.5% SGST  ₹4.14\\n₹4.14       ₹284.00  \n",
            "\n"
          ]
        },
        {
          "output_type": "execute_result",
          "data": {
            "text/plain": [
              "0 Sl.\\nNo                                        Description Unit\\nPrice Qty  \\\n",
              "0       1  YouBella Jewellery Earrings for women Crystal ...     ₹275.72   1   \n",
              "\n",
              "0 Net\\nAmount          Tax\\nRate  Tax\\nType   Tax\\nAmount Total\\nAmount  \n",
              "0              ₹275.72 1.5% CGST  1.5% SGST  ₹4.14\\n₹4.14       ₹284.00  "
            ],
            "text/html": [
              "\n",
              "  <div id=\"df-ec8772c9-f04f-400c-8a6b-ef782b823517\" class=\"colab-df-container\">\n",
              "    <div>\n",
              "<style scoped>\n",
              "    .dataframe tbody tr th:only-of-type {\n",
              "        vertical-align: middle;\n",
              "    }\n",
              "\n",
              "    .dataframe tbody tr th {\n",
              "        vertical-align: top;\n",
              "    }\n",
              "\n",
              "    .dataframe thead th {\n",
              "        text-align: right;\n",
              "    }\n",
              "</style>\n",
              "<table border=\"1\" class=\"dataframe\">\n",
              "  <thead>\n",
              "    <tr style=\"text-align: right;\">\n",
              "      <th></th>\n",
              "      <th>Sl.\\nNo</th>\n",
              "      <th>Description</th>\n",
              "      <th>Unit\\nPrice</th>\n",
              "      <th>Qty</th>\n",
              "      <th>Net\\nAmount</th>\n",
              "      <th>Tax\\nRate</th>\n",
              "      <th>Tax\\nType</th>\n",
              "      <th>Tax\\nAmount</th>\n",
              "      <th>Total\\nAmount</th>\n",
              "    </tr>\n",
              "  </thead>\n",
              "  <tbody>\n",
              "    <tr>\n",
              "      <th>0</th>\n",
              "      <td>1</td>\n",
              "      <td>YouBella Jewellery Earrings for women Crystal ...</td>\n",
              "      <td>₹275.72</td>\n",
              "      <td>1</td>\n",
              "      <td></td>\n",
              "      <td>₹275.72 1.5% CGST</td>\n",
              "      <td>1.5% SGST</td>\n",
              "      <td>₹4.14\\n₹4.14</td>\n",
              "      <td>₹284.00</td>\n",
              "    </tr>\n",
              "  </tbody>\n",
              "</table>\n",
              "</div>\n",
              "    <div class=\"colab-df-buttons\">\n",
              "\n",
              "  <div class=\"colab-df-container\">\n",
              "    <button class=\"colab-df-convert\" onclick=\"convertToInteractive('df-ec8772c9-f04f-400c-8a6b-ef782b823517')\"\n",
              "            title=\"Convert this dataframe to an interactive table.\"\n",
              "            style=\"display:none;\">\n",
              "\n",
              "  <svg xmlns=\"http://www.w3.org/2000/svg\" height=\"24px\" viewBox=\"0 -960 960 960\">\n",
              "    <path d=\"M120-120v-720h720v720H120Zm60-500h600v-160H180v160Zm220 220h160v-160H400v160Zm0 220h160v-160H400v160ZM180-400h160v-160H180v160Zm440 0h160v-160H620v160ZM180-180h160v-160H180v160Zm440 0h160v-160H620v160Z\"/>\n",
              "  </svg>\n",
              "    </button>\n",
              "\n",
              "  <style>\n",
              "    .colab-df-container {\n",
              "      display:flex;\n",
              "      gap: 12px;\n",
              "    }\n",
              "\n",
              "    .colab-df-convert {\n",
              "      background-color: #E8F0FE;\n",
              "      border: none;\n",
              "      border-radius: 50%;\n",
              "      cursor: pointer;\n",
              "      display: none;\n",
              "      fill: #1967D2;\n",
              "      height: 32px;\n",
              "      padding: 0 0 0 0;\n",
              "      width: 32px;\n",
              "    }\n",
              "\n",
              "    .colab-df-convert:hover {\n",
              "      background-color: #E2EBFA;\n",
              "      box-shadow: 0px 1px 2px rgba(60, 64, 67, 0.3), 0px 1px 3px 1px rgba(60, 64, 67, 0.15);\n",
              "      fill: #174EA6;\n",
              "    }\n",
              "\n",
              "    .colab-df-buttons div {\n",
              "      margin-bottom: 4px;\n",
              "    }\n",
              "\n",
              "    [theme=dark] .colab-df-convert {\n",
              "      background-color: #3B4455;\n",
              "      fill: #D2E3FC;\n",
              "    }\n",
              "\n",
              "    [theme=dark] .colab-df-convert:hover {\n",
              "      background-color: #434B5C;\n",
              "      box-shadow: 0px 1px 3px 1px rgba(0, 0, 0, 0.15);\n",
              "      filter: drop-shadow(0px 1px 2px rgba(0, 0, 0, 0.3));\n",
              "      fill: #FFFFFF;\n",
              "    }\n",
              "  </style>\n",
              "\n",
              "    <script>\n",
              "      const buttonEl =\n",
              "        document.querySelector('#df-ec8772c9-f04f-400c-8a6b-ef782b823517 button.colab-df-convert');\n",
              "      buttonEl.style.display =\n",
              "        google.colab.kernel.accessAllowed ? 'block' : 'none';\n",
              "\n",
              "      async function convertToInteractive(key) {\n",
              "        const element = document.querySelector('#df-ec8772c9-f04f-400c-8a6b-ef782b823517');\n",
              "        const dataTable =\n",
              "          await google.colab.kernel.invokeFunction('convertToInteractive',\n",
              "                                                    [key], {});\n",
              "        if (!dataTable) return;\n",
              "\n",
              "        const docLinkHtml = 'Like what you see? Visit the ' +\n",
              "          '<a target=\"_blank\" href=https://colab.research.google.com/notebooks/data_table.ipynb>data table notebook</a>'\n",
              "          + ' to learn more about interactive tables.';\n",
              "        element.innerHTML = '';\n",
              "        dataTable['output_type'] = 'display_data';\n",
              "        await google.colab.output.renderOutput(dataTable, element);\n",
              "        const docLink = document.createElement('div');\n",
              "        docLink.innerHTML = docLinkHtml;\n",
              "        element.appendChild(docLink);\n",
              "      }\n",
              "    </script>\n",
              "  </div>\n",
              "\n",
              "\n",
              "  <div id=\"id_36a8922f-f1b7-4013-946f-1ed22cacad32\">\n",
              "    <style>\n",
              "      .colab-df-generate {\n",
              "        background-color: #E8F0FE;\n",
              "        border: none;\n",
              "        border-radius: 50%;\n",
              "        cursor: pointer;\n",
              "        display: none;\n",
              "        fill: #1967D2;\n",
              "        height: 32px;\n",
              "        padding: 0 0 0 0;\n",
              "        width: 32px;\n",
              "      }\n",
              "\n",
              "      .colab-df-generate:hover {\n",
              "        background-color: #E2EBFA;\n",
              "        box-shadow: 0px 1px 2px rgba(60, 64, 67, 0.3), 0px 1px 3px 1px rgba(60, 64, 67, 0.15);\n",
              "        fill: #174EA6;\n",
              "      }\n",
              "\n",
              "      [theme=dark] .colab-df-generate {\n",
              "        background-color: #3B4455;\n",
              "        fill: #D2E3FC;\n",
              "      }\n",
              "\n",
              "      [theme=dark] .colab-df-generate:hover {\n",
              "        background-color: #434B5C;\n",
              "        box-shadow: 0px 1px 3px 1px rgba(0, 0, 0, 0.15);\n",
              "        filter: drop-shadow(0px 1px 2px rgba(0, 0, 0, 0.3));\n",
              "        fill: #FFFFFF;\n",
              "      }\n",
              "    </style>\n",
              "    <button class=\"colab-df-generate\" onclick=\"generateWithVariable('extracted_table')\"\n",
              "            title=\"Generate code using this dataframe.\"\n",
              "            style=\"display:none;\">\n",
              "\n",
              "  <svg xmlns=\"http://www.w3.org/2000/svg\" height=\"24px\"viewBox=\"0 0 24 24\"\n",
              "       width=\"24px\">\n",
              "    <path d=\"M7,19H8.4L18.45,9,17,7.55,7,17.6ZM5,21V16.75L18.45,3.32a2,2,0,0,1,2.83,0l1.4,1.43a1.91,1.91,0,0,1,.58,1.4,1.91,1.91,0,0,1-.58,1.4L9.25,21ZM18.45,9,17,7.55Zm-12,3A5.31,5.31,0,0,0,4.9,8.1,5.31,5.31,0,0,0,1,6.5,5.31,5.31,0,0,0,4.9,4.9,5.31,5.31,0,0,0,6.5,1,5.31,5.31,0,0,0,8.1,4.9,5.31,5.31,0,0,0,12,6.5,5.46,5.46,0,0,0,6.5,12Z\"/>\n",
              "  </svg>\n",
              "    </button>\n",
              "    <script>\n",
              "      (() => {\n",
              "      const buttonEl =\n",
              "        document.querySelector('#id_36a8922f-f1b7-4013-946f-1ed22cacad32 button.colab-df-generate');\n",
              "      buttonEl.style.display =\n",
              "        google.colab.kernel.accessAllowed ? 'block' : 'none';\n",
              "\n",
              "      buttonEl.onclick = () => {\n",
              "        google.colab.notebook.generateWithVariable('extracted_table');\n",
              "      }\n",
              "      })();\n",
              "    </script>\n",
              "  </div>\n",
              "\n",
              "    </div>\n",
              "  </div>\n"
            ]
          },
          "metadata": {},
          "execution_count": 30
        }
      ]
    },
    {
      "cell_type": "markdown",
      "source": [
        "# Exporting to excel"
      ],
      "metadata": {
        "id": "_5auUW6y9IMa"
      }
    },
    {
      "cell_type": "code",
      "source": [
        "!pip install xlsxwriter\n",
        "excel_file_path = 'Amazon_invoice_final.xlsx'\n",
        "\n",
        "with pd.ExcelWriter(excel_file_path, engine='xlsxwriter') as writer:\n",
        "    # Write each DataFrame to a different sheet\n",
        "    merged_df.to_excel(writer, sheet_name='order details', index=False)\n",
        "    for i,tables in enumerate(extracted_tables):\n",
        "      sheet_name = f'Invoice {i + 1}'\n",
        "      tables.to_excel(writer, sheet_name=sheet_name, index=False)\n",
        "    print('success')"
      ],
      "metadata": {
        "colab": {
          "base_uri": "https://localhost:8080/"
        },
        "id": "8M4E-xWjZNNR",
        "outputId": "545ed5e8-4966-48df-ac6a-1e4edbce14d3"
      },
      "execution_count": null,
      "outputs": [
        {
          "output_type": "stream",
          "name": "stdout",
          "text": [
            "Collecting xlsxwriter\n",
            "  Downloading XlsxWriter-3.1.9-py3-none-any.whl (154 kB)\n",
            "\u001b[?25l     \u001b[90m━━━━━━━━━━━━━━━━━━━━━━━━━━━━━━━━━━━━━━━━\u001b[0m \u001b[32m0.0/154.8 kB\u001b[0m \u001b[31m?\u001b[0m eta \u001b[36m-:--:--\u001b[0m\r\u001b[2K     \u001b[91m━━━━━━━━━━━━━━━━━━━━━━━━━━━━━\u001b[0m\u001b[90m╺\u001b[0m\u001b[90m━━━━━━━━━━\u001b[0m \u001b[32m112.6/154.8 kB\u001b[0m \u001b[31m3.2 MB/s\u001b[0m eta \u001b[36m0:00:01\u001b[0m\r\u001b[2K     \u001b[90m━━━━━━━━━━━━━━━━━━━━━━━━━━━━━━━━━━━━━━━━\u001b[0m \u001b[32m154.8/154.8 kB\u001b[0m \u001b[31m3.0 MB/s\u001b[0m eta \u001b[36m0:00:00\u001b[0m\n",
            "\u001b[?25hInstalling collected packages: xlsxwriter\n",
            "Successfully installed xlsxwriter-3.1.9\n",
            "success\n"
          ]
        }
      ]
    }
  ]
}
